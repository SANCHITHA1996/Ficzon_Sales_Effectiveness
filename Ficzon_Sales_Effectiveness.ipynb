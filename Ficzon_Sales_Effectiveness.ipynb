{
 "cells": [
  {
   "cell_type": "code",
   "execution_count": 1,
   "metadata": {},
   "outputs": [],
   "source": [
    "import numpy as np\n",
    "from pandas import Series,DataFrame\n",
    "import pymysql\n",
    "import pandas as pd\n",
    "import matplotlib.pyplot as plt\n",
    "import matplotlib.pylab as pylab\n",
    "import seaborn as sns\n",
    "from sqlalchemy import create_engine\n",
    "from sklearn.preprocessing import LabelEncoder\n",
    "from sklearn.model_selection import train_test_split\n",
    "from sklearn.metrics import confusion_matrix,classification_report,accuracy_score\n",
    "from datetime import datetime"
   ]
  },
  {
   "cell_type": "code",
   "execution_count": 2,
   "metadata": {},
   "outputs": [
    {
     "name": "stdout",
     "output_type": "stream",
     "text": [
      "<class 'pandas.core.frame.DataFrame'>\n",
      "RangeIndex: 7422 entries, 0 to 7421\n",
      "Data columns (total 9 columns):\n",
      " #   Column         Non-Null Count  Dtype  \n",
      "---  ------         --------------  -----  \n",
      " 0   Created        7422 non-null   object \n",
      " 1   Product_ID     7364 non-null   float64\n",
      " 2   Source         7405 non-null   object \n",
      " 3   Mobile         5612 non-null   object \n",
      " 4   EMAIL          7422 non-null   object \n",
      " 5   Sales_Agent    7399 non-null   object \n",
      " 6   Location       7364 non-null   object \n",
      " 7   Delivery_Mode  7422 non-null   object \n",
      " 8   Status         7422 non-null   object \n",
      "dtypes: float64(1), object(8)\n",
      "memory usage: 522.0+ KB\n"
     ]
    }
   ],
   "source": [
    "Sales_Data= pd.read_csv('sales-data.csv')\n",
    "\n",
    "# Let's get a glimpse at the data\n",
    "Sales_Data.info()"
   ]
  },
  {
   "cell_type": "code",
   "execution_count": 3,
   "metadata": {},
   "outputs": [
    {
     "name": "stdout",
     "output_type": "stream",
     "text": [
      "Sales_Data.shape\n"
     ]
    }
   ],
   "source": [
    "print('Sales_Data.shape')"
   ]
  },
  {
   "cell_type": "code",
   "execution_count": 136,
   "metadata": {},
   "outputs": [
    {
     "data": {
      "text/plain": [
       "(7422, 21)"
      ]
     },
     "execution_count": 136,
     "metadata": {},
     "output_type": "execute_result"
    }
   ],
   "source": [
    "Sales_Data.shape"
   ]
  },
  {
   "cell_type": "code",
   "execution_count": 4,
   "metadata": {},
   "outputs": [
    {
     "data": {
      "text/html": [
       "<div>\n",
       "<style scoped>\n",
       "    .dataframe tbody tr th:only-of-type {\n",
       "        vertical-align: middle;\n",
       "    }\n",
       "\n",
       "    .dataframe tbody tr th {\n",
       "        vertical-align: top;\n",
       "    }\n",
       "\n",
       "    .dataframe thead th {\n",
       "        text-align: right;\n",
       "    }\n",
       "</style>\n",
       "<table border=\"1\" class=\"dataframe\">\n",
       "  <thead>\n",
       "    <tr style=\"text-align: right;\">\n",
       "      <th></th>\n",
       "      <th>Created</th>\n",
       "      <th>Product_ID</th>\n",
       "      <th>Source</th>\n",
       "      <th>Mobile</th>\n",
       "      <th>EMAIL</th>\n",
       "      <th>Sales_Agent</th>\n",
       "      <th>Location</th>\n",
       "      <th>Delivery_Mode</th>\n",
       "      <th>Status</th>\n",
       "    </tr>\n",
       "  </thead>\n",
       "  <tbody>\n",
       "    <tr>\n",
       "      <th>0</th>\n",
       "      <td>14/11/18 10:05</td>\n",
       "      <td>NaN</td>\n",
       "      <td>Website</td>\n",
       "      <td>984XXXXXXX</td>\n",
       "      <td>aXXXXXXX@gmail.com</td>\n",
       "      <td>Sales-Agent-11</td>\n",
       "      <td>NaN</td>\n",
       "      <td>Mode-5</td>\n",
       "      <td>Open</td>\n",
       "    </tr>\n",
       "    <tr>\n",
       "      <th>1</th>\n",
       "      <td>14/11/18 9:22</td>\n",
       "      <td>NaN</td>\n",
       "      <td>Website</td>\n",
       "      <td>XXXXXXX</td>\n",
       "      <td>#VALUE!</td>\n",
       "      <td>Sales-Agent-10</td>\n",
       "      <td>NaN</td>\n",
       "      <td>Mode-5</td>\n",
       "      <td>Open</td>\n",
       "    </tr>\n",
       "    <tr>\n",
       "      <th>2</th>\n",
       "      <td>14/11/18 9:21</td>\n",
       "      <td>NaN</td>\n",
       "      <td>Website</td>\n",
       "      <td>XXXXXXX</td>\n",
       "      <td>dXXXXXXX@yahoo.com</td>\n",
       "      <td>Sales-Agent-10</td>\n",
       "      <td>NaN</td>\n",
       "      <td>Mode-5</td>\n",
       "      <td>Open</td>\n",
       "    </tr>\n",
       "    <tr>\n",
       "      <th>3</th>\n",
       "      <td>14/11/18 8:46</td>\n",
       "      <td>NaN</td>\n",
       "      <td>Website</td>\n",
       "      <td>XXXXXXX</td>\n",
       "      <td>wXXXXXXX@gmail.com</td>\n",
       "      <td>Sales-Agent-10</td>\n",
       "      <td>NaN</td>\n",
       "      <td>Mode-5</td>\n",
       "      <td>Open</td>\n",
       "    </tr>\n",
       "    <tr>\n",
       "      <th>4</th>\n",
       "      <td>14/11/18 7:34</td>\n",
       "      <td>NaN</td>\n",
       "      <td>Website</td>\n",
       "      <td>XXXXXXX</td>\n",
       "      <td>cXXXXXXX@gmail.com</td>\n",
       "      <td>Sales-Agent-10</td>\n",
       "      <td>NaN</td>\n",
       "      <td>Mode-5</td>\n",
       "      <td>Open</td>\n",
       "    </tr>\n",
       "  </tbody>\n",
       "</table>\n",
       "</div>"
      ],
      "text/plain": [
       "          Created  Product_ID   Source      Mobile               EMAIL  \\\n",
       "0  14/11/18 10:05         NaN  Website  984XXXXXXX  aXXXXXXX@gmail.com   \n",
       "1   14/11/18 9:22         NaN  Website     XXXXXXX             #VALUE!   \n",
       "2   14/11/18 9:21         NaN  Website     XXXXXXX  dXXXXXXX@yahoo.com   \n",
       "3   14/11/18 8:46         NaN  Website     XXXXXXX  wXXXXXXX@gmail.com   \n",
       "4   14/11/18 7:34         NaN  Website     XXXXXXX  cXXXXXXX@gmail.com   \n",
       "\n",
       "      Sales_Agent Location Delivery_Mode Status  \n",
       "0  Sales-Agent-11      NaN        Mode-5   Open  \n",
       "1  Sales-Agent-10      NaN        Mode-5   Open  \n",
       "2  Sales-Agent-10      NaN        Mode-5   Open  \n",
       "3  Sales-Agent-10      NaN        Mode-5   Open  \n",
       "4  Sales-Agent-10      NaN        Mode-5   Open  "
      ]
     },
     "execution_count": 4,
     "metadata": {},
     "output_type": "execute_result"
    }
   ],
   "source": [
    "Sales_Data.head()"
   ]
  },
  {
   "cell_type": "code",
   "execution_count": 5,
   "metadata": {},
   "outputs": [
    {
     "data": {
      "text/plain": [
       "Index(['Created', 'Product_ID', 'Source', 'Mobile', 'EMAIL', 'Sales_Agent',\n",
       "       'Location', 'Delivery_Mode', 'Status'],\n",
       "      dtype='object')"
      ]
     },
     "execution_count": 5,
     "metadata": {},
     "output_type": "execute_result"
    }
   ],
   "source": [
    "Sales_Data.columns"
   ]
  },
  {
   "cell_type": "code",
   "execution_count": 6,
   "metadata": {},
   "outputs": [
    {
     "data": {
      "text/plain": [
       "Created             0\n",
       "Product_ID         58\n",
       "Source             17\n",
       "Mobile           1810\n",
       "EMAIL               0\n",
       "Sales_Agent        23\n",
       "Location           58\n",
       "Delivery_Mode       0\n",
       "Status              0\n",
       "dtype: int64"
      ]
     },
     "execution_count": 6,
     "metadata": {},
     "output_type": "execute_result"
    }
   ],
   "source": [
    "Sales_Data.isnull().sum()"
   ]
  },
  {
   "cell_type": "code",
   "execution_count": 7,
   "metadata": {},
   "outputs": [
    {
     "name": "stdout",
     "output_type": "stream",
     "text": [
      "<class 'pandas.core.frame.DataFrame'>\n",
      "RangeIndex: 7422 entries, 0 to 7421\n",
      "Data columns (total 9 columns):\n",
      " #   Column         Non-Null Count  Dtype  \n",
      "---  ------         --------------  -----  \n",
      " 0   Created        7422 non-null   object \n",
      " 1   Product_ID     7364 non-null   float64\n",
      " 2   Source         7405 non-null   object \n",
      " 3   Mobile         5612 non-null   object \n",
      " 4   EMAIL          7422 non-null   object \n",
      " 5   Sales_Agent    7399 non-null   object \n",
      " 6   Location       7364 non-null   object \n",
      " 7   Delivery_Mode  7422 non-null   object \n",
      " 8   Status         7422 non-null   object \n",
      "dtypes: float64(1), object(8)\n",
      "memory usage: 522.0+ KB\n"
     ]
    }
   ],
   "source": [
    "Sales_Data.info()"
   ]
  },
  {
   "cell_type": "code",
   "execution_count": 8,
   "metadata": {},
   "outputs": [
    {
     "data": {
      "text/html": [
       "<div>\n",
       "<style scoped>\n",
       "    .dataframe tbody tr th:only-of-type {\n",
       "        vertical-align: middle;\n",
       "    }\n",
       "\n",
       "    .dataframe tbody tr th {\n",
       "        vertical-align: top;\n",
       "    }\n",
       "\n",
       "    .dataframe thead th {\n",
       "        text-align: right;\n",
       "    }\n",
       "</style>\n",
       "<table border=\"1\" class=\"dataframe\">\n",
       "  <thead>\n",
       "    <tr style=\"text-align: right;\">\n",
       "      <th></th>\n",
       "      <th>Product_ID</th>\n",
       "    </tr>\n",
       "  </thead>\n",
       "  <tbody>\n",
       "    <tr>\n",
       "      <th>count</th>\n",
       "      <td>7364.000000</td>\n",
       "    </tr>\n",
       "    <tr>\n",
       "      <th>mean</th>\n",
       "      <td>15.947311</td>\n",
       "    </tr>\n",
       "    <tr>\n",
       "      <th>std</th>\n",
       "      <td>6.072937</td>\n",
       "    </tr>\n",
       "    <tr>\n",
       "      <th>min</th>\n",
       "      <td>0.000000</td>\n",
       "    </tr>\n",
       "    <tr>\n",
       "      <th>25%</th>\n",
       "      <td>12.000000</td>\n",
       "    </tr>\n",
       "    <tr>\n",
       "      <th>50%</th>\n",
       "      <td>18.000000</td>\n",
       "    </tr>\n",
       "    <tr>\n",
       "      <th>75%</th>\n",
       "      <td>19.000000</td>\n",
       "    </tr>\n",
       "    <tr>\n",
       "      <th>max</th>\n",
       "      <td>28.000000</td>\n",
       "    </tr>\n",
       "  </tbody>\n",
       "</table>\n",
       "</div>"
      ],
      "text/plain": [
       "        Product_ID\n",
       "count  7364.000000\n",
       "mean     15.947311\n",
       "std       6.072937\n",
       "min       0.000000\n",
       "25%      12.000000\n",
       "50%      18.000000\n",
       "75%      19.000000\n",
       "max      28.000000"
      ]
     },
     "execution_count": 8,
     "metadata": {},
     "output_type": "execute_result"
    }
   ],
   "source": [
    "Sales_Data.describe()"
   ]
  },
  {
   "cell_type": "markdown",
   "metadata": {},
   "source": [
    "# Created\n",
    "# Split Created variable as Day, Month, Year, Hour, Minute, and Second variables"
   ]
  },
  {
   "cell_type": "code",
   "execution_count": 9,
   "metadata": {},
   "outputs": [],
   "source": [
    "Sales_Data['Created'] = pd.to_datetime(Sales_Data.Created)"
   ]
  },
  {
   "cell_type": "code",
   "execution_count": 10,
   "metadata": {},
   "outputs": [
    {
     "data": {
      "text/plain": [
       "2018-09-26 11:30:00    4\n",
       "2018-09-27 11:00:00    4\n",
       "2018-10-05 12:30:00    4\n",
       "2018-10-15 10:36:00    4\n",
       "2018-09-14 12:00:00    4\n",
       "                      ..\n",
       "2018-08-29 12:52:00    1\n",
       "2018-08-29 13:08:00    1\n",
       "2018-08-29 15:26:00    1\n",
       "2018-08-29 15:39:00    1\n",
       "2018-04-28 07:54:00    1\n",
       "Name: Created, Length: 6752, dtype: int64"
      ]
     },
     "execution_count": 10,
     "metadata": {},
     "output_type": "execute_result"
    }
   ],
   "source": [
    "Sales_Data['Created'].value_counts()"
   ]
  },
  {
   "cell_type": "code",
   "execution_count": 11,
   "metadata": {},
   "outputs": [],
   "source": [
    "Sales_Data['Date'] = Sales_Data.Created.dt.date\n",
    "Sales_Data['Time'] = Sales_Data.Created.dt.time\n",
    "Sales_Data['Day'] = Sales_Data.Created.dt.day\n",
    "Sales_Data['Month'] = Sales_Data.Created.dt.month\n",
    "Sales_Data['Year'] = Sales_Data.Created.dt.year\n",
    "Sales_Data['Hour'] = Sales_Data.Created.dt.hour\n",
    "Sales_Data['Minute'] = Sales_Data.Created.dt.minute\n",
    "Sales_Data['Second'] = Sales_Data.Created.dt.second"
   ]
  },
  {
   "cell_type": "code",
   "execution_count": 12,
   "metadata": {},
   "outputs": [
    {
     "data": {
      "text/html": [
       "<div>\n",
       "<style scoped>\n",
       "    .dataframe tbody tr th:only-of-type {\n",
       "        vertical-align: middle;\n",
       "    }\n",
       "\n",
       "    .dataframe tbody tr th {\n",
       "        vertical-align: top;\n",
       "    }\n",
       "\n",
       "    .dataframe thead th {\n",
       "        text-align: right;\n",
       "    }\n",
       "</style>\n",
       "<table border=\"1\" class=\"dataframe\">\n",
       "  <thead>\n",
       "    <tr style=\"text-align: right;\">\n",
       "      <th></th>\n",
       "      <th>Created</th>\n",
       "      <th>Product_ID</th>\n",
       "      <th>Source</th>\n",
       "      <th>Mobile</th>\n",
       "      <th>EMAIL</th>\n",
       "      <th>Sales_Agent</th>\n",
       "      <th>Location</th>\n",
       "      <th>Delivery_Mode</th>\n",
       "      <th>Status</th>\n",
       "      <th>Date</th>\n",
       "      <th>Time</th>\n",
       "      <th>Day</th>\n",
       "      <th>Month</th>\n",
       "      <th>Year</th>\n",
       "      <th>Hour</th>\n",
       "      <th>Minute</th>\n",
       "      <th>Second</th>\n",
       "    </tr>\n",
       "  </thead>\n",
       "  <tbody>\n",
       "    <tr>\n",
       "      <th>0</th>\n",
       "      <td>2018-11-14 10:05:00</td>\n",
       "      <td>NaN</td>\n",
       "      <td>Website</td>\n",
       "      <td>984XXXXXXX</td>\n",
       "      <td>aXXXXXXX@gmail.com</td>\n",
       "      <td>Sales-Agent-11</td>\n",
       "      <td>NaN</td>\n",
       "      <td>Mode-5</td>\n",
       "      <td>Open</td>\n",
       "      <td>2018-11-14</td>\n",
       "      <td>10:05:00</td>\n",
       "      <td>14</td>\n",
       "      <td>11</td>\n",
       "      <td>2018</td>\n",
       "      <td>10</td>\n",
       "      <td>5</td>\n",
       "      <td>0</td>\n",
       "    </tr>\n",
       "    <tr>\n",
       "      <th>1</th>\n",
       "      <td>2018-11-14 09:22:00</td>\n",
       "      <td>NaN</td>\n",
       "      <td>Website</td>\n",
       "      <td>XXXXXXX</td>\n",
       "      <td>#VALUE!</td>\n",
       "      <td>Sales-Agent-10</td>\n",
       "      <td>NaN</td>\n",
       "      <td>Mode-5</td>\n",
       "      <td>Open</td>\n",
       "      <td>2018-11-14</td>\n",
       "      <td>09:22:00</td>\n",
       "      <td>14</td>\n",
       "      <td>11</td>\n",
       "      <td>2018</td>\n",
       "      <td>9</td>\n",
       "      <td>22</td>\n",
       "      <td>0</td>\n",
       "    </tr>\n",
       "    <tr>\n",
       "      <th>2</th>\n",
       "      <td>2018-11-14 09:21:00</td>\n",
       "      <td>NaN</td>\n",
       "      <td>Website</td>\n",
       "      <td>XXXXXXX</td>\n",
       "      <td>dXXXXXXX@yahoo.com</td>\n",
       "      <td>Sales-Agent-10</td>\n",
       "      <td>NaN</td>\n",
       "      <td>Mode-5</td>\n",
       "      <td>Open</td>\n",
       "      <td>2018-11-14</td>\n",
       "      <td>09:21:00</td>\n",
       "      <td>14</td>\n",
       "      <td>11</td>\n",
       "      <td>2018</td>\n",
       "      <td>9</td>\n",
       "      <td>21</td>\n",
       "      <td>0</td>\n",
       "    </tr>\n",
       "    <tr>\n",
       "      <th>3</th>\n",
       "      <td>2018-11-14 08:46:00</td>\n",
       "      <td>NaN</td>\n",
       "      <td>Website</td>\n",
       "      <td>XXXXXXX</td>\n",
       "      <td>wXXXXXXX@gmail.com</td>\n",
       "      <td>Sales-Agent-10</td>\n",
       "      <td>NaN</td>\n",
       "      <td>Mode-5</td>\n",
       "      <td>Open</td>\n",
       "      <td>2018-11-14</td>\n",
       "      <td>08:46:00</td>\n",
       "      <td>14</td>\n",
       "      <td>11</td>\n",
       "      <td>2018</td>\n",
       "      <td>8</td>\n",
       "      <td>46</td>\n",
       "      <td>0</td>\n",
       "    </tr>\n",
       "    <tr>\n",
       "      <th>4</th>\n",
       "      <td>2018-11-14 07:34:00</td>\n",
       "      <td>NaN</td>\n",
       "      <td>Website</td>\n",
       "      <td>XXXXXXX</td>\n",
       "      <td>cXXXXXXX@gmail.com</td>\n",
       "      <td>Sales-Agent-10</td>\n",
       "      <td>NaN</td>\n",
       "      <td>Mode-5</td>\n",
       "      <td>Open</td>\n",
       "      <td>2018-11-14</td>\n",
       "      <td>07:34:00</td>\n",
       "      <td>14</td>\n",
       "      <td>11</td>\n",
       "      <td>2018</td>\n",
       "      <td>7</td>\n",
       "      <td>34</td>\n",
       "      <td>0</td>\n",
       "    </tr>\n",
       "  </tbody>\n",
       "</table>\n",
       "</div>"
      ],
      "text/plain": [
       "              Created  Product_ID   Source      Mobile               EMAIL  \\\n",
       "0 2018-11-14 10:05:00         NaN  Website  984XXXXXXX  aXXXXXXX@gmail.com   \n",
       "1 2018-11-14 09:22:00         NaN  Website     XXXXXXX             #VALUE!   \n",
       "2 2018-11-14 09:21:00         NaN  Website     XXXXXXX  dXXXXXXX@yahoo.com   \n",
       "3 2018-11-14 08:46:00         NaN  Website     XXXXXXX  wXXXXXXX@gmail.com   \n",
       "4 2018-11-14 07:34:00         NaN  Website     XXXXXXX  cXXXXXXX@gmail.com   \n",
       "\n",
       "      Sales_Agent Location Delivery_Mode Status        Date      Time  Day  \\\n",
       "0  Sales-Agent-11      NaN        Mode-5   Open  2018-11-14  10:05:00   14   \n",
       "1  Sales-Agent-10      NaN        Mode-5   Open  2018-11-14  09:22:00   14   \n",
       "2  Sales-Agent-10      NaN        Mode-5   Open  2018-11-14  09:21:00   14   \n",
       "3  Sales-Agent-10      NaN        Mode-5   Open  2018-11-14  08:46:00   14   \n",
       "4  Sales-Agent-10      NaN        Mode-5   Open  2018-11-14  07:34:00   14   \n",
       "\n",
       "   Month  Year  Hour  Minute  Second  \n",
       "0     11  2018    10       5       0  \n",
       "1     11  2018     9      22       0  \n",
       "2     11  2018     9      21       0  \n",
       "3     11  2018     8      46       0  \n",
       "4     11  2018     7      34       0  "
      ]
     },
     "execution_count": 12,
     "metadata": {},
     "output_type": "execute_result"
    }
   ],
   "source": [
    "Sales_Data.head()"
   ]
  },
  {
   "cell_type": "code",
   "execution_count": 13,
   "metadata": {},
   "outputs": [
    {
     "name": "stdout",
     "output_type": "stream",
     "text": [
      "<class 'pandas.core.frame.DataFrame'>\n",
      "RangeIndex: 7422 entries, 0 to 7421\n",
      "Data columns (total 17 columns):\n",
      " #   Column         Non-Null Count  Dtype         \n",
      "---  ------         --------------  -----         \n",
      " 0   Created        7422 non-null   datetime64[ns]\n",
      " 1   Product_ID     7364 non-null   float64       \n",
      " 2   Source         7405 non-null   object        \n",
      " 3   Mobile         5612 non-null   object        \n",
      " 4   EMAIL          7422 non-null   object        \n",
      " 5   Sales_Agent    7399 non-null   object        \n",
      " 6   Location       7364 non-null   object        \n",
      " 7   Delivery_Mode  7422 non-null   object        \n",
      " 8   Status         7422 non-null   object        \n",
      " 9   Date           7422 non-null   object        \n",
      " 10  Time           7422 non-null   object        \n",
      " 11  Day            7422 non-null   int64         \n",
      " 12  Month          7422 non-null   int64         \n",
      " 13  Year           7422 non-null   int64         \n",
      " 14  Hour           7422 non-null   int64         \n",
      " 15  Minute         7422 non-null   int64         \n",
      " 16  Second         7422 non-null   int64         \n",
      "dtypes: datetime64[ns](1), float64(1), int64(6), object(9)\n",
      "memory usage: 985.9+ KB\n"
     ]
    }
   ],
   "source": [
    "Sales_Data.info()"
   ]
  },
  {
   "cell_type": "markdown",
   "metadata": {},
   "source": [
    "# Product_ID"
   ]
  },
  {
   "cell_type": "code",
   "execution_count": 14,
   "metadata": {},
   "outputs": [
    {
     "data": {
      "text/plain": [
       "18.0    1711\n",
       "15.0    1518\n",
       "19.0    1189\n",
       "9.0      992\n",
       "27.0     739\n",
       "5.0      487\n",
       "10.0     168\n",
       "1.0      105\n",
       "20.0     102\n",
       "25.0      90\n",
       "21.0      66\n",
       "2.0       38\n",
       "12.0      36\n",
       "26.0      31\n",
       "14.0      27\n",
       "11.0      12\n",
       "22.0       8\n",
       "3.0        7\n",
       "17.0       7\n",
       "6.0        7\n",
       "8.0        6\n",
       "13.0       5\n",
       "24.0       3\n",
       "16.0       3\n",
       "23.0       2\n",
       "0.0        2\n",
       "28.0       1\n",
       "7.0        1\n",
       "4.0        1\n",
       "Name: Product_ID, dtype: int64"
      ]
     },
     "execution_count": 14,
     "metadata": {},
     "output_type": "execute_result"
    }
   ],
   "source": [
    "Sales_Data.Product_ID.value_counts()"
   ]
  },
  {
   "cell_type": "code",
   "execution_count": 15,
   "metadata": {},
   "outputs": [
    {
     "data": {
      "text/plain": [
       "0"
      ]
     },
     "execution_count": 15,
     "metadata": {},
     "output_type": "execute_result"
    }
   ],
   "source": [
    "Sales_Data.Product_ID[Sales_Data.Product_ID == '' ].count()"
   ]
  },
  {
   "cell_type": "markdown",
   "metadata": {},
   "source": [
    "### Find the empty value and replace it with NaN"
   ]
  },
  {
   "cell_type": "code",
   "execution_count": 16,
   "metadata": {},
   "outputs": [
    {
     "name": "stderr",
     "output_type": "stream",
     "text": [
      "C:\\Users\\Sanchitha\\anaconda3\\lib\\site-packages\\ipykernel_launcher.py:1: SettingWithCopyWarning: \n",
      "A value is trying to be set on a copy of a slice from a DataFrame\n",
      "\n",
      "See the caveats in the documentation: https://pandas.pydata.org/pandas-docs/stable/user_guide/indexing.html#returning-a-view-versus-a-copy\n",
      "  \"\"\"Entry point for launching an IPython kernel.\n"
     ]
    }
   ],
   "source": [
    "Sales_Data.Product_ID[Sales_Data.Product_ID == ''] = 'NaN'"
   ]
  },
  {
   "cell_type": "code",
   "execution_count": 17,
   "metadata": {},
   "outputs": [
    {
     "data": {
      "text/plain": [
       "0"
      ]
     },
     "execution_count": 17,
     "metadata": {},
     "output_type": "execute_result"
    }
   ],
   "source": [
    "Sales_Data.Product_ID[Sales_Data.Product_ID == '' ].count()"
   ]
  },
  {
   "cell_type": "code",
   "execution_count": 18,
   "metadata": {},
   "outputs": [
    {
     "data": {
      "text/plain": [
       "0"
      ]
     },
     "execution_count": 18,
     "metadata": {},
     "output_type": "execute_result"
    }
   ],
   "source": [
    "Sales_Data.Product_ID[Sales_Data.Product_ID == 'NaN' ].count()"
   ]
  },
  {
   "cell_type": "code",
   "execution_count": 19,
   "metadata": {},
   "outputs": [
    {
     "data": {
      "text/plain": [
       "18.0    1711\n",
       "15.0    1518\n",
       "19.0    1189\n",
       "9.0      992\n",
       "27.0     739\n",
       "5.0      487\n",
       "10.0     168\n",
       "1.0      105\n",
       "20.0     102\n",
       "25.0      90\n",
       "21.0      66\n",
       "2.0       38\n",
       "12.0      36\n",
       "26.0      31\n",
       "14.0      27\n",
       "11.0      12\n",
       "22.0       8\n",
       "3.0        7\n",
       "17.0       7\n",
       "6.0        7\n",
       "8.0        6\n",
       "13.0       5\n",
       "24.0       3\n",
       "16.0       3\n",
       "23.0       2\n",
       "0.0        2\n",
       "28.0       1\n",
       "7.0        1\n",
       "4.0        1\n",
       "Name: Product_ID, dtype: int64"
      ]
     },
     "execution_count": 19,
     "metadata": {},
     "output_type": "execute_result"
    }
   ],
   "source": [
    "Sales_Data.Product_ID.value_counts()"
   ]
  },
  {
   "cell_type": "code",
   "execution_count": 20,
   "metadata": {},
   "outputs": [
    {
     "data": {
      "text/html": [
       "<div>\n",
       "<style scoped>\n",
       "    .dataframe tbody tr th:only-of-type {\n",
       "        vertical-align: middle;\n",
       "    }\n",
       "\n",
       "    .dataframe tbody tr th {\n",
       "        vertical-align: top;\n",
       "    }\n",
       "\n",
       "    .dataframe thead th {\n",
       "        text-align: right;\n",
       "    }\n",
       "</style>\n",
       "<table border=\"1\" class=\"dataframe\">\n",
       "  <thead>\n",
       "    <tr style=\"text-align: right;\">\n",
       "      <th></th>\n",
       "      <th>Created</th>\n",
       "      <th>Product_ID</th>\n",
       "      <th>Source</th>\n",
       "      <th>Mobile</th>\n",
       "      <th>EMAIL</th>\n",
       "      <th>Sales_Agent</th>\n",
       "      <th>Location</th>\n",
       "      <th>Delivery_Mode</th>\n",
       "      <th>Status</th>\n",
       "      <th>Date</th>\n",
       "      <th>Time</th>\n",
       "      <th>Day</th>\n",
       "      <th>Month</th>\n",
       "      <th>Year</th>\n",
       "      <th>Hour</th>\n",
       "      <th>Minute</th>\n",
       "      <th>Second</th>\n",
       "    </tr>\n",
       "  </thead>\n",
       "  <tbody>\n",
       "    <tr>\n",
       "      <th>0</th>\n",
       "      <td>2018-11-14 10:05:00</td>\n",
       "      <td>NaN</td>\n",
       "      <td>Website</td>\n",
       "      <td>984XXXXXXX</td>\n",
       "      <td>aXXXXXXX@gmail.com</td>\n",
       "      <td>Sales-Agent-11</td>\n",
       "      <td>NaN</td>\n",
       "      <td>Mode-5</td>\n",
       "      <td>Open</td>\n",
       "      <td>2018-11-14</td>\n",
       "      <td>10:05:00</td>\n",
       "      <td>14</td>\n",
       "      <td>11</td>\n",
       "      <td>2018</td>\n",
       "      <td>10</td>\n",
       "      <td>5</td>\n",
       "      <td>0</td>\n",
       "    </tr>\n",
       "    <tr>\n",
       "      <th>1</th>\n",
       "      <td>2018-11-14 09:22:00</td>\n",
       "      <td>NaN</td>\n",
       "      <td>Website</td>\n",
       "      <td>XXXXXXX</td>\n",
       "      <td>#VALUE!</td>\n",
       "      <td>Sales-Agent-10</td>\n",
       "      <td>NaN</td>\n",
       "      <td>Mode-5</td>\n",
       "      <td>Open</td>\n",
       "      <td>2018-11-14</td>\n",
       "      <td>09:22:00</td>\n",
       "      <td>14</td>\n",
       "      <td>11</td>\n",
       "      <td>2018</td>\n",
       "      <td>9</td>\n",
       "      <td>22</td>\n",
       "      <td>0</td>\n",
       "    </tr>\n",
       "    <tr>\n",
       "      <th>2</th>\n",
       "      <td>2018-11-14 09:21:00</td>\n",
       "      <td>NaN</td>\n",
       "      <td>Website</td>\n",
       "      <td>XXXXXXX</td>\n",
       "      <td>dXXXXXXX@yahoo.com</td>\n",
       "      <td>Sales-Agent-10</td>\n",
       "      <td>NaN</td>\n",
       "      <td>Mode-5</td>\n",
       "      <td>Open</td>\n",
       "      <td>2018-11-14</td>\n",
       "      <td>09:21:00</td>\n",
       "      <td>14</td>\n",
       "      <td>11</td>\n",
       "      <td>2018</td>\n",
       "      <td>9</td>\n",
       "      <td>21</td>\n",
       "      <td>0</td>\n",
       "    </tr>\n",
       "    <tr>\n",
       "      <th>3</th>\n",
       "      <td>2018-11-14 08:46:00</td>\n",
       "      <td>NaN</td>\n",
       "      <td>Website</td>\n",
       "      <td>XXXXXXX</td>\n",
       "      <td>wXXXXXXX@gmail.com</td>\n",
       "      <td>Sales-Agent-10</td>\n",
       "      <td>NaN</td>\n",
       "      <td>Mode-5</td>\n",
       "      <td>Open</td>\n",
       "      <td>2018-11-14</td>\n",
       "      <td>08:46:00</td>\n",
       "      <td>14</td>\n",
       "      <td>11</td>\n",
       "      <td>2018</td>\n",
       "      <td>8</td>\n",
       "      <td>46</td>\n",
       "      <td>0</td>\n",
       "    </tr>\n",
       "    <tr>\n",
       "      <th>4</th>\n",
       "      <td>2018-11-14 07:34:00</td>\n",
       "      <td>NaN</td>\n",
       "      <td>Website</td>\n",
       "      <td>XXXXXXX</td>\n",
       "      <td>cXXXXXXX@gmail.com</td>\n",
       "      <td>Sales-Agent-10</td>\n",
       "      <td>NaN</td>\n",
       "      <td>Mode-5</td>\n",
       "      <td>Open</td>\n",
       "      <td>2018-11-14</td>\n",
       "      <td>07:34:00</td>\n",
       "      <td>14</td>\n",
       "      <td>11</td>\n",
       "      <td>2018</td>\n",
       "      <td>7</td>\n",
       "      <td>34</td>\n",
       "      <td>0</td>\n",
       "    </tr>\n",
       "  </tbody>\n",
       "</table>\n",
       "</div>"
      ],
      "text/plain": [
       "              Created  Product_ID   Source      Mobile               EMAIL  \\\n",
       "0 2018-11-14 10:05:00         NaN  Website  984XXXXXXX  aXXXXXXX@gmail.com   \n",
       "1 2018-11-14 09:22:00         NaN  Website     XXXXXXX             #VALUE!   \n",
       "2 2018-11-14 09:21:00         NaN  Website     XXXXXXX  dXXXXXXX@yahoo.com   \n",
       "3 2018-11-14 08:46:00         NaN  Website     XXXXXXX  wXXXXXXX@gmail.com   \n",
       "4 2018-11-14 07:34:00         NaN  Website     XXXXXXX  cXXXXXXX@gmail.com   \n",
       "\n",
       "      Sales_Agent Location Delivery_Mode Status        Date      Time  Day  \\\n",
       "0  Sales-Agent-11      NaN        Mode-5   Open  2018-11-14  10:05:00   14   \n",
       "1  Sales-Agent-10      NaN        Mode-5   Open  2018-11-14  09:22:00   14   \n",
       "2  Sales-Agent-10      NaN        Mode-5   Open  2018-11-14  09:21:00   14   \n",
       "3  Sales-Agent-10      NaN        Mode-5   Open  2018-11-14  08:46:00   14   \n",
       "4  Sales-Agent-10      NaN        Mode-5   Open  2018-11-14  07:34:00   14   \n",
       "\n",
       "   Month  Year  Hour  Minute  Second  \n",
       "0     11  2018    10       5       0  \n",
       "1     11  2018     9      22       0  \n",
       "2     11  2018     9      21       0  \n",
       "3     11  2018     8      46       0  \n",
       "4     11  2018     7      34       0  "
      ]
     },
     "execution_count": 20,
     "metadata": {},
     "output_type": "execute_result"
    }
   ],
   "source": [
    "Sales_Data.head()"
   ]
  },
  {
   "cell_type": "markdown",
   "metadata": {},
   "source": [
    "### Drop all Product_ID NaN values because it is too low"
   ]
  },
  {
   "cell_type": "code",
   "execution_count": 21,
   "metadata": {},
   "outputs": [
    {
     "data": {
      "text/plain": [
       "(7422, 17)"
      ]
     },
     "execution_count": 21,
     "metadata": {},
     "output_type": "execute_result"
    }
   ],
   "source": [
    "Sales_Data.shape"
   ]
  },
  {
   "cell_type": "code",
   "execution_count": 22,
   "metadata": {},
   "outputs": [
    {
     "data": {
      "text/plain": [
       "0"
      ]
     },
     "execution_count": 22,
     "metadata": {},
     "output_type": "execute_result"
    }
   ],
   "source": [
    "Sales_Data.Product_ID[Sales_Data.Product_ID == 'NaN' ].count()"
   ]
  },
  {
   "cell_type": "code",
   "execution_count": 23,
   "metadata": {},
   "outputs": [],
   "source": [
    "Sales_Data.drop(Sales_Data[Sales_Data.Product_ID == 'NaN'].index,inplace = True)"
   ]
  },
  {
   "cell_type": "code",
   "execution_count": 24,
   "metadata": {},
   "outputs": [
    {
     "data": {
      "text/plain": [
       "(7422, 17)"
      ]
     },
     "execution_count": 24,
     "metadata": {},
     "output_type": "execute_result"
    }
   ],
   "source": [
    "Sales_Data.shape"
   ]
  },
  {
   "cell_type": "code",
   "execution_count": 25,
   "metadata": {},
   "outputs": [
    {
     "data": {
      "text/plain": [
       "0"
      ]
     },
     "execution_count": 25,
     "metadata": {},
     "output_type": "execute_result"
    }
   ],
   "source": [
    "Sales_Data.Product_ID[Sales_Data.Product_ID == 'NaN' ].count()"
   ]
  },
  {
   "cell_type": "code",
   "execution_count": 26,
   "metadata": {},
   "outputs": [
    {
     "data": {
      "text/html": [
       "<div>\n",
       "<style scoped>\n",
       "    .dataframe tbody tr th:only-of-type {\n",
       "        vertical-align: middle;\n",
       "    }\n",
       "\n",
       "    .dataframe tbody tr th {\n",
       "        vertical-align: top;\n",
       "    }\n",
       "\n",
       "    .dataframe thead th {\n",
       "        text-align: right;\n",
       "    }\n",
       "</style>\n",
       "<table border=\"1\" class=\"dataframe\">\n",
       "  <thead>\n",
       "    <tr style=\"text-align: right;\">\n",
       "      <th></th>\n",
       "      <th>Created</th>\n",
       "      <th>Product_ID</th>\n",
       "      <th>Source</th>\n",
       "      <th>Mobile</th>\n",
       "      <th>EMAIL</th>\n",
       "      <th>Sales_Agent</th>\n",
       "      <th>Location</th>\n",
       "      <th>Delivery_Mode</th>\n",
       "      <th>Status</th>\n",
       "      <th>Date</th>\n",
       "      <th>Time</th>\n",
       "      <th>Day</th>\n",
       "      <th>Month</th>\n",
       "      <th>Year</th>\n",
       "      <th>Hour</th>\n",
       "      <th>Minute</th>\n",
       "      <th>Second</th>\n",
       "    </tr>\n",
       "  </thead>\n",
       "  <tbody>\n",
       "    <tr>\n",
       "      <th>0</th>\n",
       "      <td>2018-11-14 10:05:00</td>\n",
       "      <td>NaN</td>\n",
       "      <td>Website</td>\n",
       "      <td>984XXXXXXX</td>\n",
       "      <td>aXXXXXXX@gmail.com</td>\n",
       "      <td>Sales-Agent-11</td>\n",
       "      <td>NaN</td>\n",
       "      <td>Mode-5</td>\n",
       "      <td>Open</td>\n",
       "      <td>2018-11-14</td>\n",
       "      <td>10:05:00</td>\n",
       "      <td>14</td>\n",
       "      <td>11</td>\n",
       "      <td>2018</td>\n",
       "      <td>10</td>\n",
       "      <td>5</td>\n",
       "      <td>0</td>\n",
       "    </tr>\n",
       "    <tr>\n",
       "      <th>1</th>\n",
       "      <td>2018-11-14 09:22:00</td>\n",
       "      <td>NaN</td>\n",
       "      <td>Website</td>\n",
       "      <td>XXXXXXX</td>\n",
       "      <td>#VALUE!</td>\n",
       "      <td>Sales-Agent-10</td>\n",
       "      <td>NaN</td>\n",
       "      <td>Mode-5</td>\n",
       "      <td>Open</td>\n",
       "      <td>2018-11-14</td>\n",
       "      <td>09:22:00</td>\n",
       "      <td>14</td>\n",
       "      <td>11</td>\n",
       "      <td>2018</td>\n",
       "      <td>9</td>\n",
       "      <td>22</td>\n",
       "      <td>0</td>\n",
       "    </tr>\n",
       "    <tr>\n",
       "      <th>2</th>\n",
       "      <td>2018-11-14 09:21:00</td>\n",
       "      <td>NaN</td>\n",
       "      <td>Website</td>\n",
       "      <td>XXXXXXX</td>\n",
       "      <td>dXXXXXXX@yahoo.com</td>\n",
       "      <td>Sales-Agent-10</td>\n",
       "      <td>NaN</td>\n",
       "      <td>Mode-5</td>\n",
       "      <td>Open</td>\n",
       "      <td>2018-11-14</td>\n",
       "      <td>09:21:00</td>\n",
       "      <td>14</td>\n",
       "      <td>11</td>\n",
       "      <td>2018</td>\n",
       "      <td>9</td>\n",
       "      <td>21</td>\n",
       "      <td>0</td>\n",
       "    </tr>\n",
       "    <tr>\n",
       "      <th>3</th>\n",
       "      <td>2018-11-14 08:46:00</td>\n",
       "      <td>NaN</td>\n",
       "      <td>Website</td>\n",
       "      <td>XXXXXXX</td>\n",
       "      <td>wXXXXXXX@gmail.com</td>\n",
       "      <td>Sales-Agent-10</td>\n",
       "      <td>NaN</td>\n",
       "      <td>Mode-5</td>\n",
       "      <td>Open</td>\n",
       "      <td>2018-11-14</td>\n",
       "      <td>08:46:00</td>\n",
       "      <td>14</td>\n",
       "      <td>11</td>\n",
       "      <td>2018</td>\n",
       "      <td>8</td>\n",
       "      <td>46</td>\n",
       "      <td>0</td>\n",
       "    </tr>\n",
       "    <tr>\n",
       "      <th>4</th>\n",
       "      <td>2018-11-14 07:34:00</td>\n",
       "      <td>NaN</td>\n",
       "      <td>Website</td>\n",
       "      <td>XXXXXXX</td>\n",
       "      <td>cXXXXXXX@gmail.com</td>\n",
       "      <td>Sales-Agent-10</td>\n",
       "      <td>NaN</td>\n",
       "      <td>Mode-5</td>\n",
       "      <td>Open</td>\n",
       "      <td>2018-11-14</td>\n",
       "      <td>07:34:00</td>\n",
       "      <td>14</td>\n",
       "      <td>11</td>\n",
       "      <td>2018</td>\n",
       "      <td>7</td>\n",
       "      <td>34</td>\n",
       "      <td>0</td>\n",
       "    </tr>\n",
       "  </tbody>\n",
       "</table>\n",
       "</div>"
      ],
      "text/plain": [
       "              Created  Product_ID   Source      Mobile               EMAIL  \\\n",
       "0 2018-11-14 10:05:00         NaN  Website  984XXXXXXX  aXXXXXXX@gmail.com   \n",
       "1 2018-11-14 09:22:00         NaN  Website     XXXXXXX             #VALUE!   \n",
       "2 2018-11-14 09:21:00         NaN  Website     XXXXXXX  dXXXXXXX@yahoo.com   \n",
       "3 2018-11-14 08:46:00         NaN  Website     XXXXXXX  wXXXXXXX@gmail.com   \n",
       "4 2018-11-14 07:34:00         NaN  Website     XXXXXXX  cXXXXXXX@gmail.com   \n",
       "\n",
       "      Sales_Agent Location Delivery_Mode Status        Date      Time  Day  \\\n",
       "0  Sales-Agent-11      NaN        Mode-5   Open  2018-11-14  10:05:00   14   \n",
       "1  Sales-Agent-10      NaN        Mode-5   Open  2018-11-14  09:22:00   14   \n",
       "2  Sales-Agent-10      NaN        Mode-5   Open  2018-11-14  09:21:00   14   \n",
       "3  Sales-Agent-10      NaN        Mode-5   Open  2018-11-14  08:46:00   14   \n",
       "4  Sales-Agent-10      NaN        Mode-5   Open  2018-11-14  07:34:00   14   \n",
       "\n",
       "   Month  Year  Hour  Minute  Second  \n",
       "0     11  2018    10       5       0  \n",
       "1     11  2018     9      22       0  \n",
       "2     11  2018     9      21       0  \n",
       "3     11  2018     8      46       0  \n",
       "4     11  2018     7      34       0  "
      ]
     },
     "execution_count": 26,
     "metadata": {},
     "output_type": "execute_result"
    }
   ],
   "source": [
    "Sales_Data.head()"
   ]
  },
  {
   "cell_type": "code",
   "execution_count": 27,
   "metadata": {},
   "outputs": [
    {
     "name": "stdout",
     "output_type": "stream",
     "text": [
      "<class 'pandas.core.frame.DataFrame'>\n",
      "Int64Index: 7422 entries, 0 to 7421\n",
      "Data columns (total 17 columns):\n",
      " #   Column         Non-Null Count  Dtype         \n",
      "---  ------         --------------  -----         \n",
      " 0   Created        7422 non-null   datetime64[ns]\n",
      " 1   Product_ID     7364 non-null   float64       \n",
      " 2   Source         7405 non-null   object        \n",
      " 3   Mobile         5612 non-null   object        \n",
      " 4   EMAIL          7422 non-null   object        \n",
      " 5   Sales_Agent    7399 non-null   object        \n",
      " 6   Location       7364 non-null   object        \n",
      " 7   Delivery_Mode  7422 non-null   object        \n",
      " 8   Status         7422 non-null   object        \n",
      " 9   Date           7422 non-null   object        \n",
      " 10  Time           7422 non-null   object        \n",
      " 11  Day            7422 non-null   int64         \n",
      " 12  Month          7422 non-null   int64         \n",
      " 13  Year           7422 non-null   int64         \n",
      " 14  Hour           7422 non-null   int64         \n",
      " 15  Minute         7422 non-null   int64         \n",
      " 16  Second         7422 non-null   int64         \n",
      "dtypes: datetime64[ns](1), float64(1), int64(6), object(9)\n",
      "memory usage: 1.0+ MB\n"
     ]
    }
   ],
   "source": [
    "Sales_Data.info()"
   ]
  },
  {
   "cell_type": "markdown",
   "metadata": {},
   "source": [
    "### Product_ID - Type Casting object to int "
   ]
  },
  {
   "cell_type": "code",
   "execution_count": 28,
   "metadata": {},
   "outputs": [],
   "source": [
    "Sales_Data['Product_ID'] = pd.to_numeric(Sales_Data['Product_ID'])"
   ]
  },
  {
   "cell_type": "code",
   "execution_count": 29,
   "metadata": {},
   "outputs": [
    {
     "name": "stdout",
     "output_type": "stream",
     "text": [
      "<class 'pandas.core.frame.DataFrame'>\n",
      "Int64Index: 7422 entries, 0 to 7421\n",
      "Data columns (total 17 columns):\n",
      " #   Column         Non-Null Count  Dtype         \n",
      "---  ------         --------------  -----         \n",
      " 0   Created        7422 non-null   datetime64[ns]\n",
      " 1   Product_ID     7364 non-null   float64       \n",
      " 2   Source         7405 non-null   object        \n",
      " 3   Mobile         5612 non-null   object        \n",
      " 4   EMAIL          7422 non-null   object        \n",
      " 5   Sales_Agent    7399 non-null   object        \n",
      " 6   Location       7364 non-null   object        \n",
      " 7   Delivery_Mode  7422 non-null   object        \n",
      " 8   Status         7422 non-null   object        \n",
      " 9   Date           7422 non-null   object        \n",
      " 10  Time           7422 non-null   object        \n",
      " 11  Day            7422 non-null   int64         \n",
      " 12  Month          7422 non-null   int64         \n",
      " 13  Year           7422 non-null   int64         \n",
      " 14  Hour           7422 non-null   int64         \n",
      " 15  Minute         7422 non-null   int64         \n",
      " 16  Second         7422 non-null   int64         \n",
      "dtypes: datetime64[ns](1), float64(1), int64(6), object(9)\n",
      "memory usage: 1.0+ MB\n"
     ]
    }
   ],
   "source": [
    "Sales_Data.info()"
   ]
  },
  {
   "cell_type": "markdown",
   "metadata": {},
   "source": [
    "# Source"
   ]
  },
  {
   "cell_type": "code",
   "execution_count": 30,
   "metadata": {},
   "outputs": [
    {
     "data": {
      "text/plain": [
       "Call                             2547\n",
       "Live Chat-Direct                 1834\n",
       "Website                          1594\n",
       "Live Chat-Google Organic          274\n",
       "Live Chat -PPC                    249\n",
       "Live Chat-Blog                    237\n",
       "Customer Referral                 180\n",
       "US Website                        137\n",
       "Just Dial                          56\n",
       "Existing Client                    51\n",
       "Personal Contact                   50\n",
       "Live Chat-CPC                      50\n",
       "By Recommendation                  32\n",
       "CRM form                           23\n",
       "Existing Customer                  22\n",
       "Live Chat-Google Ads               21\n",
       "Campaign                           19\n",
       "E-mail Campaign                    12\n",
       "Live Chat-Adwords Remarketing       7\n",
       "Live Chat-Quora                     2\n",
       "Other                               2\n",
       "SMS Campaign                        2\n",
       "Live Chat-Youtube                   2\n",
       "E-Mail Message                      1\n",
       "Live Chat-Justdial                  1\n",
       "Name: Source, dtype: int64"
      ]
     },
     "execution_count": 30,
     "metadata": {},
     "output_type": "execute_result"
    }
   ],
   "source": [
    "Sales_Data.Source.value_counts()"
   ]
  },
  {
   "cell_type": "code",
   "execution_count": 31,
   "metadata": {},
   "outputs": [
    {
     "data": {
      "text/plain": [
       "0"
      ]
     },
     "execution_count": 31,
     "metadata": {},
     "output_type": "execute_result"
    }
   ],
   "source": [
    "Sales_Data.Source[Sales_Data.Source == '' ].count()"
   ]
  },
  {
   "cell_type": "markdown",
   "metadata": {},
   "source": [
    "### Find the empty value and replace it with NaN"
   ]
  },
  {
   "cell_type": "code",
   "execution_count": 32,
   "metadata": {},
   "outputs": [
    {
     "name": "stderr",
     "output_type": "stream",
     "text": [
      "C:\\Users\\Sanchitha\\anaconda3\\lib\\site-packages\\ipykernel_launcher.py:1: SettingWithCopyWarning: \n",
      "A value is trying to be set on a copy of a slice from a DataFrame\n",
      "\n",
      "See the caveats in the documentation: https://pandas.pydata.org/pandas-docs/stable/user_guide/indexing.html#returning-a-view-versus-a-copy\n",
      "  \"\"\"Entry point for launching an IPython kernel.\n"
     ]
    }
   ],
   "source": [
    "Sales_Data.Source[Sales_Data.Source == ''] = 'NaN'"
   ]
  },
  {
   "cell_type": "code",
   "execution_count": 33,
   "metadata": {},
   "outputs": [
    {
     "data": {
      "text/plain": [
       "0"
      ]
     },
     "execution_count": 33,
     "metadata": {},
     "output_type": "execute_result"
    }
   ],
   "source": [
    "Sales_Data.Source[Sales_Data.Source == '' ].count()"
   ]
  },
  {
   "cell_type": "code",
   "execution_count": 34,
   "metadata": {},
   "outputs": [
    {
     "data": {
      "text/plain": [
       "0"
      ]
     },
     "execution_count": 34,
     "metadata": {},
     "output_type": "execute_result"
    }
   ],
   "source": [
    "Sales_Data.Source[Sales_Data.Source == 'NaN' ].count()"
   ]
  },
  {
   "cell_type": "code",
   "execution_count": 35,
   "metadata": {},
   "outputs": [
    {
     "data": {
      "text/plain": [
       "Call                             2547\n",
       "Live Chat-Direct                 1834\n",
       "Website                          1594\n",
       "Live Chat-Google Organic          274\n",
       "Live Chat -PPC                    249\n",
       "Live Chat-Blog                    237\n",
       "Customer Referral                 180\n",
       "US Website                        137\n",
       "Just Dial                          56\n",
       "Existing Client                    51\n",
       "Personal Contact                   50\n",
       "Live Chat-CPC                      50\n",
       "By Recommendation                  32\n",
       "CRM form                           23\n",
       "Existing Customer                  22\n",
       "Live Chat-Google Ads               21\n",
       "Campaign                           19\n",
       "E-mail Campaign                    12\n",
       "Live Chat-Adwords Remarketing       7\n",
       "Live Chat-Quora                     2\n",
       "Other                               2\n",
       "SMS Campaign                        2\n",
       "Live Chat-Youtube                   2\n",
       "E-Mail Message                      1\n",
       "Live Chat-Justdial                  1\n",
       "Name: Source, dtype: int64"
      ]
     },
     "execution_count": 35,
     "metadata": {},
     "output_type": "execute_result"
    }
   ],
   "source": [
    "Sales_Data.Source.value_counts()"
   ]
  },
  {
   "cell_type": "markdown",
   "metadata": {},
   "source": [
    "### Find the similar meaning value and replace with one common value"
   ]
  },
  {
   "cell_type": "code",
   "execution_count": 36,
   "metadata": {},
   "outputs": [
    {
     "data": {
      "text/plain": [
       "Call                             2547\n",
       "Live Chat-Direct                 1834\n",
       "Website                          1594\n",
       "Live Chat-Google Organic          274\n",
       "Live Chat -PPC                    249\n",
       "Live Chat-Blog                    237\n",
       "Customer Referral                 180\n",
       "US Website                        137\n",
       "Live Chat-Justdial                 57\n",
       "Existing Client                    51\n",
       "Personal Contact                   50\n",
       "Live Chat-CPC                      50\n",
       "By Recommendation                  32\n",
       "CRM form                           23\n",
       "Existing Customer                  22\n",
       "Live Chat-Google Ads               21\n",
       "Campaign                           19\n",
       "E-mail Campaign                    12\n",
       "Live Chat-Adwords Remarketing       7\n",
       "Live Chat-Quora                     2\n",
       "Other                               2\n",
       "SMS Campaign                        2\n",
       "Live Chat-Youtube                   2\n",
       "E-Mail Message                      1\n",
       "Name: Source, dtype: int64"
      ]
     },
     "execution_count": 36,
     "metadata": {},
     "output_type": "execute_result"
    }
   ],
   "source": [
    "Sales_Data['Source'].replace(['Just Dial', 'Live Chat-Justdial'], 'Live Chat-Justdial', inplace=True)\n",
    "Sales_Data['Source'].value_counts()"
   ]
  },
  {
   "cell_type": "code",
   "execution_count": 37,
   "metadata": {},
   "outputs": [
    {
     "data": {
      "text/plain": [
       "Call                             2547\n",
       "Live Chat-Direct                 1834\n",
       "Website                          1594\n",
       "Live Chat-Google Organic          274\n",
       "Live Chat -PPC                    249\n",
       "Live Chat-Blog                    237\n",
       "Customer Referral                 180\n",
       "US Website                        137\n",
       "Existing Client                    73\n",
       "Live Chat-Justdial                 57\n",
       "Live Chat-CPC                      50\n",
       "Personal Contact                   50\n",
       "By Recommendation                  32\n",
       "CRM form                           23\n",
       "Live Chat-Google Ads               21\n",
       "Campaign                           19\n",
       "E-mail Campaign                    12\n",
       "Live Chat-Adwords Remarketing       7\n",
       "Live Chat-Quora                     2\n",
       "Other                               2\n",
       "SMS Campaign                        2\n",
       "Live Chat-Youtube                   2\n",
       "E-Mail Message                      1\n",
       "Name: Source, dtype: int64"
      ]
     },
     "execution_count": 37,
     "metadata": {},
     "output_type": "execute_result"
    }
   ],
   "source": [
    "Sales_Data.Source.replace(to_replace=['Existing Client', 'Existing Customer'],value='Existing Client', inplace=True)\n",
    "Sales_Data['Source'].value_counts()"
   ]
  },
  {
   "cell_type": "markdown",
   "metadata": {},
   "source": [
    "### Drop all Source NaN values because it is too low"
   ]
  },
  {
   "cell_type": "code",
   "execution_count": 38,
   "metadata": {},
   "outputs": [
    {
     "data": {
      "text/plain": [
       "(7422, 17)"
      ]
     },
     "execution_count": 38,
     "metadata": {},
     "output_type": "execute_result"
    }
   ],
   "source": [
    "Sales_Data.shape"
   ]
  },
  {
   "cell_type": "code",
   "execution_count": 39,
   "metadata": {},
   "outputs": [
    {
     "data": {
      "text/plain": [
       "0"
      ]
     },
     "execution_count": 39,
     "metadata": {},
     "output_type": "execute_result"
    }
   ],
   "source": [
    "Sales_Data.Source[Sales_Data.Source == 'NaN' ].count()"
   ]
  },
  {
   "cell_type": "code",
   "execution_count": 40,
   "metadata": {},
   "outputs": [],
   "source": [
    "Sales_Data.drop(Sales_Data[Sales_Data.Source == 'NaN'].index,inplace = True)"
   ]
  },
  {
   "cell_type": "code",
   "execution_count": 41,
   "metadata": {},
   "outputs": [
    {
     "data": {
      "text/plain": [
       "(7422, 17)"
      ]
     },
     "execution_count": 41,
     "metadata": {},
     "output_type": "execute_result"
    }
   ],
   "source": [
    "Sales_Data.shape"
   ]
  },
  {
   "cell_type": "code",
   "execution_count": 42,
   "metadata": {},
   "outputs": [
    {
     "data": {
      "text/plain": [
       "0"
      ]
     },
     "execution_count": 42,
     "metadata": {},
     "output_type": "execute_result"
    }
   ],
   "source": [
    "Sales_Data.Source[Sales_Data.Source == 'NaN' ].count()"
   ]
  },
  {
   "cell_type": "code",
   "execution_count": 43,
   "metadata": {},
   "outputs": [
    {
     "data": {
      "text/plain": [
       "Call                             2547\n",
       "Live Chat-Direct                 1834\n",
       "Website                          1594\n",
       "Live Chat-Google Organic          274\n",
       "Live Chat -PPC                    249\n",
       "Live Chat-Blog                    237\n",
       "Customer Referral                 180\n",
       "US Website                        137\n",
       "Existing Client                    73\n",
       "Live Chat-Justdial                 57\n",
       "Live Chat-CPC                      50\n",
       "Personal Contact                   50\n",
       "By Recommendation                  32\n",
       "CRM form                           23\n",
       "Live Chat-Google Ads               21\n",
       "Campaign                           19\n",
       "E-mail Campaign                    12\n",
       "Live Chat-Adwords Remarketing       7\n",
       "Live Chat-Quora                     2\n",
       "Other                               2\n",
       "SMS Campaign                        2\n",
       "Live Chat-Youtube                   2\n",
       "E-Mail Message                      1\n",
       "Name: Source, dtype: int64"
      ]
     },
     "execution_count": 43,
     "metadata": {},
     "output_type": "execute_result"
    }
   ],
   "source": [
    "Sales_Data.Source.value_counts()"
   ]
  },
  {
   "cell_type": "markdown",
   "metadata": {},
   "source": [
    "# Mobile \n",
    "### Not required for Modeling"
   ]
  },
  {
   "cell_type": "code",
   "execution_count": 44,
   "metadata": {},
   "outputs": [
    {
     "data": {
      "text/plain": [
       "0    984XXXXXXX\n",
       "1       XXXXXXX\n",
       "2       XXXXXXX\n",
       "3       XXXXXXX\n",
       "4       XXXXXXX\n",
       "Name: Mobile, dtype: object"
      ]
     },
     "execution_count": 44,
     "metadata": {},
     "output_type": "execute_result"
    }
   ],
   "source": [
    "Sales_Data.Mobile.head()"
   ]
  },
  {
   "cell_type": "markdown",
   "metadata": {},
   "source": [
    "# Email\n",
    "### Not required for modeling"
   ]
  },
  {
   "cell_type": "code",
   "execution_count": 45,
   "metadata": {},
   "outputs": [
    {
     "data": {
      "text/plain": [
       "0    aXXXXXXX@gmail.com\n",
       "1               #VALUE!\n",
       "2    dXXXXXXX@yahoo.com\n",
       "3    wXXXXXXX@gmail.com\n",
       "4    cXXXXXXX@gmail.com\n",
       "Name: EMAIL, dtype: object"
      ]
     },
     "execution_count": 45,
     "metadata": {},
     "output_type": "execute_result"
    }
   ],
   "source": [
    "Sales_Data.EMAIL.head()"
   ]
  },
  {
   "cell_type": "markdown",
   "metadata": {},
   "source": [
    "# Sales_Agent"
   ]
  },
  {
   "cell_type": "code",
   "execution_count": 46,
   "metadata": {},
   "outputs": [
    {
     "data": {
      "text/plain": [
       "Sales-Agent-4     1500\n",
       "Sales-Agent-11    1420\n",
       "Sales-Agent-5     1190\n",
       "Sales-Agent-9      879\n",
       "Sales-Agent-3      781\n",
       "Sales-Agent-7      736\n",
       "Sales-Agent-2      389\n",
       "Sales-Agent-12     269\n",
       "Sales-Agent-6      114\n",
       "Sales-Agent-8       68\n",
       "Sales-Agent-10      49\n",
       "Sales-Agent-1        4\n",
       "Name: Sales_Agent, dtype: int64"
      ]
     },
     "execution_count": 46,
     "metadata": {},
     "output_type": "execute_result"
    }
   ],
   "source": [
    "Sales_Data.Sales_Agent.value_counts()"
   ]
  },
  {
   "cell_type": "markdown",
   "metadata": {},
   "source": [
    "### Find the empty value and replace it with NaN"
   ]
  },
  {
   "cell_type": "code",
   "execution_count": 47,
   "metadata": {},
   "outputs": [
    {
     "data": {
      "text/plain": [
       "0"
      ]
     },
     "execution_count": 47,
     "metadata": {},
     "output_type": "execute_result"
    }
   ],
   "source": [
    "Sales_Data.Sales_Agent[Sales_Data.Sales_Agent == ''].count()"
   ]
  },
  {
   "cell_type": "code",
   "execution_count": 48,
   "metadata": {},
   "outputs": [
    {
     "name": "stderr",
     "output_type": "stream",
     "text": [
      "C:\\Users\\Sanchitha\\anaconda3\\lib\\site-packages\\ipykernel_launcher.py:1: SettingWithCopyWarning: \n",
      "A value is trying to be set on a copy of a slice from a DataFrame\n",
      "\n",
      "See the caveats in the documentation: https://pandas.pydata.org/pandas-docs/stable/user_guide/indexing.html#returning-a-view-versus-a-copy\n",
      "  \"\"\"Entry point for launching an IPython kernel.\n"
     ]
    }
   ],
   "source": [
    "Sales_Data.Sales_Agent[Sales_Data.Sales_Agent == ''] = 'NaN'"
   ]
  },
  {
   "cell_type": "code",
   "execution_count": 49,
   "metadata": {},
   "outputs": [
    {
     "data": {
      "text/plain": [
       "0"
      ]
     },
     "execution_count": 49,
     "metadata": {},
     "output_type": "execute_result"
    }
   ],
   "source": [
    "Sales_Data.Sales_Agent[Sales_Data.Sales_Agent == ''].count()"
   ]
  },
  {
   "cell_type": "code",
   "execution_count": 50,
   "metadata": {},
   "outputs": [
    {
     "data": {
      "text/plain": [
       "0"
      ]
     },
     "execution_count": 50,
     "metadata": {},
     "output_type": "execute_result"
    }
   ],
   "source": [
    "Sales_Data.Sales_Agent[Sales_Data.Sales_Agent == 'NaN'].count()"
   ]
  },
  {
   "cell_type": "code",
   "execution_count": 51,
   "metadata": {},
   "outputs": [
    {
     "data": {
      "text/plain": [
       "Sales-Agent-4     1500\n",
       "Sales-Agent-11    1420\n",
       "Sales-Agent-5     1190\n",
       "Sales-Agent-9      879\n",
       "Sales-Agent-3      781\n",
       "Sales-Agent-7      736\n",
       "Sales-Agent-2      389\n",
       "Sales-Agent-12     269\n",
       "Sales-Agent-6      114\n",
       "Sales-Agent-8       68\n",
       "Sales-Agent-10      49\n",
       "Sales-Agent-1        4\n",
       "Name: Sales_Agent, dtype: int64"
      ]
     },
     "execution_count": 51,
     "metadata": {},
     "output_type": "execute_result"
    }
   ],
   "source": [
    "Sales_Data.Sales_Agent.value_counts()"
   ]
  },
  {
   "cell_type": "markdown",
   "metadata": {},
   "source": [
    "### Drop all Sales_Agent NaN values because it is too low"
   ]
  },
  {
   "cell_type": "code",
   "execution_count": 52,
   "metadata": {},
   "outputs": [
    {
     "data": {
      "text/plain": [
       "(7422, 17)"
      ]
     },
     "execution_count": 52,
     "metadata": {},
     "output_type": "execute_result"
    }
   ],
   "source": [
    "Sales_Data.shape"
   ]
  },
  {
   "cell_type": "code",
   "execution_count": 53,
   "metadata": {},
   "outputs": [
    {
     "data": {
      "text/plain": [
       "0"
      ]
     },
     "execution_count": 53,
     "metadata": {},
     "output_type": "execute_result"
    }
   ],
   "source": [
    "Sales_Data.Sales_Agent[Sales_Data.Sales_Agent == 'NaN'].count()"
   ]
  },
  {
   "cell_type": "code",
   "execution_count": 54,
   "metadata": {},
   "outputs": [],
   "source": [
    "Sales_Data.drop(Sales_Data[Sales_Data.Sales_Agent == 'NaN'].index,inplace = True)"
   ]
  },
  {
   "cell_type": "code",
   "execution_count": 55,
   "metadata": {},
   "outputs": [
    {
     "data": {
      "text/plain": [
       "(7422, 17)"
      ]
     },
     "execution_count": 55,
     "metadata": {},
     "output_type": "execute_result"
    }
   ],
   "source": [
    "Sales_Data.shape"
   ]
  },
  {
   "cell_type": "code",
   "execution_count": 56,
   "metadata": {},
   "outputs": [
    {
     "data": {
      "text/plain": [
       "0"
      ]
     },
     "execution_count": 56,
     "metadata": {},
     "output_type": "execute_result"
    }
   ],
   "source": [
    "Sales_Data.Sales_Agent[Sales_Data.Sales_Agent == 'NaN'].count()"
   ]
  },
  {
   "cell_type": "code",
   "execution_count": 57,
   "metadata": {},
   "outputs": [
    {
     "data": {
      "text/plain": [
       "Sales-Agent-4     1500\n",
       "Sales-Agent-11    1420\n",
       "Sales-Agent-5     1190\n",
       "Sales-Agent-9      879\n",
       "Sales-Agent-3      781\n",
       "Sales-Agent-7      736\n",
       "Sales-Agent-2      389\n",
       "Sales-Agent-12     269\n",
       "Sales-Agent-6      114\n",
       "Sales-Agent-8       68\n",
       "Sales-Agent-10      49\n",
       "Sales-Agent-1        4\n",
       "Name: Sales_Agent, dtype: int64"
      ]
     },
     "execution_count": 57,
     "metadata": {},
     "output_type": "execute_result"
    }
   ],
   "source": [
    "Sales_Data.Sales_Agent.value_counts()"
   ]
  },
  {
   "cell_type": "markdown",
   "metadata": {},
   "source": [
    "### Split the Sales_Agent variable as SalesAgentLabel and SalesAgent variables"
   ]
  },
  {
   "cell_type": "code",
   "execution_count": 58,
   "metadata": {},
   "outputs": [
    {
     "data": {
      "text/html": [
       "<div>\n",
       "<style scoped>\n",
       "    .dataframe tbody tr th:only-of-type {\n",
       "        vertical-align: middle;\n",
       "    }\n",
       "\n",
       "    .dataframe tbody tr th {\n",
       "        vertical-align: top;\n",
       "    }\n",
       "\n",
       "    .dataframe thead th {\n",
       "        text-align: right;\n",
       "    }\n",
       "</style>\n",
       "<table border=\"1\" class=\"dataframe\">\n",
       "  <thead>\n",
       "    <tr style=\"text-align: right;\">\n",
       "      <th></th>\n",
       "      <th>0</th>\n",
       "      <th>1</th>\n",
       "    </tr>\n",
       "  </thead>\n",
       "  <tbody>\n",
       "    <tr>\n",
       "      <th>0</th>\n",
       "      <td>Sales-Agent</td>\n",
       "      <td>11</td>\n",
       "    </tr>\n",
       "    <tr>\n",
       "      <th>1</th>\n",
       "      <td>Sales-Agent</td>\n",
       "      <td>10</td>\n",
       "    </tr>\n",
       "    <tr>\n",
       "      <th>2</th>\n",
       "      <td>Sales-Agent</td>\n",
       "      <td>10</td>\n",
       "    </tr>\n",
       "    <tr>\n",
       "      <th>3</th>\n",
       "      <td>Sales-Agent</td>\n",
       "      <td>10</td>\n",
       "    </tr>\n",
       "    <tr>\n",
       "      <th>4</th>\n",
       "      <td>Sales-Agent</td>\n",
       "      <td>10</td>\n",
       "    </tr>\n",
       "  </tbody>\n",
       "</table>\n",
       "</div>"
      ],
      "text/plain": [
       "             0   1\n",
       "0  Sales-Agent  11\n",
       "1  Sales-Agent  10\n",
       "2  Sales-Agent  10\n",
       "3  Sales-Agent  10\n",
       "4  Sales-Agent  10"
      ]
     },
     "execution_count": 58,
     "metadata": {},
     "output_type": "execute_result"
    }
   ],
   "source": [
    "Sales_Data['Sales_Agent'].str.rsplit('-',1,expand = True).head()"
   ]
  },
  {
   "cell_type": "code",
   "execution_count": 59,
   "metadata": {},
   "outputs": [
    {
     "data": {
      "text/html": [
       "<div>\n",
       "<style scoped>\n",
       "    .dataframe tbody tr th:only-of-type {\n",
       "        vertical-align: middle;\n",
       "    }\n",
       "\n",
       "    .dataframe tbody tr th {\n",
       "        vertical-align: top;\n",
       "    }\n",
       "\n",
       "    .dataframe thead th {\n",
       "        text-align: right;\n",
       "    }\n",
       "</style>\n",
       "<table border=\"1\" class=\"dataframe\">\n",
       "  <thead>\n",
       "    <tr style=\"text-align: right;\">\n",
       "      <th></th>\n",
       "      <th>Created</th>\n",
       "      <th>Product_ID</th>\n",
       "      <th>Source</th>\n",
       "      <th>Mobile</th>\n",
       "      <th>EMAIL</th>\n",
       "      <th>Sales_Agent</th>\n",
       "      <th>Location</th>\n",
       "      <th>Delivery_Mode</th>\n",
       "      <th>Status</th>\n",
       "      <th>Date</th>\n",
       "      <th>Time</th>\n",
       "      <th>Day</th>\n",
       "      <th>Month</th>\n",
       "      <th>Year</th>\n",
       "      <th>Hour</th>\n",
       "      <th>Minute</th>\n",
       "      <th>Second</th>\n",
       "      <th>SalesAgentLabel</th>\n",
       "      <th>SalesAgent</th>\n",
       "    </tr>\n",
       "  </thead>\n",
       "  <tbody>\n",
       "    <tr>\n",
       "      <th>0</th>\n",
       "      <td>2018-11-14 10:05:00</td>\n",
       "      <td>NaN</td>\n",
       "      <td>Website</td>\n",
       "      <td>984XXXXXXX</td>\n",
       "      <td>aXXXXXXX@gmail.com</td>\n",
       "      <td>Sales-Agent-11</td>\n",
       "      <td>NaN</td>\n",
       "      <td>Mode-5</td>\n",
       "      <td>Open</td>\n",
       "      <td>2018-11-14</td>\n",
       "      <td>10:05:00</td>\n",
       "      <td>14</td>\n",
       "      <td>11</td>\n",
       "      <td>2018</td>\n",
       "      <td>10</td>\n",
       "      <td>5</td>\n",
       "      <td>0</td>\n",
       "      <td>Sales-Agent</td>\n",
       "      <td>11</td>\n",
       "    </tr>\n",
       "    <tr>\n",
       "      <th>1</th>\n",
       "      <td>2018-11-14 09:22:00</td>\n",
       "      <td>NaN</td>\n",
       "      <td>Website</td>\n",
       "      <td>XXXXXXX</td>\n",
       "      <td>#VALUE!</td>\n",
       "      <td>Sales-Agent-10</td>\n",
       "      <td>NaN</td>\n",
       "      <td>Mode-5</td>\n",
       "      <td>Open</td>\n",
       "      <td>2018-11-14</td>\n",
       "      <td>09:22:00</td>\n",
       "      <td>14</td>\n",
       "      <td>11</td>\n",
       "      <td>2018</td>\n",
       "      <td>9</td>\n",
       "      <td>22</td>\n",
       "      <td>0</td>\n",
       "      <td>Sales-Agent</td>\n",
       "      <td>10</td>\n",
       "    </tr>\n",
       "    <tr>\n",
       "      <th>2</th>\n",
       "      <td>2018-11-14 09:21:00</td>\n",
       "      <td>NaN</td>\n",
       "      <td>Website</td>\n",
       "      <td>XXXXXXX</td>\n",
       "      <td>dXXXXXXX@yahoo.com</td>\n",
       "      <td>Sales-Agent-10</td>\n",
       "      <td>NaN</td>\n",
       "      <td>Mode-5</td>\n",
       "      <td>Open</td>\n",
       "      <td>2018-11-14</td>\n",
       "      <td>09:21:00</td>\n",
       "      <td>14</td>\n",
       "      <td>11</td>\n",
       "      <td>2018</td>\n",
       "      <td>9</td>\n",
       "      <td>21</td>\n",
       "      <td>0</td>\n",
       "      <td>Sales-Agent</td>\n",
       "      <td>10</td>\n",
       "    </tr>\n",
       "    <tr>\n",
       "      <th>3</th>\n",
       "      <td>2018-11-14 08:46:00</td>\n",
       "      <td>NaN</td>\n",
       "      <td>Website</td>\n",
       "      <td>XXXXXXX</td>\n",
       "      <td>wXXXXXXX@gmail.com</td>\n",
       "      <td>Sales-Agent-10</td>\n",
       "      <td>NaN</td>\n",
       "      <td>Mode-5</td>\n",
       "      <td>Open</td>\n",
       "      <td>2018-11-14</td>\n",
       "      <td>08:46:00</td>\n",
       "      <td>14</td>\n",
       "      <td>11</td>\n",
       "      <td>2018</td>\n",
       "      <td>8</td>\n",
       "      <td>46</td>\n",
       "      <td>0</td>\n",
       "      <td>Sales-Agent</td>\n",
       "      <td>10</td>\n",
       "    </tr>\n",
       "    <tr>\n",
       "      <th>4</th>\n",
       "      <td>2018-11-14 07:34:00</td>\n",
       "      <td>NaN</td>\n",
       "      <td>Website</td>\n",
       "      <td>XXXXXXX</td>\n",
       "      <td>cXXXXXXX@gmail.com</td>\n",
       "      <td>Sales-Agent-10</td>\n",
       "      <td>NaN</td>\n",
       "      <td>Mode-5</td>\n",
       "      <td>Open</td>\n",
       "      <td>2018-11-14</td>\n",
       "      <td>07:34:00</td>\n",
       "      <td>14</td>\n",
       "      <td>11</td>\n",
       "      <td>2018</td>\n",
       "      <td>7</td>\n",
       "      <td>34</td>\n",
       "      <td>0</td>\n",
       "      <td>Sales-Agent</td>\n",
       "      <td>10</td>\n",
       "    </tr>\n",
       "  </tbody>\n",
       "</table>\n",
       "</div>"
      ],
      "text/plain": [
       "              Created  Product_ID   Source      Mobile               EMAIL  \\\n",
       "0 2018-11-14 10:05:00         NaN  Website  984XXXXXXX  aXXXXXXX@gmail.com   \n",
       "1 2018-11-14 09:22:00         NaN  Website     XXXXXXX             #VALUE!   \n",
       "2 2018-11-14 09:21:00         NaN  Website     XXXXXXX  dXXXXXXX@yahoo.com   \n",
       "3 2018-11-14 08:46:00         NaN  Website     XXXXXXX  wXXXXXXX@gmail.com   \n",
       "4 2018-11-14 07:34:00         NaN  Website     XXXXXXX  cXXXXXXX@gmail.com   \n",
       "\n",
       "      Sales_Agent Location Delivery_Mode Status        Date      Time  Day  \\\n",
       "0  Sales-Agent-11      NaN        Mode-5   Open  2018-11-14  10:05:00   14   \n",
       "1  Sales-Agent-10      NaN        Mode-5   Open  2018-11-14  09:22:00   14   \n",
       "2  Sales-Agent-10      NaN        Mode-5   Open  2018-11-14  09:21:00   14   \n",
       "3  Sales-Agent-10      NaN        Mode-5   Open  2018-11-14  08:46:00   14   \n",
       "4  Sales-Agent-10      NaN        Mode-5   Open  2018-11-14  07:34:00   14   \n",
       "\n",
       "   Month  Year  Hour  Minute  Second SalesAgentLabel SalesAgent  \n",
       "0     11  2018    10       5       0     Sales-Agent         11  \n",
       "1     11  2018     9      22       0     Sales-Agent         10  \n",
       "2     11  2018     9      21       0     Sales-Agent         10  \n",
       "3     11  2018     8      46       0     Sales-Agent         10  \n",
       "4     11  2018     7      34       0     Sales-Agent         10  "
      ]
     },
     "execution_count": 59,
     "metadata": {},
     "output_type": "execute_result"
    }
   ],
   "source": [
    "Sales_Data[['SalesAgentLabel','SalesAgent']] = Sales_Data['Sales_Agent'].str.rsplit('-',1,expand = True)\n",
    "Sales_Data.head()"
   ]
  },
  {
   "cell_type": "code",
   "execution_count": 60,
   "metadata": {},
   "outputs": [
    {
     "name": "stdout",
     "output_type": "stream",
     "text": [
      "<class 'pandas.core.frame.DataFrame'>\n",
      "Int64Index: 7422 entries, 0 to 7421\n",
      "Data columns (total 19 columns):\n",
      " #   Column           Non-Null Count  Dtype         \n",
      "---  ------           --------------  -----         \n",
      " 0   Created          7422 non-null   datetime64[ns]\n",
      " 1   Product_ID       7364 non-null   float64       \n",
      " 2   Source           7405 non-null   object        \n",
      " 3   Mobile           5612 non-null   object        \n",
      " 4   EMAIL            7422 non-null   object        \n",
      " 5   Sales_Agent      7399 non-null   object        \n",
      " 6   Location         7364 non-null   object        \n",
      " 7   Delivery_Mode    7422 non-null   object        \n",
      " 8   Status           7422 non-null   object        \n",
      " 9   Date             7422 non-null   object        \n",
      " 10  Time             7422 non-null   object        \n",
      " 11  Day              7422 non-null   int64         \n",
      " 12  Month            7422 non-null   int64         \n",
      " 13  Year             7422 non-null   int64         \n",
      " 14  Hour             7422 non-null   int64         \n",
      " 15  Minute           7422 non-null   int64         \n",
      " 16  Second           7422 non-null   int64         \n",
      " 17  SalesAgentLabel  7399 non-null   object        \n",
      " 18  SalesAgent       7399 non-null   object        \n",
      "dtypes: datetime64[ns](1), float64(1), int64(6), object(11)\n",
      "memory usage: 1.4+ MB\n"
     ]
    }
   ],
   "source": [
    "Sales_Data.info()"
   ]
  },
  {
   "cell_type": "markdown",
   "metadata": {},
   "source": [
    "### Convert SalesAgent type object to int "
   ]
  },
  {
   "cell_type": "code",
   "execution_count": 61,
   "metadata": {},
   "outputs": [],
   "source": [
    "Sales_Data['SalesAgent'] = pd.to_numeric(Sales_Data['SalesAgent'])"
   ]
  },
  {
   "cell_type": "code",
   "execution_count": 62,
   "metadata": {},
   "outputs": [
    {
     "name": "stdout",
     "output_type": "stream",
     "text": [
      "<class 'pandas.core.frame.DataFrame'>\n",
      "Int64Index: 7422 entries, 0 to 7421\n",
      "Data columns (total 19 columns):\n",
      " #   Column           Non-Null Count  Dtype         \n",
      "---  ------           --------------  -----         \n",
      " 0   Created          7422 non-null   datetime64[ns]\n",
      " 1   Product_ID       7364 non-null   float64       \n",
      " 2   Source           7405 non-null   object        \n",
      " 3   Mobile           5612 non-null   object        \n",
      " 4   EMAIL            7422 non-null   object        \n",
      " 5   Sales_Agent      7399 non-null   object        \n",
      " 6   Location         7364 non-null   object        \n",
      " 7   Delivery_Mode    7422 non-null   object        \n",
      " 8   Status           7422 non-null   object        \n",
      " 9   Date             7422 non-null   object        \n",
      " 10  Time             7422 non-null   object        \n",
      " 11  Day              7422 non-null   int64         \n",
      " 12  Month            7422 non-null   int64         \n",
      " 13  Year             7422 non-null   int64         \n",
      " 14  Hour             7422 non-null   int64         \n",
      " 15  Minute           7422 non-null   int64         \n",
      " 16  Second           7422 non-null   int64         \n",
      " 17  SalesAgentLabel  7399 non-null   object        \n",
      " 18  SalesAgent       7399 non-null   float64       \n",
      "dtypes: datetime64[ns](1), float64(2), int64(6), object(10)\n",
      "memory usage: 1.4+ MB\n"
     ]
    }
   ],
   "source": [
    "Sales_Data.info()"
   ]
  },
  {
   "cell_type": "markdown",
   "metadata": {},
   "source": [
    "# Location"
   ]
  },
  {
   "cell_type": "code",
   "execution_count": 63,
   "metadata": {},
   "outputs": [
    {
     "data": {
      "text/plain": [
       "Other Locations    2500\n",
       "Bangalore          2084\n",
       "Chennai             909\n",
       "Hyderabad           528\n",
       "Delhi               471\n",
       "Mumbai              402\n",
       "Pune                142\n",
       "UAE                  79\n",
       "Trivandrum           58\n",
       "Kolkata              55\n",
       "USA                  45\n",
       "UK                   41\n",
       "AUSTRALIA            25\n",
       "Singapore            17\n",
       "Malaysia              4\n",
       "EUROPE                3\n",
       "Howrah                1\n",
       "Name: Location, dtype: int64"
      ]
     },
     "execution_count": 63,
     "metadata": {},
     "output_type": "execute_result"
    }
   ],
   "source": [
    "Sales_Data.Location.value_counts()"
   ]
  },
  {
   "cell_type": "markdown",
   "metadata": {},
   "source": [
    "### Find the empty value and replace it with NaN"
   ]
  },
  {
   "cell_type": "code",
   "execution_count": 64,
   "metadata": {},
   "outputs": [
    {
     "data": {
      "text/plain": [
       "0"
      ]
     },
     "execution_count": 64,
     "metadata": {},
     "output_type": "execute_result"
    }
   ],
   "source": [
    "Sales_Data.Location[Sales_Data.Location == ''].count()"
   ]
  },
  {
   "cell_type": "code",
   "execution_count": 65,
   "metadata": {},
   "outputs": [
    {
     "name": "stderr",
     "output_type": "stream",
     "text": [
      "C:\\Users\\Sanchitha\\anaconda3\\lib\\site-packages\\ipykernel_launcher.py:1: SettingWithCopyWarning: \n",
      "A value is trying to be set on a copy of a slice from a DataFrame\n",
      "\n",
      "See the caveats in the documentation: https://pandas.pydata.org/pandas-docs/stable/user_guide/indexing.html#returning-a-view-versus-a-copy\n",
      "  \"\"\"Entry point for launching an IPython kernel.\n"
     ]
    }
   ],
   "source": [
    "Sales_Data.Location[Sales_Data.Location == ''] = 'NaN'"
   ]
  },
  {
   "cell_type": "code",
   "execution_count": 66,
   "metadata": {},
   "outputs": [
    {
     "data": {
      "text/plain": [
       "0"
      ]
     },
     "execution_count": 66,
     "metadata": {},
     "output_type": "execute_result"
    }
   ],
   "source": [
    "Sales_Data.Location[Sales_Data.Location == ''].count()"
   ]
  },
  {
   "cell_type": "code",
   "execution_count": 67,
   "metadata": {},
   "outputs": [
    {
     "data": {
      "text/plain": [
       "0"
      ]
     },
     "execution_count": 67,
     "metadata": {},
     "output_type": "execute_result"
    }
   ],
   "source": [
    "Sales_Data.Location[Sales_Data.Location == 'NaN'].count()"
   ]
  },
  {
   "cell_type": "code",
   "execution_count": 68,
   "metadata": {},
   "outputs": [
    {
     "data": {
      "text/plain": [
       "Other Locations    2500\n",
       "Bangalore          2084\n",
       "Chennai             909\n",
       "Hyderabad           528\n",
       "Delhi               471\n",
       "Mumbai              402\n",
       "Pune                142\n",
       "UAE                  79\n",
       "Trivandrum           58\n",
       "Kolkata              55\n",
       "USA                  45\n",
       "UK                   41\n",
       "AUSTRALIA            25\n",
       "Singapore            17\n",
       "Malaysia              4\n",
       "EUROPE                3\n",
       "Howrah                1\n",
       "Name: Location, dtype: int64"
      ]
     },
     "execution_count": 68,
     "metadata": {},
     "output_type": "execute_result"
    }
   ],
   "source": [
    "Sales_Data.Location.value_counts()"
   ]
  },
  {
   "cell_type": "markdown",
   "metadata": {},
   "source": [
    "### Drop all Location NaN values because it is too low"
   ]
  },
  {
   "cell_type": "code",
   "execution_count": 69,
   "metadata": {},
   "outputs": [
    {
     "data": {
      "text/plain": [
       "(7422, 19)"
      ]
     },
     "execution_count": 69,
     "metadata": {},
     "output_type": "execute_result"
    }
   ],
   "source": [
    "Sales_Data.shape"
   ]
  },
  {
   "cell_type": "code",
   "execution_count": 70,
   "metadata": {},
   "outputs": [
    {
     "data": {
      "text/plain": [
       "0"
      ]
     },
     "execution_count": 70,
     "metadata": {},
     "output_type": "execute_result"
    }
   ],
   "source": [
    "Sales_Data.Location[Sales_Data.Location == 'NaN'].count()"
   ]
  },
  {
   "cell_type": "code",
   "execution_count": 71,
   "metadata": {},
   "outputs": [],
   "source": [
    "Sales_Data.drop(Sales_Data[Sales_Data.Location == 'NaN'].index,inplace = True)"
   ]
  },
  {
   "cell_type": "code",
   "execution_count": 72,
   "metadata": {},
   "outputs": [
    {
     "data": {
      "text/plain": [
       "(7422, 19)"
      ]
     },
     "execution_count": 72,
     "metadata": {},
     "output_type": "execute_result"
    }
   ],
   "source": [
    "Sales_Data.shape"
   ]
  },
  {
   "cell_type": "code",
   "execution_count": 73,
   "metadata": {},
   "outputs": [
    {
     "data": {
      "text/plain": [
       "0"
      ]
     },
     "execution_count": 73,
     "metadata": {},
     "output_type": "execute_result"
    }
   ],
   "source": [
    "Sales_Data.Location[Sales_Data.Location == 'NaN'].count()"
   ]
  },
  {
   "cell_type": "code",
   "execution_count": 74,
   "metadata": {},
   "outputs": [
    {
     "data": {
      "text/plain": [
       "Other Locations    2500\n",
       "Bangalore          2084\n",
       "Chennai             909\n",
       "Hyderabad           528\n",
       "Delhi               471\n",
       "Mumbai              402\n",
       "Pune                142\n",
       "UAE                  79\n",
       "Trivandrum           58\n",
       "Kolkata              55\n",
       "USA                  45\n",
       "UK                   41\n",
       "AUSTRALIA            25\n",
       "Singapore            17\n",
       "Malaysia              4\n",
       "EUROPE                3\n",
       "Howrah                1\n",
       "Name: Location, dtype: int64"
      ]
     },
     "execution_count": 74,
     "metadata": {},
     "output_type": "execute_result"
    }
   ],
   "source": [
    "Sales_Data.Location.value_counts()"
   ]
  },
  {
   "cell_type": "markdown",
   "metadata": {},
   "source": [
    "# Delivery_Mode"
   ]
  },
  {
   "cell_type": "code",
   "execution_count": 75,
   "metadata": {},
   "outputs": [
    {
     "data": {
      "text/plain": [
       "Mode-5    2975\n",
       "Mode-1    2627\n",
       "Mode-3    1688\n",
       "Mode-4     121\n",
       "Mode-2      11\n",
       "Name: Delivery_Mode, dtype: int64"
      ]
     },
     "execution_count": 75,
     "metadata": {},
     "output_type": "execute_result"
    }
   ],
   "source": [
    "Sales_Data.Delivery_Mode.value_counts()"
   ]
  },
  {
   "cell_type": "markdown",
   "metadata": {},
   "source": [
    "### Find the empty value and replace it with NaN"
   ]
  },
  {
   "cell_type": "code",
   "execution_count": 76,
   "metadata": {},
   "outputs": [
    {
     "data": {
      "text/plain": [
       "0"
      ]
     },
     "execution_count": 76,
     "metadata": {},
     "output_type": "execute_result"
    }
   ],
   "source": [
    "Sales_Data.Location[Sales_Data.Delivery_Mode == ''].count()"
   ]
  },
  {
   "cell_type": "markdown",
   "metadata": {},
   "source": [
    "### Split the Delivery_Mode variable as DeliveryModeLabel and DeliveryMode variables"
   ]
  },
  {
   "cell_type": "code",
   "execution_count": 77,
   "metadata": {},
   "outputs": [
    {
     "data": {
      "text/html": [
       "<div>\n",
       "<style scoped>\n",
       "    .dataframe tbody tr th:only-of-type {\n",
       "        vertical-align: middle;\n",
       "    }\n",
       "\n",
       "    .dataframe tbody tr th {\n",
       "        vertical-align: top;\n",
       "    }\n",
       "\n",
       "    .dataframe thead th {\n",
       "        text-align: right;\n",
       "    }\n",
       "</style>\n",
       "<table border=\"1\" class=\"dataframe\">\n",
       "  <thead>\n",
       "    <tr style=\"text-align: right;\">\n",
       "      <th></th>\n",
       "      <th>0</th>\n",
       "      <th>1</th>\n",
       "    </tr>\n",
       "  </thead>\n",
       "  <tbody>\n",
       "    <tr>\n",
       "      <th>0</th>\n",
       "      <td>Mode</td>\n",
       "      <td>5</td>\n",
       "    </tr>\n",
       "    <tr>\n",
       "      <th>1</th>\n",
       "      <td>Mode</td>\n",
       "      <td>5</td>\n",
       "    </tr>\n",
       "    <tr>\n",
       "      <th>2</th>\n",
       "      <td>Mode</td>\n",
       "      <td>5</td>\n",
       "    </tr>\n",
       "    <tr>\n",
       "      <th>3</th>\n",
       "      <td>Mode</td>\n",
       "      <td>5</td>\n",
       "    </tr>\n",
       "    <tr>\n",
       "      <th>4</th>\n",
       "      <td>Mode</td>\n",
       "      <td>5</td>\n",
       "    </tr>\n",
       "  </tbody>\n",
       "</table>\n",
       "</div>"
      ],
      "text/plain": [
       "      0  1\n",
       "0  Mode  5\n",
       "1  Mode  5\n",
       "2  Mode  5\n",
       "3  Mode  5\n",
       "4  Mode  5"
      ]
     },
     "execution_count": 77,
     "metadata": {},
     "output_type": "execute_result"
    }
   ],
   "source": [
    "Sales_Data['Delivery_Mode'].str.split('-',1,expand = True).head()"
   ]
  },
  {
   "cell_type": "code",
   "execution_count": 78,
   "metadata": {},
   "outputs": [
    {
     "data": {
      "text/html": [
       "<div>\n",
       "<style scoped>\n",
       "    .dataframe tbody tr th:only-of-type {\n",
       "        vertical-align: middle;\n",
       "    }\n",
       "\n",
       "    .dataframe tbody tr th {\n",
       "        vertical-align: top;\n",
       "    }\n",
       "\n",
       "    .dataframe thead th {\n",
       "        text-align: right;\n",
       "    }\n",
       "</style>\n",
       "<table border=\"1\" class=\"dataframe\">\n",
       "  <thead>\n",
       "    <tr style=\"text-align: right;\">\n",
       "      <th></th>\n",
       "      <th>Created</th>\n",
       "      <th>Product_ID</th>\n",
       "      <th>Source</th>\n",
       "      <th>Mobile</th>\n",
       "      <th>EMAIL</th>\n",
       "      <th>Sales_Agent</th>\n",
       "      <th>Location</th>\n",
       "      <th>Delivery_Mode</th>\n",
       "      <th>Status</th>\n",
       "      <th>Date</th>\n",
       "      <th>...</th>\n",
       "      <th>Day</th>\n",
       "      <th>Month</th>\n",
       "      <th>Year</th>\n",
       "      <th>Hour</th>\n",
       "      <th>Minute</th>\n",
       "      <th>Second</th>\n",
       "      <th>SalesAgentLabel</th>\n",
       "      <th>SalesAgent</th>\n",
       "      <th>DeliveryModeLabel</th>\n",
       "      <th>DeliveryMode</th>\n",
       "    </tr>\n",
       "  </thead>\n",
       "  <tbody>\n",
       "    <tr>\n",
       "      <th>0</th>\n",
       "      <td>2018-11-14 10:05:00</td>\n",
       "      <td>NaN</td>\n",
       "      <td>Website</td>\n",
       "      <td>984XXXXXXX</td>\n",
       "      <td>aXXXXXXX@gmail.com</td>\n",
       "      <td>Sales-Agent-11</td>\n",
       "      <td>NaN</td>\n",
       "      <td>Mode-5</td>\n",
       "      <td>Open</td>\n",
       "      <td>2018-11-14</td>\n",
       "      <td>...</td>\n",
       "      <td>14</td>\n",
       "      <td>11</td>\n",
       "      <td>2018</td>\n",
       "      <td>10</td>\n",
       "      <td>5</td>\n",
       "      <td>0</td>\n",
       "      <td>Sales-Agent</td>\n",
       "      <td>11.0</td>\n",
       "      <td>Mode</td>\n",
       "      <td>5</td>\n",
       "    </tr>\n",
       "    <tr>\n",
       "      <th>1</th>\n",
       "      <td>2018-11-14 09:22:00</td>\n",
       "      <td>NaN</td>\n",
       "      <td>Website</td>\n",
       "      <td>XXXXXXX</td>\n",
       "      <td>#VALUE!</td>\n",
       "      <td>Sales-Agent-10</td>\n",
       "      <td>NaN</td>\n",
       "      <td>Mode-5</td>\n",
       "      <td>Open</td>\n",
       "      <td>2018-11-14</td>\n",
       "      <td>...</td>\n",
       "      <td>14</td>\n",
       "      <td>11</td>\n",
       "      <td>2018</td>\n",
       "      <td>9</td>\n",
       "      <td>22</td>\n",
       "      <td>0</td>\n",
       "      <td>Sales-Agent</td>\n",
       "      <td>10.0</td>\n",
       "      <td>Mode</td>\n",
       "      <td>5</td>\n",
       "    </tr>\n",
       "    <tr>\n",
       "      <th>2</th>\n",
       "      <td>2018-11-14 09:21:00</td>\n",
       "      <td>NaN</td>\n",
       "      <td>Website</td>\n",
       "      <td>XXXXXXX</td>\n",
       "      <td>dXXXXXXX@yahoo.com</td>\n",
       "      <td>Sales-Agent-10</td>\n",
       "      <td>NaN</td>\n",
       "      <td>Mode-5</td>\n",
       "      <td>Open</td>\n",
       "      <td>2018-11-14</td>\n",
       "      <td>...</td>\n",
       "      <td>14</td>\n",
       "      <td>11</td>\n",
       "      <td>2018</td>\n",
       "      <td>9</td>\n",
       "      <td>21</td>\n",
       "      <td>0</td>\n",
       "      <td>Sales-Agent</td>\n",
       "      <td>10.0</td>\n",
       "      <td>Mode</td>\n",
       "      <td>5</td>\n",
       "    </tr>\n",
       "    <tr>\n",
       "      <th>3</th>\n",
       "      <td>2018-11-14 08:46:00</td>\n",
       "      <td>NaN</td>\n",
       "      <td>Website</td>\n",
       "      <td>XXXXXXX</td>\n",
       "      <td>wXXXXXXX@gmail.com</td>\n",
       "      <td>Sales-Agent-10</td>\n",
       "      <td>NaN</td>\n",
       "      <td>Mode-5</td>\n",
       "      <td>Open</td>\n",
       "      <td>2018-11-14</td>\n",
       "      <td>...</td>\n",
       "      <td>14</td>\n",
       "      <td>11</td>\n",
       "      <td>2018</td>\n",
       "      <td>8</td>\n",
       "      <td>46</td>\n",
       "      <td>0</td>\n",
       "      <td>Sales-Agent</td>\n",
       "      <td>10.0</td>\n",
       "      <td>Mode</td>\n",
       "      <td>5</td>\n",
       "    </tr>\n",
       "    <tr>\n",
       "      <th>4</th>\n",
       "      <td>2018-11-14 07:34:00</td>\n",
       "      <td>NaN</td>\n",
       "      <td>Website</td>\n",
       "      <td>XXXXXXX</td>\n",
       "      <td>cXXXXXXX@gmail.com</td>\n",
       "      <td>Sales-Agent-10</td>\n",
       "      <td>NaN</td>\n",
       "      <td>Mode-5</td>\n",
       "      <td>Open</td>\n",
       "      <td>2018-11-14</td>\n",
       "      <td>...</td>\n",
       "      <td>14</td>\n",
       "      <td>11</td>\n",
       "      <td>2018</td>\n",
       "      <td>7</td>\n",
       "      <td>34</td>\n",
       "      <td>0</td>\n",
       "      <td>Sales-Agent</td>\n",
       "      <td>10.0</td>\n",
       "      <td>Mode</td>\n",
       "      <td>5</td>\n",
       "    </tr>\n",
       "  </tbody>\n",
       "</table>\n",
       "<p>5 rows × 21 columns</p>\n",
       "</div>"
      ],
      "text/plain": [
       "              Created  Product_ID   Source      Mobile               EMAIL  \\\n",
       "0 2018-11-14 10:05:00         NaN  Website  984XXXXXXX  aXXXXXXX@gmail.com   \n",
       "1 2018-11-14 09:22:00         NaN  Website     XXXXXXX             #VALUE!   \n",
       "2 2018-11-14 09:21:00         NaN  Website     XXXXXXX  dXXXXXXX@yahoo.com   \n",
       "3 2018-11-14 08:46:00         NaN  Website     XXXXXXX  wXXXXXXX@gmail.com   \n",
       "4 2018-11-14 07:34:00         NaN  Website     XXXXXXX  cXXXXXXX@gmail.com   \n",
       "\n",
       "      Sales_Agent Location Delivery_Mode Status        Date  ... Day  Month  \\\n",
       "0  Sales-Agent-11      NaN        Mode-5   Open  2018-11-14  ...  14     11   \n",
       "1  Sales-Agent-10      NaN        Mode-5   Open  2018-11-14  ...  14     11   \n",
       "2  Sales-Agent-10      NaN        Mode-5   Open  2018-11-14  ...  14     11   \n",
       "3  Sales-Agent-10      NaN        Mode-5   Open  2018-11-14  ...  14     11   \n",
       "4  Sales-Agent-10      NaN        Mode-5   Open  2018-11-14  ...  14     11   \n",
       "\n",
       "   Year  Hour  Minute  Second  SalesAgentLabel SalesAgent  DeliveryModeLabel  \\\n",
       "0  2018    10       5       0      Sales-Agent       11.0               Mode   \n",
       "1  2018     9      22       0      Sales-Agent       10.0               Mode   \n",
       "2  2018     9      21       0      Sales-Agent       10.0               Mode   \n",
       "3  2018     8      46       0      Sales-Agent       10.0               Mode   \n",
       "4  2018     7      34       0      Sales-Agent       10.0               Mode   \n",
       "\n",
       "  DeliveryMode  \n",
       "0            5  \n",
       "1            5  \n",
       "2            5  \n",
       "3            5  \n",
       "4            5  \n",
       "\n",
       "[5 rows x 21 columns]"
      ]
     },
     "execution_count": 78,
     "metadata": {},
     "output_type": "execute_result"
    }
   ],
   "source": [
    "Sales_Data[['DeliveryModeLabel','DeliveryMode']] = Sales_Data['Delivery_Mode'].str.split('-',expand = True)\n",
    "Sales_Data.head()"
   ]
  },
  {
   "cell_type": "code",
   "execution_count": 79,
   "metadata": {},
   "outputs": [
    {
     "name": "stdout",
     "output_type": "stream",
     "text": [
      "<class 'pandas.core.frame.DataFrame'>\n",
      "Int64Index: 7422 entries, 0 to 7421\n",
      "Data columns (total 21 columns):\n",
      " #   Column             Non-Null Count  Dtype         \n",
      "---  ------             --------------  -----         \n",
      " 0   Created            7422 non-null   datetime64[ns]\n",
      " 1   Product_ID         7364 non-null   float64       \n",
      " 2   Source             7405 non-null   object        \n",
      " 3   Mobile             5612 non-null   object        \n",
      " 4   EMAIL              7422 non-null   object        \n",
      " 5   Sales_Agent        7399 non-null   object        \n",
      " 6   Location           7364 non-null   object        \n",
      " 7   Delivery_Mode      7422 non-null   object        \n",
      " 8   Status             7422 non-null   object        \n",
      " 9   Date               7422 non-null   object        \n",
      " 10  Time               7422 non-null   object        \n",
      " 11  Day                7422 non-null   int64         \n",
      " 12  Month              7422 non-null   int64         \n",
      " 13  Year               7422 non-null   int64         \n",
      " 14  Hour               7422 non-null   int64         \n",
      " 15  Minute             7422 non-null   int64         \n",
      " 16  Second             7422 non-null   int64         \n",
      " 17  SalesAgentLabel    7399 non-null   object        \n",
      " 18  SalesAgent         7399 non-null   float64       \n",
      " 19  DeliveryModeLabel  7422 non-null   object        \n",
      " 20  DeliveryMode       7422 non-null   object        \n",
      "dtypes: datetime64[ns](1), float64(2), int64(6), object(12)\n",
      "memory usage: 1.5+ MB\n"
     ]
    }
   ],
   "source": [
    "Sales_Data.info()"
   ]
  },
  {
   "cell_type": "markdown",
   "metadata": {},
   "source": [
    "### Convert DeliveryMode type object to int "
   ]
  },
  {
   "cell_type": "code",
   "execution_count": 80,
   "metadata": {},
   "outputs": [],
   "source": [
    "Sales_Data['DeliveryMode'] = Sales_Data['DeliveryMode'].astype('int64')"
   ]
  },
  {
   "cell_type": "code",
   "execution_count": 81,
   "metadata": {},
   "outputs": [
    {
     "name": "stdout",
     "output_type": "stream",
     "text": [
      "<class 'pandas.core.frame.DataFrame'>\n",
      "Int64Index: 7422 entries, 0 to 7421\n",
      "Data columns (total 21 columns):\n",
      " #   Column             Non-Null Count  Dtype         \n",
      "---  ------             --------------  -----         \n",
      " 0   Created            7422 non-null   datetime64[ns]\n",
      " 1   Product_ID         7364 non-null   float64       \n",
      " 2   Source             7405 non-null   object        \n",
      " 3   Mobile             5612 non-null   object        \n",
      " 4   EMAIL              7422 non-null   object        \n",
      " 5   Sales_Agent        7399 non-null   object        \n",
      " 6   Location           7364 non-null   object        \n",
      " 7   Delivery_Mode      7422 non-null   object        \n",
      " 8   Status             7422 non-null   object        \n",
      " 9   Date               7422 non-null   object        \n",
      " 10  Time               7422 non-null   object        \n",
      " 11  Day                7422 non-null   int64         \n",
      " 12  Month              7422 non-null   int64         \n",
      " 13  Year               7422 non-null   int64         \n",
      " 14  Hour               7422 non-null   int64         \n",
      " 15  Minute             7422 non-null   int64         \n",
      " 16  Second             7422 non-null   int64         \n",
      " 17  SalesAgentLabel    7399 non-null   object        \n",
      " 18  SalesAgent         7399 non-null   float64       \n",
      " 19  DeliveryModeLabel  7422 non-null   object        \n",
      " 20  DeliveryMode       7422 non-null   int64         \n",
      "dtypes: datetime64[ns](1), float64(2), int64(7), object(11)\n",
      "memory usage: 1.5+ MB\n"
     ]
    }
   ],
   "source": [
    "Sales_Data.info()"
   ]
  },
  {
   "cell_type": "markdown",
   "metadata": {},
   "source": [
    "# Status"
   ]
  },
  {
   "cell_type": "code",
   "execution_count": 82,
   "metadata": {},
   "outputs": [
    {
     "data": {
      "text/plain": [
       "Junk Lead               1536\n",
       "Not Responding          1129\n",
       "CONVERTED                834\n",
       "Just Enquiry             760\n",
       "Potential                708\n",
       "Long Term                646\n",
       "In Progress Positive     643\n",
       "In Progress Negative     626\n",
       "LOST                     440\n",
       "Open                      82\n",
       "converted                 18\n",
       "Name: Status, dtype: int64"
      ]
     },
     "execution_count": 82,
     "metadata": {},
     "output_type": "execute_result"
    }
   ],
   "source": [
    "Sales_Data.Status.value_counts()"
   ]
  },
  {
   "cell_type": "markdown",
   "metadata": {},
   "source": [
    "### Find the similar meaning value and replace with one common value"
   ]
  },
  {
   "cell_type": "code",
   "execution_count": 83,
   "metadata": {},
   "outputs": [
    {
     "data": {
      "text/plain": [
       "Junk Lead               1536\n",
       "Not Responding          1129\n",
       "Converted                852\n",
       "Just Enquiry             760\n",
       "Potential                708\n",
       "Long Term                646\n",
       "In Progress Positive     643\n",
       "In Progress Negative     626\n",
       "LOST                     440\n",
       "Open                      82\n",
       "Name: Status, dtype: int64"
      ]
     },
     "execution_count": 83,
     "metadata": {},
     "output_type": "execute_result"
    }
   ],
   "source": [
    "Sales_Data.Status.replace(to_replace=['CONVERTED', 'converted'],value='Converted', inplace=True)\n",
    "Sales_Data['Status'].value_counts()"
   ]
  },
  {
   "cell_type": "markdown",
   "metadata": {},
   "source": [
    "# Dataset with Data Clean"
   ]
  },
  {
   "cell_type": "code",
   "execution_count": 84,
   "metadata": {},
   "outputs": [
    {
     "data": {
      "text/html": [
       "<div>\n",
       "<style scoped>\n",
       "    .dataframe tbody tr th:only-of-type {\n",
       "        vertical-align: middle;\n",
       "    }\n",
       "\n",
       "    .dataframe tbody tr th {\n",
       "        vertical-align: top;\n",
       "    }\n",
       "\n",
       "    .dataframe thead th {\n",
       "        text-align: right;\n",
       "    }\n",
       "</style>\n",
       "<table border=\"1\" class=\"dataframe\">\n",
       "  <thead>\n",
       "    <tr style=\"text-align: right;\">\n",
       "      <th></th>\n",
       "      <th>Created</th>\n",
       "      <th>Product_ID</th>\n",
       "      <th>Source</th>\n",
       "      <th>Mobile</th>\n",
       "      <th>EMAIL</th>\n",
       "      <th>Sales_Agent</th>\n",
       "      <th>Location</th>\n",
       "      <th>Delivery_Mode</th>\n",
       "      <th>Status</th>\n",
       "      <th>Date</th>\n",
       "      <th>...</th>\n",
       "      <th>Day</th>\n",
       "      <th>Month</th>\n",
       "      <th>Year</th>\n",
       "      <th>Hour</th>\n",
       "      <th>Minute</th>\n",
       "      <th>Second</th>\n",
       "      <th>SalesAgentLabel</th>\n",
       "      <th>SalesAgent</th>\n",
       "      <th>DeliveryModeLabel</th>\n",
       "      <th>DeliveryMode</th>\n",
       "    </tr>\n",
       "  </thead>\n",
       "  <tbody>\n",
       "    <tr>\n",
       "      <th>0</th>\n",
       "      <td>2018-11-14 10:05:00</td>\n",
       "      <td>NaN</td>\n",
       "      <td>Website</td>\n",
       "      <td>984XXXXXXX</td>\n",
       "      <td>aXXXXXXX@gmail.com</td>\n",
       "      <td>Sales-Agent-11</td>\n",
       "      <td>NaN</td>\n",
       "      <td>Mode-5</td>\n",
       "      <td>Open</td>\n",
       "      <td>2018-11-14</td>\n",
       "      <td>...</td>\n",
       "      <td>14</td>\n",
       "      <td>11</td>\n",
       "      <td>2018</td>\n",
       "      <td>10</td>\n",
       "      <td>5</td>\n",
       "      <td>0</td>\n",
       "      <td>Sales-Agent</td>\n",
       "      <td>11.0</td>\n",
       "      <td>Mode</td>\n",
       "      <td>5</td>\n",
       "    </tr>\n",
       "    <tr>\n",
       "      <th>1</th>\n",
       "      <td>2018-11-14 09:22:00</td>\n",
       "      <td>NaN</td>\n",
       "      <td>Website</td>\n",
       "      <td>XXXXXXX</td>\n",
       "      <td>#VALUE!</td>\n",
       "      <td>Sales-Agent-10</td>\n",
       "      <td>NaN</td>\n",
       "      <td>Mode-5</td>\n",
       "      <td>Open</td>\n",
       "      <td>2018-11-14</td>\n",
       "      <td>...</td>\n",
       "      <td>14</td>\n",
       "      <td>11</td>\n",
       "      <td>2018</td>\n",
       "      <td>9</td>\n",
       "      <td>22</td>\n",
       "      <td>0</td>\n",
       "      <td>Sales-Agent</td>\n",
       "      <td>10.0</td>\n",
       "      <td>Mode</td>\n",
       "      <td>5</td>\n",
       "    </tr>\n",
       "    <tr>\n",
       "      <th>2</th>\n",
       "      <td>2018-11-14 09:21:00</td>\n",
       "      <td>NaN</td>\n",
       "      <td>Website</td>\n",
       "      <td>XXXXXXX</td>\n",
       "      <td>dXXXXXXX@yahoo.com</td>\n",
       "      <td>Sales-Agent-10</td>\n",
       "      <td>NaN</td>\n",
       "      <td>Mode-5</td>\n",
       "      <td>Open</td>\n",
       "      <td>2018-11-14</td>\n",
       "      <td>...</td>\n",
       "      <td>14</td>\n",
       "      <td>11</td>\n",
       "      <td>2018</td>\n",
       "      <td>9</td>\n",
       "      <td>21</td>\n",
       "      <td>0</td>\n",
       "      <td>Sales-Agent</td>\n",
       "      <td>10.0</td>\n",
       "      <td>Mode</td>\n",
       "      <td>5</td>\n",
       "    </tr>\n",
       "    <tr>\n",
       "      <th>3</th>\n",
       "      <td>2018-11-14 08:46:00</td>\n",
       "      <td>NaN</td>\n",
       "      <td>Website</td>\n",
       "      <td>XXXXXXX</td>\n",
       "      <td>wXXXXXXX@gmail.com</td>\n",
       "      <td>Sales-Agent-10</td>\n",
       "      <td>NaN</td>\n",
       "      <td>Mode-5</td>\n",
       "      <td>Open</td>\n",
       "      <td>2018-11-14</td>\n",
       "      <td>...</td>\n",
       "      <td>14</td>\n",
       "      <td>11</td>\n",
       "      <td>2018</td>\n",
       "      <td>8</td>\n",
       "      <td>46</td>\n",
       "      <td>0</td>\n",
       "      <td>Sales-Agent</td>\n",
       "      <td>10.0</td>\n",
       "      <td>Mode</td>\n",
       "      <td>5</td>\n",
       "    </tr>\n",
       "    <tr>\n",
       "      <th>4</th>\n",
       "      <td>2018-11-14 07:34:00</td>\n",
       "      <td>NaN</td>\n",
       "      <td>Website</td>\n",
       "      <td>XXXXXXX</td>\n",
       "      <td>cXXXXXXX@gmail.com</td>\n",
       "      <td>Sales-Agent-10</td>\n",
       "      <td>NaN</td>\n",
       "      <td>Mode-5</td>\n",
       "      <td>Open</td>\n",
       "      <td>2018-11-14</td>\n",
       "      <td>...</td>\n",
       "      <td>14</td>\n",
       "      <td>11</td>\n",
       "      <td>2018</td>\n",
       "      <td>7</td>\n",
       "      <td>34</td>\n",
       "      <td>0</td>\n",
       "      <td>Sales-Agent</td>\n",
       "      <td>10.0</td>\n",
       "      <td>Mode</td>\n",
       "      <td>5</td>\n",
       "    </tr>\n",
       "  </tbody>\n",
       "</table>\n",
       "<p>5 rows × 21 columns</p>\n",
       "</div>"
      ],
      "text/plain": [
       "              Created  Product_ID   Source      Mobile               EMAIL  \\\n",
       "0 2018-11-14 10:05:00         NaN  Website  984XXXXXXX  aXXXXXXX@gmail.com   \n",
       "1 2018-11-14 09:22:00         NaN  Website     XXXXXXX             #VALUE!   \n",
       "2 2018-11-14 09:21:00         NaN  Website     XXXXXXX  dXXXXXXX@yahoo.com   \n",
       "3 2018-11-14 08:46:00         NaN  Website     XXXXXXX  wXXXXXXX@gmail.com   \n",
       "4 2018-11-14 07:34:00         NaN  Website     XXXXXXX  cXXXXXXX@gmail.com   \n",
       "\n",
       "      Sales_Agent Location Delivery_Mode Status        Date  ... Day  Month  \\\n",
       "0  Sales-Agent-11      NaN        Mode-5   Open  2018-11-14  ...  14     11   \n",
       "1  Sales-Agent-10      NaN        Mode-5   Open  2018-11-14  ...  14     11   \n",
       "2  Sales-Agent-10      NaN        Mode-5   Open  2018-11-14  ...  14     11   \n",
       "3  Sales-Agent-10      NaN        Mode-5   Open  2018-11-14  ...  14     11   \n",
       "4  Sales-Agent-10      NaN        Mode-5   Open  2018-11-14  ...  14     11   \n",
       "\n",
       "   Year  Hour  Minute  Second  SalesAgentLabel SalesAgent  DeliveryModeLabel  \\\n",
       "0  2018    10       5       0      Sales-Agent       11.0               Mode   \n",
       "1  2018     9      22       0      Sales-Agent       10.0               Mode   \n",
       "2  2018     9      21       0      Sales-Agent       10.0               Mode   \n",
       "3  2018     8      46       0      Sales-Agent       10.0               Mode   \n",
       "4  2018     7      34       0      Sales-Agent       10.0               Mode   \n",
       "\n",
       "  DeliveryMode  \n",
       "0            5  \n",
       "1            5  \n",
       "2            5  \n",
       "3            5  \n",
       "4            5  \n",
       "\n",
       "[5 rows x 21 columns]"
      ]
     },
     "execution_count": 84,
     "metadata": {},
     "output_type": "execute_result"
    }
   ],
   "source": [
    "Sales_Data.head()"
   ]
  },
  {
   "cell_type": "code",
   "execution_count": 85,
   "metadata": {},
   "outputs": [
    {
     "data": {
      "text/plain": [
       "Index(['Created', 'Product_ID', 'Source', 'Mobile', 'EMAIL', 'Sales_Agent',\n",
       "       'Location', 'Delivery_Mode', 'Status', 'Date', 'Time', 'Day', 'Month',\n",
       "       'Year', 'Hour', 'Minute', 'Second', 'SalesAgentLabel', 'SalesAgent',\n",
       "       'DeliveryModeLabel', 'DeliveryMode'],\n",
       "      dtype='object')"
      ]
     },
     "execution_count": 85,
     "metadata": {},
     "output_type": "execute_result"
    }
   ],
   "source": [
    "Sales_Data.columns"
   ]
  },
  {
   "cell_type": "markdown",
   "metadata": {},
   "source": [
    "# Create New DataFrame for model preparation"
   ]
  },
  {
   "cell_type": "markdown",
   "metadata": {},
   "source": [
    "### Drop unwanted variables\n",
    "###### Created, Date, Time, Year, Second, Mobile, Email, Sales_Agent, SalesAgentLabel, Delivery_Mode, DeliveryModeLabel"
   ]
  },
  {
   "cell_type": "code",
   "execution_count": 86,
   "metadata": {},
   "outputs": [],
   "source": [
    "NewSalesData = Sales_Data"
   ]
  },
  {
   "cell_type": "code",
   "execution_count": 87,
   "metadata": {},
   "outputs": [
    {
     "data": {
      "text/html": [
       "<div>\n",
       "<style scoped>\n",
       "    .dataframe tbody tr th:only-of-type {\n",
       "        vertical-align: middle;\n",
       "    }\n",
       "\n",
       "    .dataframe tbody tr th {\n",
       "        vertical-align: top;\n",
       "    }\n",
       "\n",
       "    .dataframe thead th {\n",
       "        text-align: right;\n",
       "    }\n",
       "</style>\n",
       "<table border=\"1\" class=\"dataframe\">\n",
       "  <thead>\n",
       "    <tr style=\"text-align: right;\">\n",
       "      <th></th>\n",
       "      <th>Created</th>\n",
       "      <th>Product_ID</th>\n",
       "      <th>Source</th>\n",
       "      <th>Mobile</th>\n",
       "      <th>EMAIL</th>\n",
       "      <th>Sales_Agent</th>\n",
       "      <th>Location</th>\n",
       "      <th>Delivery_Mode</th>\n",
       "      <th>Status</th>\n",
       "      <th>Date</th>\n",
       "      <th>...</th>\n",
       "      <th>Day</th>\n",
       "      <th>Month</th>\n",
       "      <th>Year</th>\n",
       "      <th>Hour</th>\n",
       "      <th>Minute</th>\n",
       "      <th>Second</th>\n",
       "      <th>SalesAgentLabel</th>\n",
       "      <th>SalesAgent</th>\n",
       "      <th>DeliveryModeLabel</th>\n",
       "      <th>DeliveryMode</th>\n",
       "    </tr>\n",
       "  </thead>\n",
       "  <tbody>\n",
       "    <tr>\n",
       "      <th>0</th>\n",
       "      <td>2018-11-14 10:05:00</td>\n",
       "      <td>NaN</td>\n",
       "      <td>Website</td>\n",
       "      <td>984XXXXXXX</td>\n",
       "      <td>aXXXXXXX@gmail.com</td>\n",
       "      <td>Sales-Agent-11</td>\n",
       "      <td>NaN</td>\n",
       "      <td>Mode-5</td>\n",
       "      <td>Open</td>\n",
       "      <td>2018-11-14</td>\n",
       "      <td>...</td>\n",
       "      <td>14</td>\n",
       "      <td>11</td>\n",
       "      <td>2018</td>\n",
       "      <td>10</td>\n",
       "      <td>5</td>\n",
       "      <td>0</td>\n",
       "      <td>Sales-Agent</td>\n",
       "      <td>11.0</td>\n",
       "      <td>Mode</td>\n",
       "      <td>5</td>\n",
       "    </tr>\n",
       "    <tr>\n",
       "      <th>1</th>\n",
       "      <td>2018-11-14 09:22:00</td>\n",
       "      <td>NaN</td>\n",
       "      <td>Website</td>\n",
       "      <td>XXXXXXX</td>\n",
       "      <td>#VALUE!</td>\n",
       "      <td>Sales-Agent-10</td>\n",
       "      <td>NaN</td>\n",
       "      <td>Mode-5</td>\n",
       "      <td>Open</td>\n",
       "      <td>2018-11-14</td>\n",
       "      <td>...</td>\n",
       "      <td>14</td>\n",
       "      <td>11</td>\n",
       "      <td>2018</td>\n",
       "      <td>9</td>\n",
       "      <td>22</td>\n",
       "      <td>0</td>\n",
       "      <td>Sales-Agent</td>\n",
       "      <td>10.0</td>\n",
       "      <td>Mode</td>\n",
       "      <td>5</td>\n",
       "    </tr>\n",
       "    <tr>\n",
       "      <th>2</th>\n",
       "      <td>2018-11-14 09:21:00</td>\n",
       "      <td>NaN</td>\n",
       "      <td>Website</td>\n",
       "      <td>XXXXXXX</td>\n",
       "      <td>dXXXXXXX@yahoo.com</td>\n",
       "      <td>Sales-Agent-10</td>\n",
       "      <td>NaN</td>\n",
       "      <td>Mode-5</td>\n",
       "      <td>Open</td>\n",
       "      <td>2018-11-14</td>\n",
       "      <td>...</td>\n",
       "      <td>14</td>\n",
       "      <td>11</td>\n",
       "      <td>2018</td>\n",
       "      <td>9</td>\n",
       "      <td>21</td>\n",
       "      <td>0</td>\n",
       "      <td>Sales-Agent</td>\n",
       "      <td>10.0</td>\n",
       "      <td>Mode</td>\n",
       "      <td>5</td>\n",
       "    </tr>\n",
       "    <tr>\n",
       "      <th>3</th>\n",
       "      <td>2018-11-14 08:46:00</td>\n",
       "      <td>NaN</td>\n",
       "      <td>Website</td>\n",
       "      <td>XXXXXXX</td>\n",
       "      <td>wXXXXXXX@gmail.com</td>\n",
       "      <td>Sales-Agent-10</td>\n",
       "      <td>NaN</td>\n",
       "      <td>Mode-5</td>\n",
       "      <td>Open</td>\n",
       "      <td>2018-11-14</td>\n",
       "      <td>...</td>\n",
       "      <td>14</td>\n",
       "      <td>11</td>\n",
       "      <td>2018</td>\n",
       "      <td>8</td>\n",
       "      <td>46</td>\n",
       "      <td>0</td>\n",
       "      <td>Sales-Agent</td>\n",
       "      <td>10.0</td>\n",
       "      <td>Mode</td>\n",
       "      <td>5</td>\n",
       "    </tr>\n",
       "    <tr>\n",
       "      <th>4</th>\n",
       "      <td>2018-11-14 07:34:00</td>\n",
       "      <td>NaN</td>\n",
       "      <td>Website</td>\n",
       "      <td>XXXXXXX</td>\n",
       "      <td>cXXXXXXX@gmail.com</td>\n",
       "      <td>Sales-Agent-10</td>\n",
       "      <td>NaN</td>\n",
       "      <td>Mode-5</td>\n",
       "      <td>Open</td>\n",
       "      <td>2018-11-14</td>\n",
       "      <td>...</td>\n",
       "      <td>14</td>\n",
       "      <td>11</td>\n",
       "      <td>2018</td>\n",
       "      <td>7</td>\n",
       "      <td>34</td>\n",
       "      <td>0</td>\n",
       "      <td>Sales-Agent</td>\n",
       "      <td>10.0</td>\n",
       "      <td>Mode</td>\n",
       "      <td>5</td>\n",
       "    </tr>\n",
       "  </tbody>\n",
       "</table>\n",
       "<p>5 rows × 21 columns</p>\n",
       "</div>"
      ],
      "text/plain": [
       "              Created  Product_ID   Source      Mobile               EMAIL  \\\n",
       "0 2018-11-14 10:05:00         NaN  Website  984XXXXXXX  aXXXXXXX@gmail.com   \n",
       "1 2018-11-14 09:22:00         NaN  Website     XXXXXXX             #VALUE!   \n",
       "2 2018-11-14 09:21:00         NaN  Website     XXXXXXX  dXXXXXXX@yahoo.com   \n",
       "3 2018-11-14 08:46:00         NaN  Website     XXXXXXX  wXXXXXXX@gmail.com   \n",
       "4 2018-11-14 07:34:00         NaN  Website     XXXXXXX  cXXXXXXX@gmail.com   \n",
       "\n",
       "      Sales_Agent Location Delivery_Mode Status        Date  ... Day  Month  \\\n",
       "0  Sales-Agent-11      NaN        Mode-5   Open  2018-11-14  ...  14     11   \n",
       "1  Sales-Agent-10      NaN        Mode-5   Open  2018-11-14  ...  14     11   \n",
       "2  Sales-Agent-10      NaN        Mode-5   Open  2018-11-14  ...  14     11   \n",
       "3  Sales-Agent-10      NaN        Mode-5   Open  2018-11-14  ...  14     11   \n",
       "4  Sales-Agent-10      NaN        Mode-5   Open  2018-11-14  ...  14     11   \n",
       "\n",
       "   Year  Hour  Minute  Second  SalesAgentLabel SalesAgent  DeliveryModeLabel  \\\n",
       "0  2018    10       5       0      Sales-Agent       11.0               Mode   \n",
       "1  2018     9      22       0      Sales-Agent       10.0               Mode   \n",
       "2  2018     9      21       0      Sales-Agent       10.0               Mode   \n",
       "3  2018     8      46       0      Sales-Agent       10.0               Mode   \n",
       "4  2018     7      34       0      Sales-Agent       10.0               Mode   \n",
       "\n",
       "  DeliveryMode  \n",
       "0            5  \n",
       "1            5  \n",
       "2            5  \n",
       "3            5  \n",
       "4            5  \n",
       "\n",
       "[5 rows x 21 columns]"
      ]
     },
     "execution_count": 87,
     "metadata": {},
     "output_type": "execute_result"
    }
   ],
   "source": [
    "NewSalesData.head()"
   ]
  },
  {
   "cell_type": "code",
   "execution_count": 88,
   "metadata": {},
   "outputs": [],
   "source": [
    "NewSalesData = NewSalesData.drop(['Created','Date','Time','Year','Second','Mobile','EMAIL', \\\n",
    "                                  'Sales_Agent','SalesAgentLabel','Delivery_Mode','DeliveryModeLabel'],axis=1)"
   ]
  },
  {
   "cell_type": "code",
   "execution_count": 89,
   "metadata": {},
   "outputs": [
    {
     "data": {
      "text/html": [
       "<div>\n",
       "<style scoped>\n",
       "    .dataframe tbody tr th:only-of-type {\n",
       "        vertical-align: middle;\n",
       "    }\n",
       "\n",
       "    .dataframe tbody tr th {\n",
       "        vertical-align: top;\n",
       "    }\n",
       "\n",
       "    .dataframe thead th {\n",
       "        text-align: right;\n",
       "    }\n",
       "</style>\n",
       "<table border=\"1\" class=\"dataframe\">\n",
       "  <thead>\n",
       "    <tr style=\"text-align: right;\">\n",
       "      <th></th>\n",
       "      <th>Product_ID</th>\n",
       "      <th>Source</th>\n",
       "      <th>Location</th>\n",
       "      <th>Status</th>\n",
       "      <th>Day</th>\n",
       "      <th>Month</th>\n",
       "      <th>Hour</th>\n",
       "      <th>Minute</th>\n",
       "      <th>SalesAgent</th>\n",
       "      <th>DeliveryMode</th>\n",
       "    </tr>\n",
       "  </thead>\n",
       "  <tbody>\n",
       "    <tr>\n",
       "      <th>0</th>\n",
       "      <td>NaN</td>\n",
       "      <td>Website</td>\n",
       "      <td>NaN</td>\n",
       "      <td>Open</td>\n",
       "      <td>14</td>\n",
       "      <td>11</td>\n",
       "      <td>10</td>\n",
       "      <td>5</td>\n",
       "      <td>11.0</td>\n",
       "      <td>5</td>\n",
       "    </tr>\n",
       "    <tr>\n",
       "      <th>1</th>\n",
       "      <td>NaN</td>\n",
       "      <td>Website</td>\n",
       "      <td>NaN</td>\n",
       "      <td>Open</td>\n",
       "      <td>14</td>\n",
       "      <td>11</td>\n",
       "      <td>9</td>\n",
       "      <td>22</td>\n",
       "      <td>10.0</td>\n",
       "      <td>5</td>\n",
       "    </tr>\n",
       "    <tr>\n",
       "      <th>2</th>\n",
       "      <td>NaN</td>\n",
       "      <td>Website</td>\n",
       "      <td>NaN</td>\n",
       "      <td>Open</td>\n",
       "      <td>14</td>\n",
       "      <td>11</td>\n",
       "      <td>9</td>\n",
       "      <td>21</td>\n",
       "      <td>10.0</td>\n",
       "      <td>5</td>\n",
       "    </tr>\n",
       "    <tr>\n",
       "      <th>3</th>\n",
       "      <td>NaN</td>\n",
       "      <td>Website</td>\n",
       "      <td>NaN</td>\n",
       "      <td>Open</td>\n",
       "      <td>14</td>\n",
       "      <td>11</td>\n",
       "      <td>8</td>\n",
       "      <td>46</td>\n",
       "      <td>10.0</td>\n",
       "      <td>5</td>\n",
       "    </tr>\n",
       "    <tr>\n",
       "      <th>4</th>\n",
       "      <td>NaN</td>\n",
       "      <td>Website</td>\n",
       "      <td>NaN</td>\n",
       "      <td>Open</td>\n",
       "      <td>14</td>\n",
       "      <td>11</td>\n",
       "      <td>7</td>\n",
       "      <td>34</td>\n",
       "      <td>10.0</td>\n",
       "      <td>5</td>\n",
       "    </tr>\n",
       "  </tbody>\n",
       "</table>\n",
       "</div>"
      ],
      "text/plain": [
       "   Product_ID   Source Location Status  Day  Month  Hour  Minute  SalesAgent  \\\n",
       "0         NaN  Website      NaN   Open   14     11    10       5        11.0   \n",
       "1         NaN  Website      NaN   Open   14     11     9      22        10.0   \n",
       "2         NaN  Website      NaN   Open   14     11     9      21        10.0   \n",
       "3         NaN  Website      NaN   Open   14     11     8      46        10.0   \n",
       "4         NaN  Website      NaN   Open   14     11     7      34        10.0   \n",
       "\n",
       "   DeliveryMode  \n",
       "0             5  \n",
       "1             5  \n",
       "2             5  \n",
       "3             5  \n",
       "4             5  "
      ]
     },
     "execution_count": 89,
     "metadata": {},
     "output_type": "execute_result"
    }
   ],
   "source": [
    "NewSalesData.head()"
   ]
  },
  {
   "cell_type": "code",
   "execution_count": 90,
   "metadata": {},
   "outputs": [
    {
     "name": "stdout",
     "output_type": "stream",
     "text": [
      "<class 'pandas.core.frame.DataFrame'>\n",
      "Int64Index: 7422 entries, 0 to 7421\n",
      "Data columns (total 10 columns):\n",
      " #   Column        Non-Null Count  Dtype  \n",
      "---  ------        --------------  -----  \n",
      " 0   Product_ID    7364 non-null   float64\n",
      " 1   Source        7405 non-null   object \n",
      " 2   Location      7364 non-null   object \n",
      " 3   Status        7422 non-null   object \n",
      " 4   Day           7422 non-null   int64  \n",
      " 5   Month         7422 non-null   int64  \n",
      " 6   Hour          7422 non-null   int64  \n",
      " 7   Minute        7422 non-null   int64  \n",
      " 8   SalesAgent    7399 non-null   float64\n",
      " 9   DeliveryMode  7422 non-null   int64  \n",
      "dtypes: float64(2), int64(5), object(3)\n",
      "memory usage: 895.9+ KB\n"
     ]
    }
   ],
   "source": [
    "NewSalesData.info()"
   ]
  },
  {
   "cell_type": "markdown",
   "metadata": {},
   "source": [
    "# Since it is categorical data use Frequency table for distribution of each cetegory and bar chart for data visualization \n",
    "### Frequency table before Source and Location Encoded"
   ]
  },
  {
   "cell_type": "code",
   "execution_count": 91,
   "metadata": {},
   "outputs": [
    {
     "data": {
      "text/plain": [
       "Status     Day  Month  Hour  Minute  Product_ID  Source            SalesAgent  Location   DeliveryMode\n",
       "Converted  5    1      7     25      21.0        CRM form          4.0         Bangalore  1               1\n",
       "                       22    0       18.0        Live Chat-Direct  4.0         Bangalore  1               1\n",
       "                             9       21.0        CRM form          4.0         Bangalore  1               1\n",
       "                2      10    33      9.0         Call              6.0         Delhi      5               1\n",
       "                             34      9.0         Call              6.0         Bangalore  5               1\n",
       "                                                                                                         ..\n",
       "Potential  31   10     15    25      27.0        Live Chat-Direct  7.0         Bangalore  1               1\n",
       "                             38      18.0        Live Chat-Direct  4.0         Chennai    1               1\n",
       "                       16    22      19.0        Live Chat-Direct  7.0         Bangalore  1               1\n",
       "                       17    46      20.0        Live Chat-Direct  11.0        Bangalore  1               1\n",
       "                             52      27.0        Live Chat-Direct  11.0        Bangalore  3               1\n",
       "Length: 7319, dtype: int64"
      ]
     },
     "execution_count": 91,
     "metadata": {},
     "output_type": "execute_result"
    }
   ],
   "source": [
    "fredf = NewSalesData.groupby(['Status','Day','Month','Hour','Minute','Product_ID',\\\n",
    "                              'Source','SalesAgent','Location','DeliveryMode'])\n",
    "fredf.size()"
   ]
  },
  {
   "cell_type": "code",
   "execution_count": 92,
   "metadata": {},
   "outputs": [
    {
     "name": "stdout",
     "output_type": "stream",
     "text": [
      "5\n",
      "      Product_ID            Source         Location                Status  \\\n",
      "6829        15.0        US Website  Other Locations          Just Enquiry   \n",
      "6830        18.0           Website  Other Locations  In Progress Negative   \n",
      "6831         9.0           Website  Other Locations  In Progress Negative   \n",
      "6832        18.0           Website  Other Locations        Not Responding   \n",
      "6833        15.0        US Website  Other Locations        Not Responding   \n",
      "...          ...               ...              ...                   ...   \n",
      "7302        21.0          CRM form            Delhi  In Progress Negative   \n",
      "7303        21.0          CRM form        Bangalore             Converted   \n",
      "7304        18.0           Website        Bangalore                  LOST   \n",
      "7305        19.0           Website  Other Locations        Not Responding   \n",
      "7306         9.0  Live Chat-Direct           Mumbai             Junk Lead   \n",
      "\n",
      "      Day  Month  Hour  Minute  SalesAgent  DeliveryMode  \n",
      "6829    5     12    23      50        11.0             1  \n",
      "6830    5     12    23      47         2.0             1  \n",
      "6831    5     12    19       0         7.0             1  \n",
      "6832    5     12    17      25         9.0             1  \n",
      "6833    5     12    17      23         4.0             1  \n",
      "...   ...    ...   ...     ...         ...           ...  \n",
      "7302    5      1     9      34        11.0             1  \n",
      "7303    5      1     7      25         4.0             1  \n",
      "7304    5      1     5      51         7.0             1  \n",
      "7305    5      1     3      47         9.0             1  \n",
      "7306    5      1     1      15        11.0             1  \n",
      "\n",
      "[478 rows x 10 columns]\n",
      "6\n",
      "      Product_ID            Source         Location                Status  \\\n",
      "5548        11.0  Live Chat-Direct               UK        Not Responding   \n",
      "5549         NaN               NaN              NaN                  Open   \n",
      "5550        27.0           Website  Other Locations             Converted   \n",
      "5551        18.0  Live Chat-Direct        Bangalore  In Progress Negative   \n",
      "5552        18.0  Live Chat-Direct        Bangalore             Converted   \n",
      "...          ...               ...              ...                   ...   \n",
      "6042        27.0           Website          Chennai                  LOST   \n",
      "6043        18.0  Live Chat-Direct        Bangalore             Long Term   \n",
      "6044        18.0    Live Chat-Blog  Other Locations                  LOST   \n",
      "6045        18.0           Website        Bangalore             Junk Lead   \n",
      "6046        18.0           Website  Other Locations             Converted   \n",
      "\n",
      "      Day  Month  Hour  Minute  SalesAgent  DeliveryMode  \n",
      "5548    6     12    21      55         5.0             1  \n",
      "5549    6     12    21       0        10.0             5  \n",
      "5550    6     12    20      51         5.0             5  \n",
      "5551    6     12    20       5         7.0             1  \n",
      "5552    6     12    19      40         3.0             1  \n",
      "...   ...    ...   ...     ...         ...           ...  \n",
      "6042    6      1     9      48         5.0             1  \n",
      "6043    6      1     9      20         2.0             1  \n",
      "6044    6      1     1      20         3.0             1  \n",
      "6045    6      1     1       7         3.0             1  \n",
      "6046    6      1     0      56         3.0             1  \n",
      "\n",
      "[499 rows x 10 columns]\n",
      "7\n",
      "      Product_ID            Source         Location                Status  \\\n",
      "4312        27.0    Live Chat -PPC        Hyderabad             Converted   \n",
      "4313         1.0  Live Chat-Direct          Chennai        Not Responding   \n",
      "4314        18.0  Live Chat-Direct        Hyderabad          Just Enquiry   \n",
      "4315        18.0  Live Chat-Direct              UAE          Just Enquiry   \n",
      "4316         1.0           Website        Bangalore        Not Responding   \n",
      "...          ...               ...              ...                   ...   \n",
      "4757        27.0  Live Chat-Direct              UAE             Converted   \n",
      "4758        18.0  Live Chat-Direct             Pune             Long Term   \n",
      "4759        15.0        US Website  Other Locations             Junk Lead   \n",
      "4760        15.0     Live Chat-CPC            Delhi             Junk Lead   \n",
      "4761        18.0  Live Chat-Direct  Other Locations  In Progress Positive   \n",
      "\n",
      "      Day  Month  Hour  Minute  SalesAgent  DeliveryMode  \n",
      "4312    7     12    19      55         5.0             3  \n",
      "4313    7     12    19      40         5.0             5  \n",
      "4314    7     12    19       5         4.0             5  \n",
      "4315    7     12    18      55        11.0             5  \n",
      "4316    7     12    18      12         9.0             5  \n",
      "...   ...    ...   ...     ...         ...           ...  \n",
      "4757    7      1    14       0         4.0             3  \n",
      "4758    7      1    13      35         5.0             1  \n",
      "4759    7      1    13      23         4.0             5  \n",
      "4760    7      1    10      30        11.0             5  \n",
      "4761    7      1     0      40         4.0             5  \n",
      "\n",
      "[450 rows x 10 columns]\n",
      "8\n",
      "      Product_ID             Source         Location                Status  \\\n",
      "3168        18.0            Website        Hyderabad             Junk Lead   \n",
      "3169        15.0         US Website  Other Locations             Junk Lead   \n",
      "3170         5.0            Website        Bangalore             Potential   \n",
      "3171        19.0            Website  Other Locations        Not Responding   \n",
      "3172        15.0         US Website  Other Locations        Not Responding   \n",
      "...          ...                ...              ...                   ...   \n",
      "3600        15.0               Call  Other Locations             Junk Lead   \n",
      "3601         9.0  Customer Referral        Bangalore             Converted   \n",
      "3602        15.0            Website  Other Locations        Not Responding   \n",
      "3603        15.0         US Website  Other Locations        Not Responding   \n",
      "3604         5.0            Website        Bangalore  In Progress Negative   \n",
      "\n",
      "      Day  Month  Hour  Minute  SalesAgent  DeliveryMode  \n",
      "3168    8     12    23      55         4.0             5  \n",
      "3169    8     12    18      23         4.0             5  \n",
      "3170    8     12    17      50        11.0             5  \n",
      "3171    8     12    17      25         4.0             5  \n",
      "3172    8     12    16      35        11.0             5  \n",
      "...   ...    ...   ...     ...         ...           ...  \n",
      "3600    8      1    10      19        11.0             5  \n",
      "3601    8      1     9      58         8.0             1  \n",
      "3602    8      1     6      31         4.0             5  \n",
      "3603    8      1     1       1        11.0             5  \n",
      "3604    8      1     0      23         3.0             5  \n",
      "\n",
      "[437 rows x 10 columns]\n",
      "9\n",
      "      Product_ID            Source         Location                Status  \\\n",
      "2033        19.0           Website  Other Locations             Long Term   \n",
      "2034        15.0           Website  Other Locations          Just Enquiry   \n",
      "2035         1.0    Live Chat-Blog        Bangalore          Just Enquiry   \n",
      "2036         5.0  Live Chat-Direct            Delhi             Potential   \n",
      "2037         9.0              Call          Chennai             Potential   \n",
      "...          ...               ...              ...                   ...   \n",
      "2481        12.0   Existing Client        Bangalore             Converted   \n",
      "2482        19.0           Website        Hyderabad             Long Term   \n",
      "2483        15.0           Website  Other Locations             Junk Lead   \n",
      "2484        19.0              Call           Mumbai             Potential   \n",
      "2485        18.0           Website        Bangalore  In Progress Positive   \n",
      "\n",
      "      Day  Month  Hour  Minute  SalesAgent  DeliveryMode  \n",
      "2033    9     12    23      31         5.0             3  \n",
      "2034    9     12    22      54         7.0             3  \n",
      "2035    9     12    18      40        11.0             1  \n",
      "2036    9     12    18      30         5.0             1  \n",
      "2037    9     12    18       6         4.0             3  \n",
      "...   ...    ...   ...     ...         ...           ...  \n",
      "2481    9      1    10       6         3.0             4  \n",
      "2482    9      1     9      55        11.0             3  \n",
      "2483    9      1     9      47         4.0             3  \n",
      "2484    9      1     9      45        11.0             3  \n",
      "2485    9      1     8      19         4.0             3  \n",
      "\n",
      "[453 rows x 10 columns]\n",
      "10\n",
      "      Product_ID             Source         Location                Status  \\\n",
      "981         27.0            Website  Other Locations        Not Responding   \n",
      "982          9.0            Website  Other Locations             Junk Lead   \n",
      "983         18.0               Call          Chennai  In Progress Negative   \n",
      "984         19.0  Customer Referral        Bangalore             Converted   \n",
      "985         19.0     Live Chat-Blog             Pune        Not Responding   \n",
      "...          ...                ...              ...                   ...   \n",
      "1378        18.0   Live Chat-Direct        Bangalore          Just Enquiry   \n",
      "1379        19.0               Call  Other Locations  In Progress Positive   \n",
      "1380        18.0     Live Chat -PPC  Other Locations             Long Term   \n",
      "1381        19.0            Website            Delhi  In Progress Negative   \n",
      "1382        15.0            Website  Other Locations  In Progress Negative   \n",
      "\n",
      "      Day  Month  Hour  Minute  SalesAgent  DeliveryMode  \n",
      "981    10     12    20      19         3.0             1  \n",
      "982    10     12    18      41         4.0             1  \n",
      "983    10     12    18      33         3.0             1  \n",
      "984    10     12    18      25         9.0             1  \n",
      "985    10     12    17      23         4.0             3  \n",
      "...   ...    ...   ...     ...         ...           ...  \n",
      "1378   10      1     9      49        11.0             1  \n",
      "1379   10      1     9      47         4.0             5  \n",
      "1380   10      1     9      40         5.0             3  \n",
      "1381   10      1     7      44         3.0             3  \n",
      "1382   10      1     4      39         4.0             3  \n",
      "\n",
      "[402 rows x 10 columns]\n",
      "11\n",
      "     Product_ID   Source         Location                Status  Day  Month  \\\n",
      "61         18.0  Website        Bangalore             Potential   11     12   \n",
      "62         19.0  Website  Other Locations  In Progress Positive   11     12   \n",
      "63         19.0  Website            Delhi          Just Enquiry   11     12   \n",
      "64         19.0  Website          Chennai  In Progress Positive   11     12   \n",
      "65         15.0  Website  Other Locations          Just Enquiry   11     12   \n",
      "..          ...      ...              ...                   ...  ...    ...   \n",
      "378        15.0  Website  Other Locations        Not Responding   11      1   \n",
      "379         3.0  Website  Other Locations  In Progress Negative   11      1   \n",
      "380        15.0  Website  Other Locations        Not Responding   11      1   \n",
      "381        18.0  Website            Delhi          Just Enquiry   11      1   \n",
      "382        12.0  Website        Bangalore  In Progress Positive   11      1   \n",
      "\n",
      "     Hour  Minute  SalesAgent  DeliveryMode  \n",
      "61     22      33         4.0             1  \n",
      "62     20      30         9.0             1  \n",
      "63     20      28         7.0             3  \n",
      "64     19      43        11.0             1  \n",
      "65     18      55         9.0             3  \n",
      "..    ...     ...         ...           ...  \n",
      "378    12      57         3.0             5  \n",
      "379     8      33         3.0             5  \n",
      "380     7      11         3.0             5  \n",
      "381     7       5         4.0             1  \n",
      "382     0      47         9.0             5  \n",
      "\n",
      "[322 rows x 10 columns]\n",
      "13\n",
      "      Product_ID          Source         Location                Status  Day  \\\n",
      "13           NaN             NaN              NaN                  Open   13   \n",
      "14           NaN         Website              NaN                  Open   13   \n",
      "15           NaN             NaN              NaN                  Open   13   \n",
      "16           NaN         Website              NaN                  Open   13   \n",
      "17           NaN         Website              NaN                  Open   13   \n",
      "...          ...             ...              ...                   ...  ...   \n",
      "6824         5.0  Live Chat -PPC  Other Locations          Just Enquiry   13   \n",
      "6825        15.0      US Website  Other Locations        Not Responding   13   \n",
      "6826         1.0         Website        Bangalore             Potential   13   \n",
      "6827        19.0         Website  Other Locations        Not Responding   13   \n",
      "6828        18.0         Website  Other Locations  In Progress Negative   13   \n",
      "\n",
      "      Month  Hour  Minute  SalesAgent  DeliveryMode  \n",
      "13       11    23      40        10.0             5  \n",
      "14       11    21      14        10.0             5  \n",
      "15       11    20      45        10.0             5  \n",
      "16       11    20      15        10.0             5  \n",
      "17       11    20      14        10.0             5  \n",
      "...     ...   ...     ...         ...           ...  \n",
      "6824      5     9      15         4.0             1  \n",
      "6825      5     7       6         9.0             1  \n",
      "6826      5     6      36         7.0             1  \n",
      "6827      5     3      26         9.0             1  \n",
      "6828      5     1      13         3.0             1  \n",
      "\n",
      "[275 rows x 10 columns]\n",
      "14\n",
      "      Product_ID      Source         Location          Status  Day  Month  \\\n",
      "0            NaN     Website              NaN            Open   14     11   \n",
      "1            NaN     Website              NaN            Open   14     11   \n",
      "2            NaN     Website              NaN            Open   14     11   \n",
      "3            NaN     Website              NaN            Open   14     11   \n",
      "4            NaN     Website              NaN            Open   14     11   \n",
      "...          ...         ...              ...             ...  ...    ...   \n",
      "6803        15.0        Call  Other Locations       Junk Lead   14      5   \n",
      "6804        15.0        Call  Other Locations            LOST   14      5   \n",
      "6805         5.0     Website        Hyderabad       Junk Lead   14      5   \n",
      "6806        18.0     Website        Hyderabad  Not Responding   14      5   \n",
      "6807        15.0  US Website  Other Locations            LOST   14      5   \n",
      "\n",
      "      Hour  Minute  SalesAgent  DeliveryMode  \n",
      "0       10       5        11.0             5  \n",
      "1        9      22        10.0             5  \n",
      "2        9      21        10.0             5  \n",
      "3        8      46        10.0             5  \n",
      "4        7      34        10.0             5  \n",
      "...    ...     ...         ...           ...  \n",
      "6803     9      49         9.0             5  \n",
      "6804     9      48        12.0             5  \n",
      "6805     8      33        11.0             1  \n",
      "6806     8       2         7.0             1  \n",
      "6807     7      43        12.0             1  \n",
      "\n",
      "[242 rows x 10 columns]\n",
      "15\n",
      "      Product_ID            Source         Location                Status  \\\n",
      "887         18.0           Website           Mumbai             Potential   \n",
      "888         18.0    Live Chat -PPC  Other Locations          Just Enquiry   \n",
      "889          9.0  Live Chat-Direct        Bangalore  In Progress Positive   \n",
      "890         27.0    Live Chat-Blog            Delhi  In Progress Negative   \n",
      "891          2.0  Live Chat-Direct  Other Locations        Not Responding   \n",
      "...          ...               ...              ...                   ...   \n",
      "6745         9.0              Call          Chennai             Converted   \n",
      "6746        15.0              Call  Other Locations                  LOST   \n",
      "6747        15.0              Call  Other Locations        Not Responding   \n",
      "6748        15.0              Call  Other Locations             Junk Lead   \n",
      "6749         9.0              Call          Chennai                  LOST   \n",
      "\n",
      "      Day  Month  Hour  Minute  SalesAgent  DeliveryMode  \n",
      "887    15     10    21      25        11.0             3  \n",
      "888    15     10    18      27        11.0             1  \n",
      "889    15     10    18      27         9.0             1  \n",
      "890    15     10    18      26         3.0             3  \n",
      "891    15     10    18      25         7.0             1  \n",
      "...   ...    ...   ...     ...         ...           ...  \n",
      "6745   15      5     9      35         7.0             4  \n",
      "6746   15      5     9      34         7.0             5  \n",
      "6747   15      5     9      33        11.0             5  \n",
      "6748   15      5     9      33         2.0             5  \n",
      "6749   15      5     9      32         7.0             5  \n",
      "\n",
      "[191 rows x 10 columns]\n",
      "16\n",
      "      Product_ID            Source         Location                Status  \\\n",
      "846         18.0           Website        Bangalore             Potential   \n",
      "847         18.0           Website        Bangalore  In Progress Positive   \n",
      "848          9.0           Website  Other Locations             Junk Lead   \n",
      "849         19.0              Call        Bangalore             Long Term   \n",
      "850         18.0  Live Chat-Direct               UK             Converted   \n",
      "...          ...               ...              ...                   ...   \n",
      "6709         9.0              Call          Chennai  In Progress Negative   \n",
      "6710        15.0              Call  Other Locations                  LOST   \n",
      "6711         9.0              Call        Bangalore             Long Term   \n",
      "6712        15.0        US Website  Other Locations             Junk Lead   \n",
      "6713        15.0        US Website  Other Locations                  LOST   \n",
      "\n",
      "      Day  Month  Hour  Minute  SalesAgent  DeliveryMode  \n",
      "846    16     10    22      57         4.0             1  \n",
      "847    16     10    20      26         7.0             1  \n",
      "848    16     10    19      51         7.0             3  \n",
      "849    16     10    18      45        11.0             5  \n",
      "850    16     10    17       6         4.0             1  \n",
      "...   ...    ...   ...     ...         ...           ...  \n",
      "6709   16      5     9      38         6.0             1  \n",
      "6710   16      5     9      37         5.0             5  \n",
      "6711   16      5     9      36         6.0             1  \n",
      "6712   16      5     8      48         3.0             1  \n",
      "6713   16      5     8       9        12.0             1  \n",
      "\n",
      "[221 rows x 10 columns]\n",
      "17\n",
      "      Product_ID                    Source         Location  \\\n",
      "816         19.0                      Call        Bangalore   \n",
      "817          9.0          Live Chat-Direct            Delhi   \n",
      "818         25.0                   Website  Other Locations   \n",
      "819         18.0  Live Chat-Google Organic           Mumbai   \n",
      "820         12.0  Live Chat-Google Organic  Other Locations   \n",
      "...          ...                       ...              ...   \n",
      "6653        15.0                      Call  Other Locations   \n",
      "6654        18.0                      Call  Other Locations   \n",
      "6655        19.0             Live Chat-CPC  Other Locations   \n",
      "6656         5.0                   Website            Delhi   \n",
      "6657        19.0                   Website  Other Locations   \n",
      "\n",
      "                    Status  Day  Month  Hour  Minute  SalesAgent  DeliveryMode  \n",
      "816              Converted   17     10    18      42         3.0             1  \n",
      "817           Just Enquiry   17     10    18      38         3.0             1  \n",
      "818              Potential   17     10    18      36         4.0             1  \n",
      "819   In Progress Positive   17     10    18      36         4.0             3  \n",
      "820              Potential   17     10    18      31        11.0             1  \n",
      "...                    ...  ...    ...   ...     ...         ...           ...  \n",
      "6653             Junk Lead   17      5    10      41         7.0             5  \n",
      "6654             Converted   17      5    10      38         3.0             5  \n",
      "6655  In Progress Negative   17      5     9      55        12.0             1  \n",
      "6656             Converted   17      5     9      54         4.0             1  \n",
      "6657  In Progress Negative   17      5     0      16        12.0             1  \n",
      "\n",
      "[222 rows x 10 columns]\n",
      "18\n",
      "      Product_ID            Source         Location                Status  \\\n",
      "792         18.0           Website           Mumbai          Just Enquiry   \n",
      "793         15.0           Website  Other Locations          Just Enquiry   \n",
      "794         15.0           Website  Other Locations          Just Enquiry   \n",
      "795         18.0           Website          Chennai  In Progress Positive   \n",
      "796         27.0           Website        Hyderabad          Just Enquiry   \n",
      "...          ...               ...              ...                   ...   \n",
      "6605        18.0  Live Chat-Direct        Bangalore             Long Term   \n",
      "6606        18.0  Live Chat-Direct        Bangalore          Just Enquiry   \n",
      "6607         5.0  Live Chat-Direct  Other Locations        Not Responding   \n",
      "6608        27.0           Website        Bangalore             Potential   \n",
      "6609        15.0           Website  Other Locations        Not Responding   \n",
      "\n",
      "      Day  Month  Hour  Minute  SalesAgent  DeliveryMode  \n",
      "792    18     10    20      44         4.0             3  \n",
      "793    18     10    19       7        11.0             5  \n",
      "794    18     10    18      13        11.0             5  \n",
      "795    18     10    18       9         7.0             1  \n",
      "796    18     10    18       1         3.0             5  \n",
      "...   ...    ...   ...     ...         ...           ...  \n",
      "6605   18      5    10       0         3.0             1  \n",
      "6606   18      5     9      45         4.0             1  \n",
      "6607   18      5     9      45        11.0             1  \n",
      "6608   18      5     9       6         5.0             1  \n",
      "6609   18      5     3      43         4.0             1  \n",
      "\n",
      "[253 rows x 10 columns]\n",
      "19\n",
      "      Product_ID   Source         Location                Status  Day  Month  \\\n",
      "787         18.0  Website           Mumbai  In Progress Negative   19     10   \n",
      "788         18.0  Website          Kolkata             Junk Lead   19     10   \n",
      "789         18.0  Website  Other Locations             Potential   19     10   \n",
      "790         27.0  Website  Other Locations  In Progress Positive   19     10   \n",
      "791         10.0  Website  Other Locations             Potential   19     10   \n",
      "...          ...      ...              ...                   ...  ...    ...   \n",
      "6569        18.0     Call            Delhi             Junk Lead   19      5   \n",
      "6570        15.0     Call  Other Locations             Junk Lead   19      5   \n",
      "6571        20.0  Website        Bangalore          Just Enquiry   19      5   \n",
      "6572        18.0  Website          Chennai             Converted   19      5   \n",
      "6573         1.0  Website  Other Locations          Just Enquiry   19      5   \n",
      "\n",
      "      Hour  Minute  SalesAgent  DeliveryMode  \n",
      "787     20       7         3.0             5  \n",
      "788     17      35         7.0             4  \n",
      "789     16      48         9.0             5  \n",
      "790     13      56         4.0             1  \n",
      "791      5      26        11.0             5  \n",
      "...    ...     ...         ...           ...  \n",
      "6569     9      43         2.0             5  \n",
      "6570     9      42        11.0             5  \n",
      "6571     2       3         9.0             1  \n",
      "6572     1      26         7.0             1  \n",
      "6573     0      54        11.0             1  \n",
      "\n",
      "[192 rows x 10 columns]\n",
      "20\n",
      "      Product_ID                    Source         Location  \\\n",
      "779          5.0                   Website  Other Locations   \n",
      "780         18.0                   Website        Bangalore   \n",
      "781         27.0                   Website        Bangalore   \n",
      "782         10.0                   Website        Hyderabad   \n",
      "783         20.0                   Website  Other Locations   \n",
      "...          ...                       ...              ...   \n",
      "6535        12.0                   Website            Delhi   \n",
      "6536        15.0                   Website  Other Locations   \n",
      "6537         5.0  Live Chat-Google Organic               UK   \n",
      "6538         5.0                      Call        Bangalore   \n",
      "6539        19.0  Live Chat-Google Organic        Bangalore   \n",
      "\n",
      "                    Status  Day  Month  Hour  Minute  SalesAgent  DeliveryMode  \n",
      "779         Not Responding   20     10    20      29         3.0             5  \n",
      "780              Potential   20     10    17       1        11.0             1  \n",
      "781              Potential   20     10    12      52         4.0             5  \n",
      "782   In Progress Positive   20     10    12      17         7.0             4  \n",
      "783              Junk Lead   20     10    11       7         3.0             5  \n",
      "...                    ...  ...    ...   ...     ...         ...           ...  \n",
      "6535             Junk Lead   20      5    12       5         3.0             1  \n",
      "6536             Junk Lead   20      5    11      34         2.0             1  \n",
      "6537             Converted   20      5    11      10         4.0             1  \n",
      "6538             Junk Lead   20      5    11       4         4.0             1  \n",
      "6539             Converted   20      5    10      15         9.0             1  \n",
      "\n",
      "[205 rows x 10 columns]\n",
      "21\n",
      "      Product_ID   Source         Location                Status  Day  Month  \\\n",
      "774         18.0  Website          Chennai  In Progress Positive   21     10   \n",
      "775         19.0  Website  Other Locations        Not Responding   21     10   \n",
      "776          9.0  Website          Chennai        Not Responding   21     10   \n",
      "777         27.0  Website           Mumbai  In Progress Positive   21     10   \n",
      "778         18.0  Website            Delhi          Just Enquiry   21     10   \n",
      "...          ...      ...              ...                   ...  ...    ...   \n",
      "6525         9.0     Call          Chennai  In Progress Positive   21      5   \n",
      "6526        15.0     Call  Other Locations             Junk Lead   21      5   \n",
      "6527        15.0     Call  Other Locations             Junk Lead   21      5   \n",
      "6528        19.0  Website        Bangalore             Converted   21      5   \n",
      "6529        27.0  Website        Bangalore             Potential   21      5   \n",
      "\n",
      "      Hour  Minute  SalesAgent  DeliveryMode  \n",
      "774     18      10         7.0             5  \n",
      "775     17      43         7.0             5  \n",
      "776     14      22         3.0             5  \n",
      "777     12      39         9.0             1  \n",
      "778      9      50         4.0             5  \n",
      "...    ...     ...         ...           ...  \n",
      "6525     9      36         7.0             5  \n",
      "6526     9      36         9.0             5  \n",
      "6527     9      35        11.0             5  \n",
      "6528     8      50         9.0             1  \n",
      "6529     0      55         5.0             1  \n",
      "\n",
      "[214 rows x 10 columns]\n",
      "22\n",
      "      Product_ID            Source         Location                Status  \\\n",
      "706         18.0           Website        Bangalore             Long Term   \n",
      "707         25.0              Call        Bangalore  In Progress Positive   \n",
      "708         19.0           Website             Pune          Just Enquiry   \n",
      "709          9.0   Existing Client  Other Locations             Potential   \n",
      "710         18.0              Call        Bangalore             Potential   \n",
      "...          ...               ...              ...                   ...   \n",
      "6479        20.0              Call        Hyderabad             Converted   \n",
      "6480        18.0  Live Chat-Direct        Bangalore  In Progress Negative   \n",
      "6481         9.0              Call        Bangalore  In Progress Negative   \n",
      "6482        27.0           Website        Bangalore                  LOST   \n",
      "6483        15.0        US Website  Other Locations  In Progress Negative   \n",
      "\n",
      "      Day  Month  Hour  Minute  SalesAgent  DeliveryMode  \n",
      "706    22     10    23      52        11.0             5  \n",
      "707    22     10    19      23         4.0             1  \n",
      "708    22     10    18      33         9.0             5  \n",
      "709    22     10    16      22         3.0             4  \n",
      "710    22     10    16      22         9.0             1  \n",
      "...   ...    ...   ...     ...         ...           ...  \n",
      "6479   22      5    10      20         9.0             5  \n",
      "6480   22      5    10      10         2.0             1  \n",
      "6481   22      5    10       9         6.0             4  \n",
      "6482   22      5     8       3         5.0             1  \n",
      "6483   22      5     6       6        12.0             1  \n",
      "\n",
      "[248 rows x 10 columns]\n",
      "23\n",
      "      Product_ID            Source         Location                Status  \\\n",
      "661         27.0           Website        Bangalore        Not Responding   \n",
      "662          9.0           Website            Delhi        Not Responding   \n",
      "663         19.0  Live Chat-Direct  Other Locations  In Progress Positive   \n",
      "664         19.0  Live Chat-Direct        Bangalore             Long Term   \n",
      "665         19.0  Live Chat-Direct            Delhi             Junk Lead   \n",
      "...          ...               ...              ...                   ...   \n",
      "6439        15.0              Call  Other Locations                  LOST   \n",
      "6440        18.0           Website        Bangalore             Junk Lead   \n",
      "6441        27.0  Live Chat-Direct           Mumbai             Junk Lead   \n",
      "6442        27.0  Personal Contact  Other Locations             Junk Lead   \n",
      "6443        15.0        US Website  Other Locations        Not Responding   \n",
      "\n",
      "      Day  Month  Hour  Minute  SalesAgent  DeliveryMode  \n",
      "661    23     10    18      48         3.0             3  \n",
      "662    23     10    18      15         4.0             1  \n",
      "663    23     10    16      54         7.0             3  \n",
      "664    23     10    16      51         3.0             1  \n",
      "665    23     10    16      48        11.0             3  \n",
      "...   ...    ...   ...     ...         ...           ...  \n",
      "6439   23      5    10      20        12.0             5  \n",
      "6440   23      5    10      19         2.0             1  \n",
      "6441   23      5     9      30         5.0             3  \n",
      "6442   23      5     8      54         5.0             5  \n",
      "6443   23      5     3       6         2.0             1  \n",
      "\n"
     ]
    },
    {
     "name": "stdout",
     "output_type": "stream",
     "text": [
      "[265 rows x 10 columns]\n",
      "24\n",
      "      Product_ID            Source         Location                Status  \\\n",
      "634         18.0           Website  Other Locations  In Progress Positive   \n",
      "635         15.0           Website          Chennai        Not Responding   \n",
      "636         18.0           Website           Mumbai          Just Enquiry   \n",
      "637         18.0  Live Chat-Direct          Chennai             Potential   \n",
      "638         18.0  Live Chat-Direct        Bangalore             Potential   \n",
      "...          ...               ...              ...                   ...   \n",
      "6383        15.0              Call  Other Locations        Not Responding   \n",
      "6384        27.0              Call        Bangalore             Converted   \n",
      "6385        27.0           Website          Chennai                  LOST   \n",
      "6386        27.0    Live Chat-Blog          Chennai        Not Responding   \n",
      "6387        15.0        US Website  Other Locations  In Progress Negative   \n",
      "\n",
      "      Day  Month  Hour  Minute  SalesAgent  DeliveryMode  \n",
      "634    24     10    23      49         4.0             5  \n",
      "635    24     10    23      47         4.0             5  \n",
      "636    24     10    20      49         3.0             5  \n",
      "637    24     10    17      50         4.0             1  \n",
      "638    24     10    17      44         9.0             3  \n",
      "...   ...    ...   ...     ...         ...           ...  \n",
      "6383   24      5    10       5        11.0             5  \n",
      "6384   24      5     9      56         5.0             3  \n",
      "6385   24      5     9      37         5.0             1  \n",
      "6386   24      5     9      30         5.0             1  \n",
      "6387   24      5     1      26        12.0             1  \n",
      "\n",
      "[203 rows x 10 columns]\n",
      "25\n",
      "      Product_ID            Source         Location          Status  Day  \\\n",
      "591         18.0           Website        Bangalore       Potential   25   \n",
      "592         10.0   Existing Client        Bangalore       Potential   25   \n",
      "593         15.0  Live Chat-Direct  Other Locations            Open   25   \n",
      "594         18.0              Call            Delhi  Not Responding   25   \n",
      "595          9.0  Live Chat-Direct        Hyderabad  Not Responding   25   \n",
      "...          ...               ...              ...             ...  ...   \n",
      "6341        27.0              Call  Other Locations  Not Responding   25   \n",
      "6342        15.0              Call  Other Locations       Junk Lead   25   \n",
      "6343        15.0              Call  Other Locations            LOST   25   \n",
      "6344         9.0  Live Chat-Direct        Bangalore       Converted   25   \n",
      "6345        16.0           Website  Other Locations       Junk Lead   25   \n",
      "\n",
      "      Month  Hour  Minute  SalesAgent  DeliveryMode  \n",
      "591      10    20      13         3.0             1  \n",
      "592      10    18       3         7.0             1  \n",
      "593      10    18       2         NaN             5  \n",
      "594      10    17      12         7.0             1  \n",
      "595      10    17       8         4.0             3  \n",
      "...     ...   ...     ...         ...           ...  \n",
      "6341      5    10      24         5.0             5  \n",
      "6342      5    10      16        11.0             5  \n",
      "6343      5    10      15        12.0             5  \n",
      "6344      5     9      40         2.0             1  \n",
      "6345      5     0      30        11.0             1  \n",
      "\n",
      "[259 rows x 10 columns]\n",
      "26\n",
      "      Product_ID            Source         Location                Status  \\\n",
      "552         15.0           Website  Other Locations          Just Enquiry   \n",
      "553         18.0           Website        Bangalore  In Progress Positive   \n",
      "554         10.0           Website        Bangalore             Potential   \n",
      "555          9.0  Live Chat-Direct            Delhi             Potential   \n",
      "556          5.0  Live Chat-Direct        Bangalore          Just Enquiry   \n",
      "...          ...               ...              ...                   ...   \n",
      "6305        15.0              Call  Other Locations                  LOST   \n",
      "6306        15.0              Call  Other Locations             Junk Lead   \n",
      "6307        19.0           Website        Bangalore          Just Enquiry   \n",
      "6308        19.0           Website            Delhi        Not Responding   \n",
      "6309        19.0  Live Chat-Direct           Mumbai        Not Responding   \n",
      "\n",
      "      Day  Month  Hour  Minute  SalesAgent  DeliveryMode  \n",
      "552    26     10    20       3         4.0             5  \n",
      "553    26     10    19      56         9.0             1  \n",
      "554    26     10    18      16         3.0             5  \n",
      "555    26     10    18       3         3.0             3  \n",
      "556    26     10    18       1         7.0             5  \n",
      "...   ...    ...   ...     ...         ...           ...  \n",
      "6305   26      5     9      42         7.0             5  \n",
      "6306   26      5     9      42         3.0             5  \n",
      "6307   26      5     8      25         3.0             1  \n",
      "6308   26      5     1      10         9.0             1  \n",
      "6309   26      5     0      25         9.0             1  \n",
      "\n",
      "[215 rows x 10 columns]\n",
      "27\n",
      "      Product_ID                    Source         Location  \\\n",
      "521         18.0                   Website          Chennai   \n",
      "522         19.0  Live Chat-Google Organic           Mumbai   \n",
      "523         15.0                   Website          Chennai   \n",
      "524         19.0          Live Chat-Direct              UAE   \n",
      "525         27.0            Live Chat -PPC        Bangalore   \n",
      "...          ...                       ...              ...   \n",
      "6276        18.0                   Website        Bangalore   \n",
      "6277         5.0  Live Chat-Google Organic        Hyderabad   \n",
      "6278        18.0                   Website        Bangalore   \n",
      "6279        19.0                US Website  Other Locations   \n",
      "6280        15.0                US Website  Other Locations   \n",
      "\n",
      "                    Status  Day  Month  Hour  Minute  SalesAgent  DeliveryMode  \n",
      "521              Potential   27     10    19      24        11.0             1  \n",
      "522           Just Enquiry   27     10    18       1        11.0             1  \n",
      "523         Not Responding   27     10    17      56         9.0             1  \n",
      "524         Not Responding   27     10    17      47         4.0             3  \n",
      "525         Not Responding   27     10    17      45         3.0             1  \n",
      "...                    ...  ...    ...   ...     ...         ...           ...  \n",
      "6276             Converted   27      5    10      46         2.0             1  \n",
      "6277  In Progress Negative   27      5    10      40         4.0             3  \n",
      "6278        Not Responding   27      5     7      21        11.0             1  \n",
      "6279        Not Responding   27      5     2      29         9.0             1  \n",
      "6280             Junk Lead   27      5     2       9         3.0             1  \n",
      "\n",
      "[209 rows x 10 columns]\n",
      "28\n",
      "      Product_ID            Source         Location                Status  \\\n",
      "517         19.0           Website  Other Locations        Not Responding   \n",
      "518         19.0              Call        Bangalore  In Progress Positive   \n",
      "519         19.0           Website        Hyderabad             Long Term   \n",
      "520         27.0           Website  Other Locations  In Progress Positive   \n",
      "1430        18.0           Website        Bangalore  In Progress Positive   \n",
      "...          ...               ...              ...                   ...   \n",
      "7417         9.0              Call           Mumbai                  LOST   \n",
      "7418        15.0              Call  Other Locations                  LOST   \n",
      "7419         5.0  Live Chat-Direct        Bangalore        Not Responding   \n",
      "7420        21.0          CRM form  Other Locations          Just Enquiry   \n",
      "7421        25.0           Website          Chennai             Converted   \n",
      "\n",
      "      Day  Month  Hour  Minute  SalesAgent  DeliveryMode  \n",
      "517    28     10    17      51         7.0             1  \n",
      "518    28     10    15      56         7.0             4  \n",
      "519    28     10    13      36         7.0             3  \n",
      "520    28     10     5      44         7.0             5  \n",
      "1430   28      9    23      58         4.0             1  \n",
      "...   ...    ...   ...     ...         ...           ...  \n",
      "7417   28      4     9      45         6.0             4  \n",
      "7418   28      4     9      43        12.0             5  \n",
      "7419   28      4     9      20        11.0             1  \n",
      "7420   28      4     8       4         4.0             1  \n",
      "7421   28      4     7      54         3.0             1  \n",
      "\n",
      "[221 rows x 10 columns]\n",
      "29\n",
      "      Product_ID            Source         Location                Status  \\\n",
      "465          9.0           Website        Bangalore  In Progress Positive   \n",
      "466         27.0           Website        Hyderabad        Not Responding   \n",
      "467          9.0           Website        Hyderabad          Just Enquiry   \n",
      "468         19.0           Website  Other Locations             Junk Lead   \n",
      "469          2.0  Live Chat-Direct        Bangalore          Just Enquiry   \n",
      "...          ...               ...              ...                   ...   \n",
      "7385        18.0    Live Chat -PPC        Hyderabad        Not Responding   \n",
      "7386        18.0           Website        Hyderabad                  LOST   \n",
      "7387        21.0          CRM form        Bangalore             Converted   \n",
      "7388        21.0     Live Chat-CPC        Bangalore          Just Enquiry   \n",
      "7389        18.0           Website             Pune  In Progress Negative   \n",
      "\n",
      "      Day  Month  Hour  Minute  SalesAgent  DeliveryMode  \n",
      "465    29     10    23      12         4.0             1  \n",
      "466    29     10    20      38         3.0             3  \n",
      "467    29     10    19      15         9.0             3  \n",
      "468    29     10    17      54         9.0             5  \n",
      "469    29     10    17      41         3.0             1  \n",
      "...   ...    ...   ...     ...         ...           ...  \n",
      "7385   29      4    11      50         9.0             1  \n",
      "7386   29      4    10      59         3.0             1  \n",
      "7387   29      4     9      44        11.0             1  \n",
      "7388   29      4     9      30         4.0             1  \n",
      "7389   29      4     0      13        11.0             1  \n",
      "\n",
      "[267 rows x 10 columns]\n",
      "30\n",
      "      Product_ID                    Source         Location  \\\n",
      "428         19.0          Live Chat-Direct            Delhi   \n",
      "429          5.0          Live Chat-Direct          Chennai   \n",
      "430          9.0                      Call        Bangalore   \n",
      "431         19.0                      Call            Delhi   \n",
      "432         27.0                   Website          Chennai   \n",
      "...          ...                       ...              ...   \n",
      "7375        19.0                   Website        Bangalore   \n",
      "7376        18.0                   Website  Other Locations   \n",
      "7377        18.0  Live Chat-Google Organic        Bangalore   \n",
      "7378         9.0  Live Chat-Google Organic  Other Locations   \n",
      "7379        15.0                   Website          Chennai   \n",
      "\n",
      "                    Status  Day  Month  Hour  Minute  SalesAgent  DeliveryMode  \n",
      "428           Just Enquiry   30     10    18      30         9.0             3  \n",
      "429           Just Enquiry   30     10    18       1         3.0             3  \n",
      "430              Junk Lead   30     10    16      53        11.0             5  \n",
      "431   In Progress Negative   30     10    16       6         4.0             1  \n",
      "432              Potential   30     10    15      32         7.0             3  \n",
      "...                    ...  ...    ...   ...     ...         ...           ...  \n",
      "7375                  LOST   30      4    10      32        12.0             1  \n",
      "7376        Not Responding   30      4    10      25         3.0             3  \n",
      "7377  In Progress Negative   30      4     9      45         7.0             1  \n",
      "7378  In Progress Negative   30      4     9      25         7.0             1  \n",
      "7379                  LOST   30      4     7      49        12.0             1  \n",
      "\n",
      "[296 rows x 10 columns]\n",
      "31\n",
      "      Product_ID            Source         Location                Status  \\\n",
      "383         18.0           Website        Bangalore  In Progress Positive   \n",
      "384         27.0           Website           Mumbai  In Progress Positive   \n",
      "385         18.0              Call          Chennai          Just Enquiry   \n",
      "386          5.0  Live Chat-Direct  Other Locations        Not Responding   \n",
      "387         27.0  Live Chat-Direct        Bangalore             Potential   \n",
      "...          ...               ...              ...                   ...   \n",
      "6085        10.0              Call        Bangalore             Long Term   \n",
      "6086        15.0              Call  Other Locations             Junk Lead   \n",
      "6087        15.0              Call  Other Locations             Junk Lead   \n",
      "6088         5.0        US Website  Other Locations        Not Responding   \n",
      "6089        27.0           Website  Other Locations             Long Term   \n",
      "\n",
      "      Day  Month  Hour  Minute  SalesAgent  DeliveryMode  \n",
      "383    31     10    20      46         7.0             1  \n",
      "384    31     10    19       4         7.0             3  \n",
      "385    31     10    18       2         7.0             1  \n",
      "386    31     10    18       2         9.0             1  \n",
      "387    31     10    17      52        11.0             3  \n",
      "...   ...    ...   ...     ...         ...           ...  \n",
      "6085   31      5     9      50         7.0             4  \n",
      "6086   31      5     9      48        11.0             5  \n",
      "6087   31      5     9      48         2.0             5  \n",
      "6088   31      5     5      22         4.0             1  \n",
      "6089   31      5     0      21         5.0             1  \n",
      "\n",
      "[183 rows x 10 columns]\n"
     ]
    }
   ],
   "source": [
    "grouped = NewSalesData.groupby('Day')\n",
    "for name,group in grouped:\n",
    "    print(name)\n",
    "    print(group)"
   ]
  },
  {
   "cell_type": "code",
   "execution_count": 93,
   "metadata": {},
   "outputs": [
    {
     "name": "stdout",
     "output_type": "stream",
     "text": [
      "<class 'pandas.core.frame.DataFrame'>\n",
      "Int64Index: 7422 entries, 0 to 7421\n",
      "Data columns (total 10 columns):\n",
      " #   Column        Non-Null Count  Dtype  \n",
      "---  ------        --------------  -----  \n",
      " 0   Product_ID    7364 non-null   float64\n",
      " 1   Source        7405 non-null   object \n",
      " 2   Location      7364 non-null   object \n",
      " 3   Status        7422 non-null   object \n",
      " 4   Day           7422 non-null   int64  \n",
      " 5   Month         7422 non-null   int64  \n",
      " 6   Hour          7422 non-null   int64  \n",
      " 7   Minute        7422 non-null   int64  \n",
      " 8   SalesAgent    7399 non-null   float64\n",
      " 9   DeliveryMode  7422 non-null   int64  \n",
      "dtypes: float64(2), int64(5), object(3)\n",
      "memory usage: 895.9+ KB\n"
     ]
    }
   ],
   "source": [
    "NewSalesData.info()"
   ]
  },
  {
   "cell_type": "markdown",
   "metadata": {},
   "source": [
    "### Encode Source and Location variables"
   ]
  },
  {
   "cell_type": "code",
   "execution_count": 94,
   "metadata": {},
   "outputs": [
    {
     "name": "stdout",
     "output_type": "stream",
     "text": [
      "<class 'pandas.core.frame.DataFrame'>\n",
      "Int64Index: 7422 entries, 0 to 7421\n",
      "Data columns (total 10 columns):\n",
      " #   Column        Non-Null Count  Dtype  \n",
      "---  ------        --------------  -----  \n",
      " 0   Product_ID    7364 non-null   float64\n",
      " 1   Source        7422 non-null   int32  \n",
      " 2   Location      7422 non-null   int32  \n",
      " 3   Status        7422 non-null   object \n",
      " 4   Day           7422 non-null   int64  \n",
      " 5   Month         7422 non-null   int64  \n",
      " 6   Hour          7422 non-null   int64  \n",
      " 7   Minute        7422 non-null   int64  \n",
      " 8   SalesAgent    7399 non-null   float64\n",
      " 9   DeliveryMode  7422 non-null   int64  \n",
      "dtypes: float64(2), int32(2), int64(5), object(1)\n",
      "memory usage: 837.9+ KB\n"
     ]
    }
   ],
   "source": [
    "from sklearn.preprocessing import LabelEncoder\n",
    "label_enc = LabelEncoder()\n",
    "NewSalesData.Source = label_enc.fit_transform(NewSalesData.Source)\n",
    "NewSalesData.Location = label_enc.fit_transform(NewSalesData.Location)\n",
    "NewSalesData.info()"
   ]
  },
  {
   "cell_type": "markdown",
   "metadata": {},
   "source": [
    "### Convert Source and Location variable type int32 to int64 "
   ]
  },
  {
   "cell_type": "code",
   "execution_count": 95,
   "metadata": {},
   "outputs": [
    {
     "name": "stdout",
     "output_type": "stream",
     "text": [
      "<class 'pandas.core.frame.DataFrame'>\n",
      "Int64Index: 7422 entries, 0 to 7421\n",
      "Data columns (total 10 columns):\n",
      " #   Column        Non-Null Count  Dtype  \n",
      "---  ------        --------------  -----  \n",
      " 0   Product_ID    7364 non-null   float64\n",
      " 1   Source        7422 non-null   int64  \n",
      " 2   Location      7422 non-null   int64  \n",
      " 3   Status        7422 non-null   object \n",
      " 4   Day           7422 non-null   int64  \n",
      " 5   Month         7422 non-null   int64  \n",
      " 6   Hour          7422 non-null   int64  \n",
      " 7   Minute        7422 non-null   int64  \n",
      " 8   SalesAgent    7399 non-null   float64\n",
      " 9   DeliveryMode  7422 non-null   int64  \n",
      "dtypes: float64(2), int64(7), object(1)\n",
      "memory usage: 895.9+ KB\n"
     ]
    }
   ],
   "source": [
    "NewSalesData['Source'] = NewSalesData['Source'].astype('int64')\n",
    "NewSalesData['Location'] = NewSalesData['Location'].astype('int64')\n",
    "NewSalesData.info()"
   ]
  },
  {
   "cell_type": "markdown",
   "metadata": {},
   "source": [
    "### Convert the Status - Target Variable to 2 category \n",
    "#### 1 - High potential\n",
    "#### 0 - Low potential"
   ]
  },
  {
   "cell_type": "code",
   "execution_count": 96,
   "metadata": {},
   "outputs": [
    {
     "name": "stdout",
     "output_type": "stream",
     "text": [
      "<class 'pandas.core.frame.DataFrame'>\n",
      "Int64Index: 7422 entries, 0 to 7421\n",
      "Data columns (total 10 columns):\n",
      " #   Column        Non-Null Count  Dtype  \n",
      "---  ------        --------------  -----  \n",
      " 0   Product_ID    7364 non-null   float64\n",
      " 1   Source        7422 non-null   int64  \n",
      " 2   Location      7422 non-null   int64  \n",
      " 3   Status        7422 non-null   object \n",
      " 4   Day           7422 non-null   int64  \n",
      " 5   Month         7422 non-null   int64  \n",
      " 6   Hour          7422 non-null   int64  \n",
      " 7   Minute        7422 non-null   int64  \n",
      " 8   SalesAgent    7399 non-null   float64\n",
      " 9   DeliveryMode  7422 non-null   int64  \n",
      "dtypes: float64(2), int64(7), object(1)\n",
      "memory usage: 895.9+ KB\n"
     ]
    },
    {
     "name": "stderr",
     "output_type": "stream",
     "text": [
      "C:\\Users\\Sanchitha\\anaconda3\\lib\\site-packages\\ipykernel_launcher.py:1: SettingWithCopyWarning: \n",
      "A value is trying to be set on a copy of a slice from a DataFrame\n",
      "\n",
      "See the caveats in the documentation: https://pandas.pydata.org/pandas-docs/stable/user_guide/indexing.html#returning-a-view-versus-a-copy\n",
      "  \"\"\"Entry point for launching an IPython kernel.\n",
      "C:\\Users\\Sanchitha\\anaconda3\\lib\\site-packages\\ipykernel_launcher.py:2: SettingWithCopyWarning: \n",
      "A value is trying to be set on a copy of a slice from a DataFrame\n",
      "\n",
      "See the caveats in the documentation: https://pandas.pydata.org/pandas-docs/stable/user_guide/indexing.html#returning-a-view-versus-a-copy\n",
      "  \n",
      "C:\\Users\\Sanchitha\\anaconda3\\lib\\site-packages\\ipykernel_launcher.py:3: SettingWithCopyWarning: \n",
      "A value is trying to be set on a copy of a slice from a DataFrame\n",
      "\n",
      "See the caveats in the documentation: https://pandas.pydata.org/pandas-docs/stable/user_guide/indexing.html#returning-a-view-versus-a-copy\n",
      "  This is separate from the ipykernel package so we can avoid doing imports until\n",
      "C:\\Users\\Sanchitha\\anaconda3\\lib\\site-packages\\ipykernel_launcher.py:4: SettingWithCopyWarning: \n",
      "A value is trying to be set on a copy of a slice from a DataFrame\n",
      "\n",
      "See the caveats in the documentation: https://pandas.pydata.org/pandas-docs/stable/user_guide/indexing.html#returning-a-view-versus-a-copy\n",
      "  after removing the cwd from sys.path.\n",
      "C:\\Users\\Sanchitha\\anaconda3\\lib\\site-packages\\ipykernel_launcher.py:5: SettingWithCopyWarning: \n",
      "A value is trying to be set on a copy of a slice from a DataFrame\n",
      "\n",
      "See the caveats in the documentation: https://pandas.pydata.org/pandas-docs/stable/user_guide/indexing.html#returning-a-view-versus-a-copy\n",
      "  \"\"\"\n",
      "C:\\Users\\Sanchitha\\anaconda3\\lib\\site-packages\\ipykernel_launcher.py:6: SettingWithCopyWarning: \n",
      "A value is trying to be set on a copy of a slice from a DataFrame\n",
      "\n",
      "See the caveats in the documentation: https://pandas.pydata.org/pandas-docs/stable/user_guide/indexing.html#returning-a-view-versus-a-copy\n",
      "  \n",
      "C:\\Users\\Sanchitha\\anaconda3\\lib\\site-packages\\ipykernel_launcher.py:7: SettingWithCopyWarning: \n",
      "A value is trying to be set on a copy of a slice from a DataFrame\n",
      "\n",
      "See the caveats in the documentation: https://pandas.pydata.org/pandas-docs/stable/user_guide/indexing.html#returning-a-view-versus-a-copy\n",
      "  import sys\n",
      "C:\\Users\\Sanchitha\\anaconda3\\lib\\site-packages\\ipykernel_launcher.py:8: SettingWithCopyWarning: \n",
      "A value is trying to be set on a copy of a slice from a DataFrame\n",
      "\n",
      "See the caveats in the documentation: https://pandas.pydata.org/pandas-docs/stable/user_guide/indexing.html#returning-a-view-versus-a-copy\n",
      "  \n",
      "C:\\Users\\Sanchitha\\anaconda3\\lib\\site-packages\\ipykernel_launcher.py:9: SettingWithCopyWarning: \n",
      "A value is trying to be set on a copy of a slice from a DataFrame\n",
      "\n",
      "See the caveats in the documentation: https://pandas.pydata.org/pandas-docs/stable/user_guide/indexing.html#returning-a-view-versus-a-copy\n",
      "  if __name__ == '__main__':\n",
      "C:\\Users\\Sanchitha\\anaconda3\\lib\\site-packages\\ipykernel_launcher.py:10: SettingWithCopyWarning: \n",
      "A value is trying to be set on a copy of a slice from a DataFrame\n",
      "\n",
      "See the caveats in the documentation: https://pandas.pydata.org/pandas-docs/stable/user_guide/indexing.html#returning-a-view-versus-a-copy\n",
      "  # Remove the CWD from sys.path while we load stuff.\n"
     ]
    }
   ],
   "source": [
    "NewSalesData.Status[NewSalesData['Status'] == 'Converted'] = 1\n",
    "NewSalesData.Status[NewSalesData['Status'] == 'Potential'] = 1\n",
    "NewSalesData.Status[NewSalesData['Status'] == 'Long Term'] = 1\n",
    "NewSalesData.Status[NewSalesData['Status'] == 'In Progress Positive'] = 1\n",
    "NewSalesData.Status[NewSalesData['Status'] == 'Open'] = 1\n",
    "NewSalesData.Status[NewSalesData['Status'] == 'Just Enquiry'] = 0\n",
    "NewSalesData.Status[NewSalesData['Status'] == 'In Progress Negative'] = 0\n",
    "NewSalesData.Status[NewSalesData['Status'] == 'Junk Lead'] = 0\n",
    "NewSalesData.Status[NewSalesData['Status'] == 'Not Responding'] = 0\n",
    "NewSalesData.Status[NewSalesData['Status'] == 'LOST'] = 0\n",
    "\n",
    "NewSalesData.info()"
   ]
  },
  {
   "cell_type": "code",
   "execution_count": 97,
   "metadata": {},
   "outputs": [
    {
     "data": {
      "text/html": [
       "<div>\n",
       "<style scoped>\n",
       "    .dataframe tbody tr th:only-of-type {\n",
       "        vertical-align: middle;\n",
       "    }\n",
       "\n",
       "    .dataframe tbody tr th {\n",
       "        vertical-align: top;\n",
       "    }\n",
       "\n",
       "    .dataframe thead th {\n",
       "        text-align: right;\n",
       "    }\n",
       "</style>\n",
       "<table border=\"1\" class=\"dataframe\">\n",
       "  <thead>\n",
       "    <tr style=\"text-align: right;\">\n",
       "      <th></th>\n",
       "      <th>Product_ID</th>\n",
       "      <th>Source</th>\n",
       "      <th>Location</th>\n",
       "      <th>Status</th>\n",
       "      <th>Day</th>\n",
       "      <th>Month</th>\n",
       "      <th>Hour</th>\n",
       "      <th>Minute</th>\n",
       "      <th>SalesAgent</th>\n",
       "      <th>DeliveryMode</th>\n",
       "    </tr>\n",
       "  </thead>\n",
       "  <tbody>\n",
       "    <tr>\n",
       "      <th>0</th>\n",
       "      <td>NaN</td>\n",
       "      <td>22</td>\n",
       "      <td>17</td>\n",
       "      <td>1</td>\n",
       "      <td>14</td>\n",
       "      <td>11</td>\n",
       "      <td>10</td>\n",
       "      <td>5</td>\n",
       "      <td>11.0</td>\n",
       "      <td>5</td>\n",
       "    </tr>\n",
       "    <tr>\n",
       "      <th>1</th>\n",
       "      <td>NaN</td>\n",
       "      <td>22</td>\n",
       "      <td>17</td>\n",
       "      <td>1</td>\n",
       "      <td>14</td>\n",
       "      <td>11</td>\n",
       "      <td>9</td>\n",
       "      <td>22</td>\n",
       "      <td>10.0</td>\n",
       "      <td>5</td>\n",
       "    </tr>\n",
       "    <tr>\n",
       "      <th>2</th>\n",
       "      <td>NaN</td>\n",
       "      <td>22</td>\n",
       "      <td>17</td>\n",
       "      <td>1</td>\n",
       "      <td>14</td>\n",
       "      <td>11</td>\n",
       "      <td>9</td>\n",
       "      <td>21</td>\n",
       "      <td>10.0</td>\n",
       "      <td>5</td>\n",
       "    </tr>\n",
       "    <tr>\n",
       "      <th>3</th>\n",
       "      <td>NaN</td>\n",
       "      <td>22</td>\n",
       "      <td>17</td>\n",
       "      <td>1</td>\n",
       "      <td>14</td>\n",
       "      <td>11</td>\n",
       "      <td>8</td>\n",
       "      <td>46</td>\n",
       "      <td>10.0</td>\n",
       "      <td>5</td>\n",
       "    </tr>\n",
       "    <tr>\n",
       "      <th>4</th>\n",
       "      <td>NaN</td>\n",
       "      <td>22</td>\n",
       "      <td>17</td>\n",
       "      <td>1</td>\n",
       "      <td>14</td>\n",
       "      <td>11</td>\n",
       "      <td>7</td>\n",
       "      <td>34</td>\n",
       "      <td>10.0</td>\n",
       "      <td>5</td>\n",
       "    </tr>\n",
       "  </tbody>\n",
       "</table>\n",
       "</div>"
      ],
      "text/plain": [
       "   Product_ID  Source  Location Status  Day  Month  Hour  Minute  SalesAgent  \\\n",
       "0         NaN      22        17      1   14     11    10       5        11.0   \n",
       "1         NaN      22        17      1   14     11     9      22        10.0   \n",
       "2         NaN      22        17      1   14     11     9      21        10.0   \n",
       "3         NaN      22        17      1   14     11     8      46        10.0   \n",
       "4         NaN      22        17      1   14     11     7      34        10.0   \n",
       "\n",
       "   DeliveryMode  \n",
       "0             5  \n",
       "1             5  \n",
       "2             5  \n",
       "3             5  \n",
       "4             5  "
      ]
     },
     "execution_count": 97,
     "metadata": {},
     "output_type": "execute_result"
    }
   ],
   "source": [
    "NewSalesData.head()"
   ]
  },
  {
   "cell_type": "markdown",
   "metadata": {},
   "source": [
    "### Convert Status Target Variable type object to int64"
   ]
  },
  {
   "cell_type": "code",
   "execution_count": 98,
   "metadata": {},
   "outputs": [
    {
     "name": "stdout",
     "output_type": "stream",
     "text": [
      "<class 'pandas.core.frame.DataFrame'>\n",
      "Int64Index: 7422 entries, 0 to 7421\n",
      "Data columns (total 10 columns):\n",
      " #   Column        Non-Null Count  Dtype  \n",
      "---  ------        --------------  -----  \n",
      " 0   Product_ID    7364 non-null   float64\n",
      " 1   Source        7422 non-null   int64  \n",
      " 2   Location      7422 non-null   int64  \n",
      " 3   Status        7422 non-null   int64  \n",
      " 4   Day           7422 non-null   int64  \n",
      " 5   Month         7422 non-null   int64  \n",
      " 6   Hour          7422 non-null   int64  \n",
      " 7   Minute        7422 non-null   int64  \n",
      " 8   SalesAgent    7399 non-null   float64\n",
      " 9   DeliveryMode  7422 non-null   int64  \n",
      "dtypes: float64(2), int64(8)\n",
      "memory usage: 895.9 KB\n"
     ]
    }
   ],
   "source": [
    "NewSalesData['Status'] = NewSalesData['Status'].astype('int64')\n",
    "NewSalesData.info()"
   ]
  },
  {
   "cell_type": "markdown",
   "metadata": {},
   "source": [
    "### Describe all variables"
   ]
  },
  {
   "cell_type": "code",
   "execution_count": 99,
   "metadata": {},
   "outputs": [
    {
     "data": {
      "text/html": [
       "<div>\n",
       "<style scoped>\n",
       "    .dataframe tbody tr th:only-of-type {\n",
       "        vertical-align: middle;\n",
       "    }\n",
       "\n",
       "    .dataframe tbody tr th {\n",
       "        vertical-align: top;\n",
       "    }\n",
       "\n",
       "    .dataframe thead th {\n",
       "        text-align: right;\n",
       "    }\n",
       "</style>\n",
       "<table border=\"1\" class=\"dataframe\">\n",
       "  <thead>\n",
       "    <tr style=\"text-align: right;\">\n",
       "      <th></th>\n",
       "      <th>Product_ID</th>\n",
       "      <th>Source</th>\n",
       "      <th>Location</th>\n",
       "      <th>Status</th>\n",
       "      <th>Day</th>\n",
       "      <th>Month</th>\n",
       "      <th>Hour</th>\n",
       "      <th>Minute</th>\n",
       "      <th>SalesAgent</th>\n",
       "      <th>DeliveryMode</th>\n",
       "    </tr>\n",
       "  </thead>\n",
       "  <tbody>\n",
       "    <tr>\n",
       "      <th>count</th>\n",
       "      <td>7364.000000</td>\n",
       "      <td>7422.000000</td>\n",
       "      <td>7422.000000</td>\n",
       "      <td>7422.000000</td>\n",
       "      <td>7422.000000</td>\n",
       "      <td>7422.000000</td>\n",
       "      <td>7422.000000</td>\n",
       "      <td>7422.000000</td>\n",
       "      <td>7399.000000</td>\n",
       "      <td>7422.000000</td>\n",
       "    </tr>\n",
       "    <tr>\n",
       "      <th>mean</th>\n",
       "      <td>15.947311</td>\n",
       "      <td>10.490030</td>\n",
       "      <td>5.858529</td>\n",
       "      <td>0.394907</td>\n",
       "      <td>16.197521</td>\n",
       "      <td>6.949879</td>\n",
       "      <td>13.332794</td>\n",
       "      <td>28.617084</td>\n",
       "      <td>6.582511</td>\n",
       "      <td>3.108596</td>\n",
       "    </tr>\n",
       "    <tr>\n",
       "      <th>std</th>\n",
       "      <td>6.072937</td>\n",
       "      <td>7.721876</td>\n",
       "      <td>4.377969</td>\n",
       "      <td>0.488864</td>\n",
       "      <td>8.295045</td>\n",
       "      <td>2.624539</td>\n",
       "      <td>4.055603</td>\n",
       "      <td>17.300034</td>\n",
       "      <td>3.139528</td>\n",
       "      <td>1.739406</td>\n",
       "    </tr>\n",
       "    <tr>\n",
       "      <th>min</th>\n",
       "      <td>0.000000</td>\n",
       "      <td>0.000000</td>\n",
       "      <td>0.000000</td>\n",
       "      <td>0.000000</td>\n",
       "      <td>5.000000</td>\n",
       "      <td>1.000000</td>\n",
       "      <td>0.000000</td>\n",
       "      <td>0.000000</td>\n",
       "      <td>1.000000</td>\n",
       "      <td>1.000000</td>\n",
       "    </tr>\n",
       "    <tr>\n",
       "      <th>25%</th>\n",
       "      <td>12.000000</td>\n",
       "      <td>2.000000</td>\n",
       "      <td>1.000000</td>\n",
       "      <td>0.000000</td>\n",
       "      <td>8.000000</td>\n",
       "      <td>5.000000</td>\n",
       "      <td>11.000000</td>\n",
       "      <td>13.000000</td>\n",
       "      <td>4.000000</td>\n",
       "      <td>1.000000</td>\n",
       "    </tr>\n",
       "    <tr>\n",
       "      <th>50%</th>\n",
       "      <td>18.000000</td>\n",
       "      <td>12.000000</td>\n",
       "      <td>6.000000</td>\n",
       "      <td>0.000000</td>\n",
       "      <td>15.000000</td>\n",
       "      <td>7.000000</td>\n",
       "      <td>13.000000</td>\n",
       "      <td>29.000000</td>\n",
       "      <td>5.000000</td>\n",
       "      <td>3.000000</td>\n",
       "    </tr>\n",
       "    <tr>\n",
       "      <th>75%</th>\n",
       "      <td>19.000000</td>\n",
       "      <td>15.000000</td>\n",
       "      <td>10.000000</td>\n",
       "      <td>1.000000</td>\n",
       "      <td>23.000000</td>\n",
       "      <td>9.000000</td>\n",
       "      <td>16.000000</td>\n",
       "      <td>45.000000</td>\n",
       "      <td>9.000000</td>\n",
       "      <td>5.000000</td>\n",
       "    </tr>\n",
       "    <tr>\n",
       "      <th>max</th>\n",
       "      <td>28.000000</td>\n",
       "      <td>23.000000</td>\n",
       "      <td>17.000000</td>\n",
       "      <td>1.000000</td>\n",
       "      <td>31.000000</td>\n",
       "      <td>12.000000</td>\n",
       "      <td>23.000000</td>\n",
       "      <td>59.000000</td>\n",
       "      <td>12.000000</td>\n",
       "      <td>5.000000</td>\n",
       "    </tr>\n",
       "  </tbody>\n",
       "</table>\n",
       "</div>"
      ],
      "text/plain": [
       "        Product_ID       Source     Location       Status          Day  \\\n",
       "count  7364.000000  7422.000000  7422.000000  7422.000000  7422.000000   \n",
       "mean     15.947311    10.490030     5.858529     0.394907    16.197521   \n",
       "std       6.072937     7.721876     4.377969     0.488864     8.295045   \n",
       "min       0.000000     0.000000     0.000000     0.000000     5.000000   \n",
       "25%      12.000000     2.000000     1.000000     0.000000     8.000000   \n",
       "50%      18.000000    12.000000     6.000000     0.000000    15.000000   \n",
       "75%      19.000000    15.000000    10.000000     1.000000    23.000000   \n",
       "max      28.000000    23.000000    17.000000     1.000000    31.000000   \n",
       "\n",
       "             Month         Hour       Minute   SalesAgent  DeliveryMode  \n",
       "count  7422.000000  7422.000000  7422.000000  7399.000000   7422.000000  \n",
       "mean      6.949879    13.332794    28.617084     6.582511      3.108596  \n",
       "std       2.624539     4.055603    17.300034     3.139528      1.739406  \n",
       "min       1.000000     0.000000     0.000000     1.000000      1.000000  \n",
       "25%       5.000000    11.000000    13.000000     4.000000      1.000000  \n",
       "50%       7.000000    13.000000    29.000000     5.000000      3.000000  \n",
       "75%       9.000000    16.000000    45.000000     9.000000      5.000000  \n",
       "max      12.000000    23.000000    59.000000    12.000000      5.000000  "
      ]
     },
     "execution_count": 99,
     "metadata": {},
     "output_type": "execute_result"
    }
   ],
   "source": [
    "NewSalesData.describe()"
   ]
  },
  {
   "cell_type": "markdown",
   "metadata": {},
   "source": [
    "### Frequency table after Source and Location Encoded"
   ]
  },
  {
   "cell_type": "code",
   "execution_count": 100,
   "metadata": {},
   "outputs": [
    {
     "data": {
      "text/plain": [
       "Status  Day  Month  Hour  Minute  Product_ID  Source  SalesAgent  Location  DeliveryMode\n",
       "0       5    1      1     15      9.0         12      11.0        9         1               1\n",
       "                    3     47      19.0        22      9.0         10        1               1\n",
       "                    5     51      18.0        22      7.0         1         1               1\n",
       "                    9     34      21.0        1       11.0        3         1               1\n",
       "                    11    5       15.0        21      3.0         17        1               1\n",
       "                                                                                           ..\n",
       "1       31   10     17    42      27.0        12      9.0         0         3               1\n",
       "                          46      20.0        12      11.0        1         1               1\n",
       "                          52      27.0        12      11.0        1         3               1\n",
       "                    19    4       27.0        22      7.0         9         3               1\n",
       "                    20    46      18.0        22      7.0         1         1               1\n",
       "Length: 7316, dtype: int64"
      ]
     },
     "execution_count": 100,
     "metadata": {},
     "output_type": "execute_result"
    }
   ],
   "source": [
    "fredf = NewSalesData.groupby(['Status','Day','Month','Hour','Minute','Product_ID',\\\n",
    "                              'Source','SalesAgent','Location','DeliveryMode'])\n",
    "fredf.size()"
   ]
  },
  {
   "cell_type": "code",
   "execution_count": 101,
   "metadata": {},
   "outputs": [],
   "source": [
    "import seaborn as sns\n",
    "import matplotlib.pyplot as plt"
   ]
  },
  {
   "cell_type": "code",
   "execution_count": 102,
   "metadata": {},
   "outputs": [
    {
     "data": {
      "text/plain": [
       "<AxesSubplot:>"
      ]
     },
     "execution_count": 102,
     "metadata": {},
     "output_type": "execute_result"
    },
    {
     "data": {
      "image/png": "[encoded data removed]",
      "text/plain": [
       "<Figure size 720x720 with 1 Axes>"
      ]
     },
     "metadata": {
      "needs_background": "light"
     },
     "output_type": "display_data"
    },
    {
     "data": {
      "image/png": "[encoded data removed]",
      "text/plain": [
       "<Figure size 432x288 with 1 Axes>"
      ]
     },
     "metadata": {
      "needs_background": "light"
     },
     "output_type": "display_data"
    }
   ],
   "source": [
    "NewSalesData.boxplot(figsize=(10,10))\n",
    "NewSalesData.plot()"
   ]
  },
  {
   "cell_type": "markdown",
   "metadata": {},
   "source": [
    "### Analyze all the variables"
   ]
  },
  {
   "cell_type": "code",
   "execution_count": 103,
   "metadata": {},
   "outputs": [
    {
     "data": {
      "text/plain": [
       "<AxesSubplot:>"
      ]
     },
     "execution_count": 103,
     "metadata": {},
     "output_type": "execute_result"
    },
    {
     "data": {
      "image/png": "[encoded data removed]",
      "text/plain": [
       "<Figure size 1440x1440 with 12 Axes>"
      ]
     },
     "metadata": {
      "needs_background": "light"
     },
     "output_type": "display_data"
    },
    {
     "data": {
      "image/png": "[encoded data removed]",
      "text/plain": [
       "<Figure size 432x288 with 1 Axes>"
      ]
     },
     "metadata": {
      "needs_background": "light"
     },
     "output_type": "display_data"
    }
   ],
   "source": [
    "NewSalesData.hist(bins = 20,figsize=(20,20))\n",
    "NewSalesData.plot()"
   ]
  },
  {
   "cell_type": "markdown",
   "metadata": {},
   "source": [
    "### Analyze how each variable influence the target variable"
   ]
  },
  {
   "cell_type": "code",
   "execution_count": 104,
   "metadata": {},
   "outputs": [
    {
     "data": {
      "image/png": "[encoded data removed]",
      "text/plain": [
       "<Figure size 1080x1440 with 9 Axes>"
      ]
     },
     "metadata": {
      "needs_background": "light"
     },
     "output_type": "display_data"
    }
   ],
   "source": [
    "plt.figure(figsize=(15,20))\n",
    "\n",
    "plt.subplot(3,3,1)\n",
    "sns.barplot(x = NewSalesData['Status'], y = NewSalesData['Product_ID'])\n",
    "\n",
    "plt.subplot(3,3,2)\n",
    "sns.barplot(x = NewSalesData['Status'], y = NewSalesData['Source'])\n",
    "\n",
    "plt.subplot(3,3,3)\n",
    "sns.barplot(x = NewSalesData['Status'], y = NewSalesData['SalesAgent'])\n",
    "\n",
    "plt.subplot(3,3,4)\n",
    "sns.barplot(x = NewSalesData['Status'], y = NewSalesData['Location'])\n",
    "\n",
    "plt.subplot(3,3,5)\n",
    "sns.barplot(x = NewSalesData['Status'], y = NewSalesData['DeliveryMode'])\n",
    "\n",
    "plt.subplot(3,3,6)\n",
    "sns.barplot(x = NewSalesData['Status'], y = NewSalesData['Day'])\n",
    "\n",
    "plt.subplot(3,3,7)\n",
    "sns.barplot(x = NewSalesData['Status'], y = NewSalesData['Month'])\n",
    "\n",
    "plt.subplot(3,3,8)\n",
    "sns.barplot(x = NewSalesData['Status'], y = NewSalesData['Hour'])\n",
    "\n",
    "plt.subplot(3,3,9)\n",
    "sns.barplot(x = NewSalesData['Status'], y = NewSalesData['Minute'])\n",
    "\n",
    "plt.show()"
   ]
  },
  {
   "cell_type": "markdown",
   "metadata": {},
   "source": [
    "### To analyze how each variable influence the Target-variable(Status) feature wise"
   ]
  },
  {
   "cell_type": "markdown",
   "metadata": {},
   "source": [
    "#### Product_ID"
   ]
  },
  {
   "cell_type": "code",
   "execution_count": 105,
   "metadata": {},
   "outputs": [
    {
     "data": {
      "text/plain": [
       "<AxesSubplot:xlabel='Product_ID', ylabel='count'>"
      ]
     },
     "execution_count": 105,
     "metadata": {},
     "output_type": "execute_result"
    },
    {
     "data": {
      "image/png": "[encoded data removed]",
      "text/plain": [
       "<Figure size 720x360 with 1 Axes>"
      ]
     },
     "metadata": {
      "needs_background": "light"
     },
     "output_type": "display_data"
    }
   ],
   "source": [
    "plt.figure(figsize=(10,5))\n",
    "sns.countplot(x = 'Product_ID',hue = 'Status',data = NewSalesData)"
   ]
  },
  {
   "cell_type": "markdown",
   "metadata": {},
   "source": [
    "#### Source"
   ]
  },
  {
   "cell_type": "code",
   "execution_count": 106,
   "metadata": {},
   "outputs": [
    {
     "data": {
      "text/plain": [
       "<AxesSubplot:xlabel='Source', ylabel='count'>"
      ]
     },
     "execution_count": 106,
     "metadata": {},
     "output_type": "execute_result"
    },
    {
     "data": {
      "image/png": "[encoded data removed]",
      "text/plain": [
       "<Figure size 720x360 with 1 Axes>"
      ]
     },
     "metadata": {
      "needs_background": "light"
     },
     "output_type": "display_data"
    }
   ],
   "source": [
    "plt.figure(figsize=(10,5))\n",
    "sns.countplot(x='Source',hue='Status',data=NewSalesData)"
   ]
  },
  {
   "cell_type": "markdown",
   "metadata": {},
   "source": [
    "#### SalesAgent"
   ]
  },
  {
   "cell_type": "code",
   "execution_count": 107,
   "metadata": {},
   "outputs": [
    {
     "data": {
      "text/plain": [
       "<AxesSubplot:xlabel='SalesAgent', ylabel='count'>"
      ]
     },
     "execution_count": 107,
     "metadata": {},
     "output_type": "execute_result"
    },
    {
     "data": {
      "image/png": "[encoded data removed]",
      "text/plain": [
       "<Figure size 720x360 with 1 Axes>"
      ]
     },
     "metadata": {
      "needs_background": "light"
     },
     "output_type": "display_data"
    }
   ],
   "source": [
    "plt.figure(figsize=(10,5))\n",
    "sns.countplot(x='SalesAgent',hue='Status',data=NewSalesData)"
   ]
  },
  {
   "cell_type": "markdown",
   "metadata": {},
   "source": [
    "#### Location"
   ]
  },
  {
   "cell_type": "code",
   "execution_count": 108,
   "metadata": {},
   "outputs": [
    {
     "data": {
      "text/plain": [
       "<AxesSubplot:xlabel='Location', ylabel='count'>"
      ]
     },
     "execution_count": 108,
     "metadata": {},
     "output_type": "execute_result"
    },
    {
     "data": {
      "image/png": "[encoded data removed]",
      "text/plain": [
       "<Figure size 720x360 with 1 Axes>"
      ]
     },
     "metadata": {
      "needs_background": "light"
     },
     "output_type": "display_data"
    }
   ],
   "source": [
    "plt.figure(figsize=(10,5))\n",
    "sns.countplot(x='Location',hue = 'Status',data = NewSalesData)"
   ]
  },
  {
   "cell_type": "markdown",
   "metadata": {},
   "source": [
    "#### DeliveryMode"
   ]
  },
  {
   "cell_type": "code",
   "execution_count": 109,
   "metadata": {},
   "outputs": [
    {
     "data": {
      "text/plain": [
       "<AxesSubplot:xlabel='DeliveryMode', ylabel='count'>"
      ]
     },
     "execution_count": 109,
     "metadata": {},
     "output_type": "execute_result"
    },
    {
     "data": {
      "image/png": "[encoded data removed]",
      "text/plain": [
       "<Figure size 720x360 with 1 Axes>"
      ]
     },
     "metadata": {
      "needs_background": "light"
     },
     "output_type": "display_data"
    }
   ],
   "source": [
    "plt.figure(figsize=(10,5))\n",
    "sns.countplot(x='DeliveryMode',hue='Status',data=NewSalesData)"
   ]
  },
  {
   "cell_type": "markdown",
   "metadata": {},
   "source": [
    "#### Day"
   ]
  },
  {
   "cell_type": "code",
   "execution_count": 110,
   "metadata": {},
   "outputs": [
    {
     "data": {
      "text/plain": [
       "<AxesSubplot:xlabel='Day', ylabel='count'>"
      ]
     },
     "execution_count": 110,
     "metadata": {},
     "output_type": "execute_result"
    },
    {
     "data": {
      "image/png": "[encoded data removed]",
      "text/plain": [
       "<Figure size 720x360 with 1 Axes>"
      ]
     },
     "metadata": {
      "needs_background": "light"
     },
     "output_type": "display_data"
    }
   ],
   "source": [
    "plt.figure(figsize=(10,5))\n",
    "sns.countplot(x='Day',hue='Status',data=NewSalesData)"
   ]
  },
  {
   "cell_type": "markdown",
   "metadata": {},
   "source": [
    "#### Month"
   ]
  },
  {
   "cell_type": "code",
   "execution_count": 111,
   "metadata": {},
   "outputs": [
    {
     "data": {
      "text/plain": [
       "<AxesSubplot:xlabel='Month', ylabel='count'>"
      ]
     },
     "execution_count": 111,
     "metadata": {},
     "output_type": "execute_result"
    },
    {
     "data": {
      "image/png": "[encoded data removed]",
      "text/plain": [
       "<Figure size 720x360 with 1 Axes>"
      ]
     },
     "metadata": {
      "needs_background": "light"
     },
     "output_type": "display_data"
    }
   ],
   "source": [
    "plt.figure(figsize=(10,5))\n",
    "sns.countplot(x='Month',hue='Status',data=NewSalesData)"
   ]
  },
  {
   "cell_type": "markdown",
   "metadata": {},
   "source": [
    "#### Hour"
   ]
  },
  {
   "cell_type": "code",
   "execution_count": 112,
   "metadata": {},
   "outputs": [
    {
     "data": {
      "text/plain": [
       "<AxesSubplot:xlabel='Hour', ylabel='count'>"
      ]
     },
     "execution_count": 112,
     "metadata": {},
     "output_type": "execute_result"
    },
    {
     "data": {
      "image/png": "[encoded data removed]",
      "text/plain": [
       "<Figure size 720x360 with 1 Axes>"
      ]
     },
     "metadata": {
      "needs_background": "light"
     },
     "output_type": "display_data"
    }
   ],
   "source": [
    "plt.figure(figsize=(10,5))\n",
    "sns.countplot(x='Hour',hue='Status',data=NewSalesData)"
   ]
  },
  {
   "cell_type": "markdown",
   "metadata": {},
   "source": [
    "#### Minute"
   ]
  },
  {
   "cell_type": "code",
   "execution_count": 113,
   "metadata": {},
   "outputs": [
    {
     "data": {
      "text/plain": [
       "<AxesSubplot:xlabel='Minute', ylabel='count'>"
      ]
     },
     "execution_count": 113,
     "metadata": {},
     "output_type": "execute_result"
    },
    {
     "data": {
      "image/png": "[encoded data removed]",
      "text/plain": [
       "<Figure size 720x360 with 1 Axes>"
      ]
     },
     "metadata": {
      "needs_background": "light"
     },
     "output_type": "display_data"
    }
   ],
   "source": [
    "plt.figure(figsize=(10,5))\n",
    "sns.countplot(x='Minute',hue='Status',data=NewSalesData)"
   ]
  },
  {
   "cell_type": "code",
   "execution_count": 114,
   "metadata": {},
   "outputs": [
    {
     "data": {
      "image/png": "[encoded data removed]",
      "text/plain": [
       "<Figure size 2880x3600 with 2 Axes>"
      ]
     },
     "metadata": {
      "needs_background": "light"
     },
     "output_type": "display_data"
    }
   ],
   "source": [
    "#plot heat map\n",
    "corrmat = NewSalesData.corr()\n",
    "top_corr_features = corrmat.index\n",
    "plt.figure(figsize=(40,50))\n",
    "g = sns.heatmap(NewSalesData[top_corr_features].corr(),annot=True,cmap=\"RdYlGn\")"
   ]
  },
  {
   "cell_type": "markdown",
   "metadata": {},
   "source": [
    "# Modeling"
   ]
  },
  {
   "cell_type": "code",
   "execution_count": 115,
   "metadata": {},
   "outputs": [
    {
     "data": {
      "text/plain": [
       "Index(['Product_ID', 'Source', 'Location', 'Status', 'Day', 'Month', 'Hour',\n",
       "       'Minute', 'SalesAgent', 'DeliveryMode'],\n",
       "      dtype='object')"
      ]
     },
     "execution_count": 115,
     "metadata": {},
     "output_type": "execute_result"
    }
   ],
   "source": [
    "NewSalesData.columns"
   ]
  },
  {
   "cell_type": "code",
   "execution_count": 116,
   "metadata": {},
   "outputs": [
    {
     "data": {
      "text/html": [
       "<div>\n",
       "<style scoped>\n",
       "    .dataframe tbody tr th:only-of-type {\n",
       "        vertical-align: middle;\n",
       "    }\n",
       "\n",
       "    .dataframe tbody tr th {\n",
       "        vertical-align: top;\n",
       "    }\n",
       "\n",
       "    .dataframe thead th {\n",
       "        text-align: right;\n",
       "    }\n",
       "</style>\n",
       "<table border=\"1\" class=\"dataframe\">\n",
       "  <thead>\n",
       "    <tr style=\"text-align: right;\">\n",
       "      <th></th>\n",
       "      <th>Day</th>\n",
       "      <th>Month</th>\n",
       "      <th>Hour</th>\n",
       "      <th>Minute</th>\n",
       "      <th>Product_ID</th>\n",
       "      <th>Source</th>\n",
       "      <th>Location</th>\n",
       "      <th>SalesAgent</th>\n",
       "      <th>DeliveryMode</th>\n",
       "    </tr>\n",
       "  </thead>\n",
       "  <tbody>\n",
       "    <tr>\n",
       "      <th>0</th>\n",
       "      <td>14</td>\n",
       "      <td>11</td>\n",
       "      <td>10</td>\n",
       "      <td>5</td>\n",
       "      <td>NaN</td>\n",
       "      <td>22</td>\n",
       "      <td>17</td>\n",
       "      <td>11.0</td>\n",
       "      <td>5</td>\n",
       "    </tr>\n",
       "    <tr>\n",
       "      <th>1</th>\n",
       "      <td>14</td>\n",
       "      <td>11</td>\n",
       "      <td>9</td>\n",
       "      <td>22</td>\n",
       "      <td>NaN</td>\n",
       "      <td>22</td>\n",
       "      <td>17</td>\n",
       "      <td>10.0</td>\n",
       "      <td>5</td>\n",
       "    </tr>\n",
       "    <tr>\n",
       "      <th>2</th>\n",
       "      <td>14</td>\n",
       "      <td>11</td>\n",
       "      <td>9</td>\n",
       "      <td>21</td>\n",
       "      <td>NaN</td>\n",
       "      <td>22</td>\n",
       "      <td>17</td>\n",
       "      <td>10.0</td>\n",
       "      <td>5</td>\n",
       "    </tr>\n",
       "    <tr>\n",
       "      <th>3</th>\n",
       "      <td>14</td>\n",
       "      <td>11</td>\n",
       "      <td>8</td>\n",
       "      <td>46</td>\n",
       "      <td>NaN</td>\n",
       "      <td>22</td>\n",
       "      <td>17</td>\n",
       "      <td>10.0</td>\n",
       "      <td>5</td>\n",
       "    </tr>\n",
       "    <tr>\n",
       "      <th>4</th>\n",
       "      <td>14</td>\n",
       "      <td>11</td>\n",
       "      <td>7</td>\n",
       "      <td>34</td>\n",
       "      <td>NaN</td>\n",
       "      <td>22</td>\n",
       "      <td>17</td>\n",
       "      <td>10.0</td>\n",
       "      <td>5</td>\n",
       "    </tr>\n",
       "  </tbody>\n",
       "</table>\n",
       "</div>"
      ],
      "text/plain": [
       "   Day  Month  Hour  Minute  Product_ID  Source  Location  SalesAgent  \\\n",
       "0   14     11    10       5         NaN      22        17        11.0   \n",
       "1   14     11     9      22         NaN      22        17        10.0   \n",
       "2   14     11     9      21         NaN      22        17        10.0   \n",
       "3   14     11     8      46         NaN      22        17        10.0   \n",
       "4   14     11     7      34         NaN      22        17        10.0   \n",
       "\n",
       "   DeliveryMode  \n",
       "0             5  \n",
       "1             5  \n",
       "2             5  \n",
       "3             5  \n",
       "4             5  "
      ]
     },
     "execution_count": 116,
     "metadata": {},
     "output_type": "execute_result"
    }
   ],
   "source": [
    "# Define X and y and encode x variables\n",
    "X = NewSalesData.loc[:,['Day','Month','Hour','Minute','Product_ID','Source','Location','SalesAgent','DeliveryMode']]\n",
    "X.head()"
   ]
  },
  {
   "cell_type": "code",
   "execution_count": 117,
   "metadata": {},
   "outputs": [
    {
     "data": {
      "text/html": [
       "<div>\n",
       "<style scoped>\n",
       "    .dataframe tbody tr th:only-of-type {\n",
       "        vertical-align: middle;\n",
       "    }\n",
       "\n",
       "    .dataframe tbody tr th {\n",
       "        vertical-align: top;\n",
       "    }\n",
       "\n",
       "    .dataframe thead th {\n",
       "        text-align: right;\n",
       "    }\n",
       "</style>\n",
       "<table border=\"1\" class=\"dataframe\">\n",
       "  <thead>\n",
       "    <tr style=\"text-align: right;\">\n",
       "      <th></th>\n",
       "      <th>Day</th>\n",
       "      <th>Month</th>\n",
       "      <th>Hour</th>\n",
       "      <th>Minute</th>\n",
       "      <th>Source</th>\n",
       "      <th>Location</th>\n",
       "      <th>DeliveryMode</th>\n",
       "    </tr>\n",
       "  </thead>\n",
       "  <tbody>\n",
       "    <tr>\n",
       "      <th>0</th>\n",
       "      <td>14</td>\n",
       "      <td>11</td>\n",
       "      <td>10</td>\n",
       "      <td>5</td>\n",
       "      <td>22</td>\n",
       "      <td>17</td>\n",
       "      <td>5</td>\n",
       "    </tr>\n",
       "    <tr>\n",
       "      <th>1</th>\n",
       "      <td>14</td>\n",
       "      <td>11</td>\n",
       "      <td>9</td>\n",
       "      <td>22</td>\n",
       "      <td>22</td>\n",
       "      <td>17</td>\n",
       "      <td>5</td>\n",
       "    </tr>\n",
       "    <tr>\n",
       "      <th>2</th>\n",
       "      <td>14</td>\n",
       "      <td>11</td>\n",
       "      <td>9</td>\n",
       "      <td>21</td>\n",
       "      <td>22</td>\n",
       "      <td>17</td>\n",
       "      <td>5</td>\n",
       "    </tr>\n",
       "    <tr>\n",
       "      <th>3</th>\n",
       "      <td>14</td>\n",
       "      <td>11</td>\n",
       "      <td>8</td>\n",
       "      <td>46</td>\n",
       "      <td>22</td>\n",
       "      <td>17</td>\n",
       "      <td>5</td>\n",
       "    </tr>\n",
       "    <tr>\n",
       "      <th>4</th>\n",
       "      <td>14</td>\n",
       "      <td>11</td>\n",
       "      <td>7</td>\n",
       "      <td>34</td>\n",
       "      <td>22</td>\n",
       "      <td>17</td>\n",
       "      <td>5</td>\n",
       "    </tr>\n",
       "  </tbody>\n",
       "</table>\n",
       "</div>"
      ],
      "text/plain": [
       "   Day  Month  Hour  Minute  Source  Location  DeliveryMode\n",
       "0   14     11    10       5      22        17             5\n",
       "1   14     11     9      22      22        17             5\n",
       "2   14     11     9      21      22        17             5\n",
       "3   14     11     8      46      22        17             5\n",
       "4   14     11     7      34      22        17             5"
      ]
     },
     "execution_count": 117,
     "metadata": {},
     "output_type": "execute_result"
    }
   ],
   "source": [
    "X = X.dropna(axis=1)\n",
    "X.head()"
   ]
  },
  {
   "cell_type": "code",
   "execution_count": 118,
   "metadata": {},
   "outputs": [
    {
     "data": {
      "text/html": [
       "<div>\n",
       "<style scoped>\n",
       "    .dataframe tbody tr th:only-of-type {\n",
       "        vertical-align: middle;\n",
       "    }\n",
       "\n",
       "    .dataframe tbody tr th {\n",
       "        vertical-align: top;\n",
       "    }\n",
       "\n",
       "    .dataframe thead th {\n",
       "        text-align: right;\n",
       "    }\n",
       "</style>\n",
       "<table border=\"1\" class=\"dataframe\">\n",
       "  <thead>\n",
       "    <tr style=\"text-align: right;\">\n",
       "      <th></th>\n",
       "      <th>Status</th>\n",
       "    </tr>\n",
       "  </thead>\n",
       "  <tbody>\n",
       "    <tr>\n",
       "      <th>0</th>\n",
       "      <td>1</td>\n",
       "    </tr>\n",
       "    <tr>\n",
       "      <th>1</th>\n",
       "      <td>1</td>\n",
       "    </tr>\n",
       "    <tr>\n",
       "      <th>2</th>\n",
       "      <td>1</td>\n",
       "    </tr>\n",
       "    <tr>\n",
       "      <th>3</th>\n",
       "      <td>1</td>\n",
       "    </tr>\n",
       "    <tr>\n",
       "      <th>4</th>\n",
       "      <td>1</td>\n",
       "    </tr>\n",
       "  </tbody>\n",
       "</table>\n",
       "</div>"
      ],
      "text/plain": [
       "   Status\n",
       "0       1\n",
       "1       1\n",
       "2       1\n",
       "3       1\n",
       "4       1"
      ]
     },
     "execution_count": 118,
     "metadata": {},
     "output_type": "execute_result"
    }
   ],
   "source": [
    "y = NewSalesData.loc[:,['Status']]\n",
    "y.head()"
   ]
  },
  {
   "cell_type": "code",
   "execution_count": 119,
   "metadata": {},
   "outputs": [],
   "source": [
    "NewSalesData.replace([np.inf, -np.inf], np.nan, inplace=True)\n",
    "NewSalesData.fillna(999, inplace=True)"
   ]
  },
  {
   "cell_type": "code",
   "execution_count": 120,
   "metadata": {},
   "outputs": [],
   "source": [
    "X_train,X_test,y_train,y_test = train_test_split(X,y,random_state = 10, test_size = 0.3)"
   ]
  },
  {
   "cell_type": "code",
   "execution_count": null,
   "metadata": {},
   "outputs": [],
   "source": []
  },
  {
   "cell_type": "code",
   "execution_count": 121,
   "metadata": {},
   "outputs": [
    {
     "name": "stdout",
     "output_type": "stream",
     "text": [
      "Test accuracy: 0.654243376740009\n"
     ]
    },
    {
     "name": "stderr",
     "output_type": "stream",
     "text": [
      "C:\\Users\\Sanchitha\\anaconda3\\lib\\site-packages\\sklearn\\utils\\validation.py:63: DataConversionWarning: A column-vector y was passed when a 1d array was expected. Please change the shape of y to (n_samples, ), for example using ravel().\n",
      "  return f(*args, **kwargs)\n"
     ]
    }
   ],
   "source": [
    "from sklearn.linear_model import LogisticRegression\n",
    "model = LogisticRegression()\n",
    "model.fit(X_train,y_train)\n",
    "y_test_predict = model.predict(X_test)\n",
    "print('Test accuracy:',accuracy_score(y_test,y_test_predict))"
   ]
  },
  {
   "cell_type": "code",
   "execution_count": 122,
   "metadata": {},
   "outputs": [
    {
     "name": "stdout",
     "output_type": "stream",
     "text": [
      "              precision    recall  f1-score   support\n",
      "\n",
      "           0       0.68      0.80      0.73      1333\n",
      "           1       0.59      0.44      0.50       894\n",
      "\n",
      "    accuracy                           0.65      2227\n",
      "   macro avg       0.64      0.62      0.62      2227\n",
      "weighted avg       0.65      0.65      0.64      2227\n",
      "\n"
     ]
    }
   ],
   "source": [
    "print(classification_report(y_test,y_test_predict))"
   ]
  },
  {
   "cell_type": "code",
   "execution_count": 123,
   "metadata": {},
   "outputs": [
    {
     "data": {
      "text/plain": [
       "array([[1066,  267],\n",
       "       [ 503,  391]], dtype=int64)"
      ]
     },
     "execution_count": 123,
     "metadata": {},
     "output_type": "execute_result"
    }
   ],
   "source": [
    "confusion_matrix(y_test,y_test_predict)"
   ]
  },
  {
   "cell_type": "code",
   "execution_count": 124,
   "metadata": {},
   "outputs": [
    {
     "name": "stderr",
     "output_type": "stream",
     "text": [
      "C:\\Users\\Sanchitha\\anaconda3\\lib\\site-packages\\sklearn\\model_selection\\_validation.py:598: DataConversionWarning: A column-vector y was passed when a 1d array was expected. Please change the shape of y to (n_samples,), for example using ravel().\n",
      "  estimator.fit(X_train, y_train, **fit_params)\n",
      "C:\\Users\\Sanchitha\\anaconda3\\lib\\site-packages\\sklearn\\model_selection\\_validation.py:598: DataConversionWarning: A column-vector y was passed when a 1d array was expected. Please change the shape of y to (n_samples,), for example using ravel().\n",
      "  estimator.fit(X_train, y_train, **fit_params)\n",
      "C:\\Users\\Sanchitha\\anaconda3\\lib\\site-packages\\sklearn\\model_selection\\_validation.py:598: DataConversionWarning: A column-vector y was passed when a 1d array was expected. Please change the shape of y to (n_samples,), for example using ravel().\n",
      "  estimator.fit(X_train, y_train, **fit_params)\n",
      "C:\\Users\\Sanchitha\\anaconda3\\lib\\site-packages\\sklearn\\model_selection\\_validation.py:598: DataConversionWarning: A column-vector y was passed when a 1d array was expected. Please change the shape of y to (n_samples,), for example using ravel().\n",
      "  estimator.fit(X_train, y_train, **fit_params)\n",
      "C:\\Users\\Sanchitha\\anaconda3\\lib\\site-packages\\sklearn\\model_selection\\_validation.py:598: DataConversionWarning: A column-vector y was passed when a 1d array was expected. Please change the shape of y to (n_samples,), for example using ravel().\n",
      "  estimator.fit(X_train, y_train, **fit_params)\n",
      "C:\\Users\\Sanchitha\\anaconda3\\lib\\site-packages\\sklearn\\model_selection\\_validation.py:598: DataConversionWarning: A column-vector y was passed when a 1d array was expected. Please change the shape of y to (n_samples,), for example using ravel().\n",
      "  estimator.fit(X_train, y_train, **fit_params)\n",
      "C:\\Users\\Sanchitha\\anaconda3\\lib\\site-packages\\sklearn\\model_selection\\_validation.py:598: DataConversionWarning: A column-vector y was passed when a 1d array was expected. Please change the shape of y to (n_samples,), for example using ravel().\n",
      "  estimator.fit(X_train, y_train, **fit_params)\n",
      "C:\\Users\\Sanchitha\\anaconda3\\lib\\site-packages\\sklearn\\model_selection\\_validation.py:598: DataConversionWarning: A column-vector y was passed when a 1d array was expected. Please change the shape of y to (n_samples,), for example using ravel().\n",
      "  estimator.fit(X_train, y_train, **fit_params)\n",
      "C:\\Users\\Sanchitha\\anaconda3\\lib\\site-packages\\sklearn\\model_selection\\_validation.py:598: DataConversionWarning: A column-vector y was passed when a 1d array was expected. Please change the shape of y to (n_samples,), for example using ravel().\n",
      "  estimator.fit(X_train, y_train, **fit_params)\n",
      "C:\\Users\\Sanchitha\\anaconda3\\lib\\site-packages\\sklearn\\model_selection\\_validation.py:598: DataConversionWarning: A column-vector y was passed when a 1d array was expected. Please change the shape of y to (n_samples,), for example using ravel().\n",
      "  estimator.fit(X_train, y_train, **fit_params)\n",
      "C:\\Users\\Sanchitha\\anaconda3\\lib\\site-packages\\sklearn\\model_selection\\_validation.py:598: DataConversionWarning: A column-vector y was passed when a 1d array was expected. Please change the shape of y to (n_samples,), for example using ravel().\n",
      "  estimator.fit(X_train, y_train, **fit_params)\n",
      "C:\\Users\\Sanchitha\\anaconda3\\lib\\site-packages\\sklearn\\model_selection\\_validation.py:598: DataConversionWarning: A column-vector y was passed when a 1d array was expected. Please change the shape of y to (n_samples,), for example using ravel().\n",
      "  estimator.fit(X_train, y_train, **fit_params)\n",
      "C:\\Users\\Sanchitha\\anaconda3\\lib\\site-packages\\sklearn\\model_selection\\_validation.py:598: DataConversionWarning: A column-vector y was passed when a 1d array was expected. Please change the shape of y to (n_samples,), for example using ravel().\n",
      "  estimator.fit(X_train, y_train, **fit_params)\n",
      "C:\\Users\\Sanchitha\\anaconda3\\lib\\site-packages\\sklearn\\model_selection\\_validation.py:598: DataConversionWarning: A column-vector y was passed when a 1d array was expected. Please change the shape of y to (n_samples,), for example using ravel().\n",
      "  estimator.fit(X_train, y_train, **fit_params)\n",
      "C:\\Users\\Sanchitha\\anaconda3\\lib\\site-packages\\sklearn\\model_selection\\_validation.py:598: DataConversionWarning: A column-vector y was passed when a 1d array was expected. Please change the shape of y to (n_samples,), for example using ravel().\n",
      "  estimator.fit(X_train, y_train, **fit_params)\n",
      "C:\\Users\\Sanchitha\\anaconda3\\lib\\site-packages\\sklearn\\model_selection\\_validation.py:598: DataConversionWarning: A column-vector y was passed when a 1d array was expected. Please change the shape of y to (n_samples,), for example using ravel().\n",
      "  estimator.fit(X_train, y_train, **fit_params)\n",
      "C:\\Users\\Sanchitha\\anaconda3\\lib\\site-packages\\sklearn\\model_selection\\_validation.py:598: DataConversionWarning: A column-vector y was passed when a 1d array was expected. Please change the shape of y to (n_samples,), for example using ravel().\n",
      "  estimator.fit(X_train, y_train, **fit_params)\n",
      "C:\\Users\\Sanchitha\\anaconda3\\lib\\site-packages\\sklearn\\model_selection\\_validation.py:598: DataConversionWarning: A column-vector y was passed when a 1d array was expected. Please change the shape of y to (n_samples,), for example using ravel().\n",
      "  estimator.fit(X_train, y_train, **fit_params)\n",
      "C:\\Users\\Sanchitha\\anaconda3\\lib\\site-packages\\sklearn\\model_selection\\_validation.py:598: DataConversionWarning: A column-vector y was passed when a 1d array was expected. Please change the shape of y to (n_samples,), for example using ravel().\n",
      "  estimator.fit(X_train, y_train, **fit_params)\n",
      "C:\\Users\\Sanchitha\\anaconda3\\lib\\site-packages\\sklearn\\model_selection\\_validation.py:598: DataConversionWarning: A column-vector y was passed when a 1d array was expected. Please change the shape of y to (n_samples,), for example using ravel().\n",
      "  estimator.fit(X_train, y_train, **fit_params)\n",
      "C:\\Users\\Sanchitha\\anaconda3\\lib\\site-packages\\sklearn\\model_selection\\_validation.py:598: DataConversionWarning: A column-vector y was passed when a 1d array was expected. Please change the shape of y to (n_samples,), for example using ravel().\n",
      "  estimator.fit(X_train, y_train, **fit_params)\n",
      "C:\\Users\\Sanchitha\\anaconda3\\lib\\site-packages\\sklearn\\model_selection\\_validation.py:598: DataConversionWarning: A column-vector y was passed when a 1d array was expected. Please change the shape of y to (n_samples,), for example using ravel().\n",
      "  estimator.fit(X_train, y_train, **fit_params)\n",
      "C:\\Users\\Sanchitha\\anaconda3\\lib\\site-packages\\sklearn\\model_selection\\_validation.py:598: DataConversionWarning: A column-vector y was passed when a 1d array was expected. Please change the shape of y to (n_samples,), for example using ravel().\n",
      "  estimator.fit(X_train, y_train, **fit_params)\n",
      "C:\\Users\\Sanchitha\\anaconda3\\lib\\site-packages\\sklearn\\model_selection\\_validation.py:598: DataConversionWarning: A column-vector y was passed when a 1d array was expected. Please change the shape of y to (n_samples,), for example using ravel().\n",
      "  estimator.fit(X_train, y_train, **fit_params)\n",
      "C:\\Users\\Sanchitha\\anaconda3\\lib\\site-packages\\sklearn\\model_selection\\_validation.py:598: DataConversionWarning: A column-vector y was passed when a 1d array was expected. Please change the shape of y to (n_samples,), for example using ravel().\n",
      "  estimator.fit(X_train, y_train, **fit_params)\n",
      "C:\\Users\\Sanchitha\\anaconda3\\lib\\site-packages\\sklearn\\model_selection\\_validation.py:598: DataConversionWarning: A column-vector y was passed when a 1d array was expected. Please change the shape of y to (n_samples,), for example using ravel().\n",
      "  estimator.fit(X_train, y_train, **fit_params)\n",
      "C:\\Users\\Sanchitha\\anaconda3\\lib\\site-packages\\sklearn\\model_selection\\_validation.py:598: DataConversionWarning: A column-vector y was passed when a 1d array was expected. Please change the shape of y to (n_samples,), for example using ravel().\n",
      "  estimator.fit(X_train, y_train, **fit_params)\n",
      "C:\\Users\\Sanchitha\\anaconda3\\lib\\site-packages\\sklearn\\model_selection\\_validation.py:598: DataConversionWarning: A column-vector y was passed when a 1d array was expected. Please change the shape of y to (n_samples,), for example using ravel().\n",
      "  estimator.fit(X_train, y_train, **fit_params)\n"
     ]
    },
    {
     "name": "stderr",
     "output_type": "stream",
     "text": [
      "C:\\Users\\Sanchitha\\anaconda3\\lib\\site-packages\\sklearn\\model_selection\\_validation.py:598: DataConversionWarning: A column-vector y was passed when a 1d array was expected. Please change the shape of y to (n_samples,), for example using ravel().\n",
      "  estimator.fit(X_train, y_train, **fit_params)\n",
      "C:\\Users\\Sanchitha\\anaconda3\\lib\\site-packages\\sklearn\\model_selection\\_validation.py:598: DataConversionWarning: A column-vector y was passed when a 1d array was expected. Please change the shape of y to (n_samples,), for example using ravel().\n",
      "  estimator.fit(X_train, y_train, **fit_params)\n",
      "C:\\Users\\Sanchitha\\anaconda3\\lib\\site-packages\\sklearn\\model_selection\\_validation.py:598: DataConversionWarning: A column-vector y was passed when a 1d array was expected. Please change the shape of y to (n_samples,), for example using ravel().\n",
      "  estimator.fit(X_train, y_train, **fit_params)\n",
      "C:\\Users\\Sanchitha\\anaconda3\\lib\\site-packages\\sklearn\\model_selection\\_validation.py:598: DataConversionWarning: A column-vector y was passed when a 1d array was expected. Please change the shape of y to (n_samples,), for example using ravel().\n",
      "  estimator.fit(X_train, y_train, **fit_params)\n",
      "C:\\Users\\Sanchitha\\anaconda3\\lib\\site-packages\\sklearn\\model_selection\\_validation.py:598: DataConversionWarning: A column-vector y was passed when a 1d array was expected. Please change the shape of y to (n_samples,), for example using ravel().\n",
      "  estimator.fit(X_train, y_train, **fit_params)\n",
      "C:\\Users\\Sanchitha\\anaconda3\\lib\\site-packages\\sklearn\\model_selection\\_validation.py:598: DataConversionWarning: A column-vector y was passed when a 1d array was expected. Please change the shape of y to (n_samples,), for example using ravel().\n",
      "  estimator.fit(X_train, y_train, **fit_params)\n",
      "C:\\Users\\Sanchitha\\anaconda3\\lib\\site-packages\\sklearn\\model_selection\\_validation.py:598: DataConversionWarning: A column-vector y was passed when a 1d array was expected. Please change the shape of y to (n_samples,), for example using ravel().\n",
      "  estimator.fit(X_train, y_train, **fit_params)\n",
      "C:\\Users\\Sanchitha\\anaconda3\\lib\\site-packages\\sklearn\\model_selection\\_validation.py:598: DataConversionWarning: A column-vector y was passed when a 1d array was expected. Please change the shape of y to (n_samples,), for example using ravel().\n",
      "  estimator.fit(X_train, y_train, **fit_params)\n",
      "C:\\Users\\Sanchitha\\anaconda3\\lib\\site-packages\\sklearn\\model_selection\\_validation.py:598: DataConversionWarning: A column-vector y was passed when a 1d array was expected. Please change the shape of y to (n_samples,), for example using ravel().\n",
      "  estimator.fit(X_train, y_train, **fit_params)\n",
      "C:\\Users\\Sanchitha\\anaconda3\\lib\\site-packages\\sklearn\\model_selection\\_validation.py:598: DataConversionWarning: A column-vector y was passed when a 1d array was expected. Please change the shape of y to (n_samples,), for example using ravel().\n",
      "  estimator.fit(X_train, y_train, **fit_params)\n",
      "C:\\Users\\Sanchitha\\anaconda3\\lib\\site-packages\\sklearn\\model_selection\\_validation.py:598: DataConversionWarning: A column-vector y was passed when a 1d array was expected. Please change the shape of y to (n_samples,), for example using ravel().\n",
      "  estimator.fit(X_train, y_train, **fit_params)\n",
      "C:\\Users\\Sanchitha\\anaconda3\\lib\\site-packages\\sklearn\\model_selection\\_validation.py:598: DataConversionWarning: A column-vector y was passed when a 1d array was expected. Please change the shape of y to (n_samples,), for example using ravel().\n",
      "  estimator.fit(X_train, y_train, **fit_params)\n",
      "C:\\Users\\Sanchitha\\anaconda3\\lib\\site-packages\\sklearn\\model_selection\\_validation.py:598: DataConversionWarning: A column-vector y was passed when a 1d array was expected. Please change the shape of y to (n_samples,), for example using ravel().\n",
      "  estimator.fit(X_train, y_train, **fit_params)\n",
      "C:\\Users\\Sanchitha\\anaconda3\\lib\\site-packages\\sklearn\\model_selection\\_validation.py:598: DataConversionWarning: A column-vector y was passed when a 1d array was expected. Please change the shape of y to (n_samples,), for example using ravel().\n",
      "  estimator.fit(X_train, y_train, **fit_params)\n",
      "C:\\Users\\Sanchitha\\anaconda3\\lib\\site-packages\\sklearn\\model_selection\\_validation.py:598: DataConversionWarning: A column-vector y was passed when a 1d array was expected. Please change the shape of y to (n_samples,), for example using ravel().\n",
      "  estimator.fit(X_train, y_train, **fit_params)\n",
      "C:\\Users\\Sanchitha\\anaconda3\\lib\\site-packages\\sklearn\\model_selection\\_validation.py:598: DataConversionWarning: A column-vector y was passed when a 1d array was expected. Please change the shape of y to (n_samples,), for example using ravel().\n",
      "  estimator.fit(X_train, y_train, **fit_params)\n",
      "C:\\Users\\Sanchitha\\anaconda3\\lib\\site-packages\\sklearn\\model_selection\\_validation.py:598: DataConversionWarning: A column-vector y was passed when a 1d array was expected. Please change the shape of y to (n_samples,), for example using ravel().\n",
      "  estimator.fit(X_train, y_train, **fit_params)\n",
      "C:\\Users\\Sanchitha\\anaconda3\\lib\\site-packages\\sklearn\\model_selection\\_validation.py:598: DataConversionWarning: A column-vector y was passed when a 1d array was expected. Please change the shape of y to (n_samples,), for example using ravel().\n",
      "  estimator.fit(X_train, y_train, **fit_params)\n",
      "C:\\Users\\Sanchitha\\anaconda3\\lib\\site-packages\\sklearn\\model_selection\\_validation.py:598: DataConversionWarning: A column-vector y was passed when a 1d array was expected. Please change the shape of y to (n_samples,), for example using ravel().\n",
      "  estimator.fit(X_train, y_train, **fit_params)\n",
      "C:\\Users\\Sanchitha\\anaconda3\\lib\\site-packages\\sklearn\\model_selection\\_validation.py:598: DataConversionWarning: A column-vector y was passed when a 1d array was expected. Please change the shape of y to (n_samples,), for example using ravel().\n",
      "  estimator.fit(X_train, y_train, **fit_params)\n",
      "C:\\Users\\Sanchitha\\anaconda3\\lib\\site-packages\\sklearn\\model_selection\\_validation.py:598: DataConversionWarning: A column-vector y was passed when a 1d array was expected. Please change the shape of y to (n_samples,), for example using ravel().\n",
      "  estimator.fit(X_train, y_train, **fit_params)\n",
      "C:\\Users\\Sanchitha\\anaconda3\\lib\\site-packages\\sklearn\\model_selection\\_validation.py:598: DataConversionWarning: A column-vector y was passed when a 1d array was expected. Please change the shape of y to (n_samples,), for example using ravel().\n",
      "  estimator.fit(X_train, y_train, **fit_params)\n",
      "C:\\Users\\Sanchitha\\anaconda3\\lib\\site-packages\\sklearn\\model_selection\\_search.py:880: DataConversionWarning: A column-vector y was passed when a 1d array was expected. Please change the shape of y to (n_samples,), for example using ravel().\n",
      "  self.best_estimator_.fit(X, y, **fit_params)\n"
     ]
    },
    {
     "data": {
      "text/plain": [
       "RandomizedSearchCV(estimator=RandomForestClassifier(),\n",
       "                   param_distributions={'max_depth': [80, 90, 100, 110],\n",
       "                                        'n_estimators': [400, 450, 500, 550,\n",
       "                                                         600],\n",
       "                                        'random_state': range(10, 15, 20)})"
      ]
     },
     "execution_count": 124,
     "metadata": {},
     "output_type": "execute_result"
    }
   ],
   "source": [
    "from sklearn.ensemble import RandomForestClassifier\n",
    "rfmodel = RandomForestClassifier()\n",
    "from sklearn.model_selection import GridSearchCV, RandomizedSearchCV\n",
    "parameters = {'max_depth':[80,90,100,110],\n",
    "              'random_state': range(10,15,20),\n",
    "              'n_estimators':[400,450,500,550,600], \n",
    "             }\n",
    "grid = RandomizedSearchCV(rfmodel,parameters)\n",
    "grid.fit(X_train,y_train)"
   ]
  },
  {
   "cell_type": "code",
   "execution_count": 125,
   "metadata": {},
   "outputs": [
    {
     "data": {
      "text/plain": [
       "RandomForestClassifier(max_depth=90, n_estimators=500, random_state=10)"
      ]
     },
     "execution_count": 125,
     "metadata": {},
     "output_type": "execute_result"
    }
   ],
   "source": [
    "grid.best_estimator_"
   ]
  },
  {
   "cell_type": "code",
   "execution_count": 126,
   "metadata": {},
   "outputs": [
    {
     "data": {
      "text/plain": [
       "0.6775745909528392"
      ]
     },
     "execution_count": 126,
     "metadata": {},
     "output_type": "execute_result"
    }
   ],
   "source": [
    "grid.best_score_"
   ]
  },
  {
   "cell_type": "code",
   "execution_count": 127,
   "metadata": {},
   "outputs": [
    {
     "data": {
      "text/plain": [
       "{'random_state': 10, 'n_estimators': 500, 'max_depth': 90}"
      ]
     },
     "execution_count": 127,
     "metadata": {},
     "output_type": "execute_result"
    }
   ],
   "source": [
    "grid.best_params_"
   ]
  },
  {
   "cell_type": "code",
   "execution_count": 128,
   "metadata": {},
   "outputs": [
    {
     "name": "stderr",
     "output_type": "stream",
     "text": [
      "C:\\Users\\Sanchitha\\anaconda3\\lib\\site-packages\\ipykernel_launcher.py:2: DataConversionWarning: A column-vector y was passed when a 1d array was expected. Please change the shape of y to (n_samples,), for example using ravel().\n",
      "  \n"
     ]
    },
    {
     "data": {
      "text/plain": [
       "0.654243376740009"
      ]
     },
     "execution_count": 128,
     "metadata": {},
     "output_type": "execute_result"
    }
   ],
   "source": [
    "rfmodel = RandomForestClassifier()\n",
    "rfmodel.fit(X_train,y_train)\n",
    "y_predict = model.predict(X_test)\n",
    "from sklearn.metrics import accuracy_score\n",
    "accuracy_score(y_test,y_predict)"
   ]
  },
  {
   "cell_type": "code",
   "execution_count": 129,
   "metadata": {},
   "outputs": [
    {
     "name": "stderr",
     "output_type": "stream",
     "text": [
      "C:\\Users\\Sanchitha\\anaconda3\\lib\\site-packages\\ipykernel_launcher.py:8: DataConversionWarning: A column-vector y was passed when a 1d array was expected. Please change the shape of y to (n_samples,), for example using ravel().\n",
      "  \n"
     ]
    },
    {
     "name": "stdout",
     "output_type": "stream",
     "text": [
      "Test accuracy: 0.654243376740009\n"
     ]
    }
   ],
   "source": [
    "rfmodel = RandomForestClassifier(bootstrap=True, class_weight=None, criterion='gini',\n",
    "                       max_depth=110, max_features='auto', max_leaf_nodes=None,\n",
    "                       min_impurity_decrease=0.0, min_impurity_split=None,\n",
    "                       min_samples_leaf=1, min_samples_split=2,\n",
    "                       min_weight_fraction_leaf=0.0, n_estimators=400,\n",
    "                       n_jobs=None, oob_score=False, random_state=10, verbose=0,\n",
    "                       warm_start=False)\n",
    "rfmodel.fit(X_train,y_train)\n",
    "y_predict = model.predict(X_test)\n",
    "from sklearn.metrics import accuracy_score\n",
    "y_test_predict = model.predict(X_test)\n",
    "print('Test accuracy:',accuracy_score(y_test,y_predict))"
   ]
  },
  {
   "cell_type": "code",
   "execution_count": 130,
   "metadata": {},
   "outputs": [
    {
     "name": "stdout",
     "output_type": "stream",
     "text": [
      "Train accuracy: 0.6646775745909529\n"
     ]
    }
   ],
   "source": [
    "y_train_predict = model.predict(X_train)\n",
    "print('Train accuracy:',accuracy_score(y_train,y_train_predict))"
   ]
  },
  {
   "cell_type": "code",
   "execution_count": 131,
   "metadata": {},
   "outputs": [
    {
     "data": {
      "text/plain": [
       "array([[1066,  267],\n",
       "       [ 503,  391]], dtype=int64)"
      ]
     },
     "execution_count": 131,
     "metadata": {},
     "output_type": "execute_result"
    }
   ],
   "source": [
    "confusion_matrix(y_test,y_test_predict)"
   ]
  },
  {
   "cell_type": "code",
   "execution_count": 132,
   "metadata": {},
   "outputs": [
    {
     "name": "stdout",
     "output_type": "stream",
     "text": [
      "              precision    recall  f1-score   support\n",
      "\n",
      "           0       0.68      0.80      0.73      1333\n",
      "           1       0.59      0.44      0.50       894\n",
      "\n",
      "    accuracy                           0.65      2227\n",
      "   macro avg       0.64      0.62      0.62      2227\n",
      "weighted avg       0.65      0.65      0.64      2227\n",
      "\n"
     ]
    }
   ],
   "source": [
    "print(classification_report(y_test,y_test_predict))"
   ]
  },
  {
   "cell_type": "code",
   "execution_count": 133,
   "metadata": {},
   "outputs": [
    {
     "name": "stderr",
     "output_type": "stream",
     "text": [
      "C:\\Users\\Sanchitha\\anaconda3\\lib\\site-packages\\sklearn\\model_selection\\_validation.py:598: DataConversionWarning: A column-vector y was passed when a 1d array was expected. Please change the shape of y to (n_samples,), for example using ravel().\n",
      "  estimator.fit(X_train, y_train, **fit_params)\n",
      "C:\\Users\\Sanchitha\\anaconda3\\lib\\site-packages\\sklearn\\model_selection\\_validation.py:598: DataConversionWarning: A column-vector y was passed when a 1d array was expected. Please change the shape of y to (n_samples,), for example using ravel().\n",
      "  estimator.fit(X_train, y_train, **fit_params)\n",
      "C:\\Users\\Sanchitha\\anaconda3\\lib\\site-packages\\sklearn\\model_selection\\_validation.py:598: DataConversionWarning: A column-vector y was passed when a 1d array was expected. Please change the shape of y to (n_samples,), for example using ravel().\n",
      "  estimator.fit(X_train, y_train, **fit_params)\n",
      "C:\\Users\\Sanchitha\\anaconda3\\lib\\site-packages\\sklearn\\model_selection\\_validation.py:598: DataConversionWarning: A column-vector y was passed when a 1d array was expected. Please change the shape of y to (n_samples,), for example using ravel().\n",
      "  estimator.fit(X_train, y_train, **fit_params)\n",
      "C:\\Users\\Sanchitha\\anaconda3\\lib\\site-packages\\sklearn\\model_selection\\_validation.py:598: DataConversionWarning: A column-vector y was passed when a 1d array was expected. Please change the shape of y to (n_samples,), for example using ravel().\n",
      "  estimator.fit(X_train, y_train, **fit_params)\n",
      "C:\\Users\\Sanchitha\\anaconda3\\lib\\site-packages\\sklearn\\model_selection\\_validation.py:598: DataConversionWarning: A column-vector y was passed when a 1d array was expected. Please change the shape of y to (n_samples,), for example using ravel().\n",
      "  estimator.fit(X_train, y_train, **fit_params)\n",
      "C:\\Users\\Sanchitha\\anaconda3\\lib\\site-packages\\sklearn\\model_selection\\_validation.py:598: DataConversionWarning: A column-vector y was passed when a 1d array was expected. Please change the shape of y to (n_samples,), for example using ravel().\n",
      "  estimator.fit(X_train, y_train, **fit_params)\n",
      "C:\\Users\\Sanchitha\\anaconda3\\lib\\site-packages\\sklearn\\model_selection\\_validation.py:598: DataConversionWarning: A column-vector y was passed when a 1d array was expected. Please change the shape of y to (n_samples,), for example using ravel().\n",
      "  estimator.fit(X_train, y_train, **fit_params)\n",
      "C:\\Users\\Sanchitha\\anaconda3\\lib\\site-packages\\sklearn\\model_selection\\_validation.py:598: DataConversionWarning: A column-vector y was passed when a 1d array was expected. Please change the shape of y to (n_samples,), for example using ravel().\n",
      "  estimator.fit(X_train, y_train, **fit_params)\n",
      "C:\\Users\\Sanchitha\\anaconda3\\lib\\site-packages\\sklearn\\model_selection\\_validation.py:598: DataConversionWarning: A column-vector y was passed when a 1d array was expected. Please change the shape of y to (n_samples,), for example using ravel().\n",
      "  estimator.fit(X_train, y_train, **fit_params)\n",
      "C:\\Users\\Sanchitha\\anaconda3\\lib\\site-packages\\sklearn\\model_selection\\_validation.py:598: DataConversionWarning: A column-vector y was passed when a 1d array was expected. Please change the shape of y to (n_samples,), for example using ravel().\n",
      "  estimator.fit(X_train, y_train, **fit_params)\n",
      "C:\\Users\\Sanchitha\\anaconda3\\lib\\site-packages\\sklearn\\model_selection\\_validation.py:598: DataConversionWarning: A column-vector y was passed when a 1d array was expected. Please change the shape of y to (n_samples,), for example using ravel().\n",
      "  estimator.fit(X_train, y_train, **fit_params)\n",
      "C:\\Users\\Sanchitha\\anaconda3\\lib\\site-packages\\sklearn\\model_selection\\_validation.py:598: DataConversionWarning: A column-vector y was passed when a 1d array was expected. Please change the shape of y to (n_samples,), for example using ravel().\n",
      "  estimator.fit(X_train, y_train, **fit_params)\n",
      "C:\\Users\\Sanchitha\\anaconda3\\lib\\site-packages\\sklearn\\model_selection\\_validation.py:598: DataConversionWarning: A column-vector y was passed when a 1d array was expected. Please change the shape of y to (n_samples,), for example using ravel().\n",
      "  estimator.fit(X_train, y_train, **fit_params)\n",
      "C:\\Users\\Sanchitha\\anaconda3\\lib\\site-packages\\sklearn\\model_selection\\_validation.py:598: DataConversionWarning: A column-vector y was passed when a 1d array was expected. Please change the shape of y to (n_samples,), for example using ravel().\n",
      "  estimator.fit(X_train, y_train, **fit_params)\n",
      "C:\\Users\\Sanchitha\\anaconda3\\lib\\site-packages\\sklearn\\model_selection\\_validation.py:598: DataConversionWarning: A column-vector y was passed when a 1d array was expected. Please change the shape of y to (n_samples,), for example using ravel().\n",
      "  estimator.fit(X_train, y_train, **fit_params)\n",
      "C:\\Users\\Sanchitha\\anaconda3\\lib\\site-packages\\sklearn\\model_selection\\_validation.py:598: DataConversionWarning: A column-vector y was passed when a 1d array was expected. Please change the shape of y to (n_samples,), for example using ravel().\n",
      "  estimator.fit(X_train, y_train, **fit_params)\n",
      "C:\\Users\\Sanchitha\\anaconda3\\lib\\site-packages\\sklearn\\model_selection\\_validation.py:598: DataConversionWarning: A column-vector y was passed when a 1d array was expected. Please change the shape of y to (n_samples,), for example using ravel().\n",
      "  estimator.fit(X_train, y_train, **fit_params)\n",
      "C:\\Users\\Sanchitha\\anaconda3\\lib\\site-packages\\sklearn\\model_selection\\_validation.py:598: DataConversionWarning: A column-vector y was passed when a 1d array was expected. Please change the shape of y to (n_samples,), for example using ravel().\n",
      "  estimator.fit(X_train, y_train, **fit_params)\n",
      "C:\\Users\\Sanchitha\\anaconda3\\lib\\site-packages\\sklearn\\model_selection\\_validation.py:598: DataConversionWarning: A column-vector y was passed when a 1d array was expected. Please change the shape of y to (n_samples,), for example using ravel().\n",
      "  estimator.fit(X_train, y_train, **fit_params)\n",
      "C:\\Users\\Sanchitha\\anaconda3\\lib\\site-packages\\sklearn\\model_selection\\_validation.py:598: DataConversionWarning: A column-vector y was passed when a 1d array was expected. Please change the shape of y to (n_samples,), for example using ravel().\n",
      "  estimator.fit(X_train, y_train, **fit_params)\n",
      "C:\\Users\\Sanchitha\\anaconda3\\lib\\site-packages\\sklearn\\model_selection\\_validation.py:598: DataConversionWarning: A column-vector y was passed when a 1d array was expected. Please change the shape of y to (n_samples,), for example using ravel().\n",
      "  estimator.fit(X_train, y_train, **fit_params)\n",
      "C:\\Users\\Sanchitha\\anaconda3\\lib\\site-packages\\sklearn\\model_selection\\_validation.py:598: DataConversionWarning: A column-vector y was passed when a 1d array was expected. Please change the shape of y to (n_samples,), for example using ravel().\n",
      "  estimator.fit(X_train, y_train, **fit_params)\n",
      "C:\\Users\\Sanchitha\\anaconda3\\lib\\site-packages\\sklearn\\model_selection\\_validation.py:598: DataConversionWarning: A column-vector y was passed when a 1d array was expected. Please change the shape of y to (n_samples,), for example using ravel().\n",
      "  estimator.fit(X_train, y_train, **fit_params)\n",
      "C:\\Users\\Sanchitha\\anaconda3\\lib\\site-packages\\sklearn\\model_selection\\_validation.py:598: DataConversionWarning: A column-vector y was passed when a 1d array was expected. Please change the shape of y to (n_samples,), for example using ravel().\n",
      "  estimator.fit(X_train, y_train, **fit_params)\n",
      "C:\\Users\\Sanchitha\\anaconda3\\lib\\site-packages\\sklearn\\model_selection\\_validation.py:598: DataConversionWarning: A column-vector y was passed when a 1d array was expected. Please change the shape of y to (n_samples,), for example using ravel().\n",
      "  estimator.fit(X_train, y_train, **fit_params)\n",
      "C:\\Users\\Sanchitha\\anaconda3\\lib\\site-packages\\sklearn\\model_selection\\_validation.py:598: DataConversionWarning: A column-vector y was passed when a 1d array was expected. Please change the shape of y to (n_samples,), for example using ravel().\n",
      "  estimator.fit(X_train, y_train, **fit_params)\n",
      "C:\\Users\\Sanchitha\\anaconda3\\lib\\site-packages\\sklearn\\model_selection\\_validation.py:598: DataConversionWarning: A column-vector y was passed when a 1d array was expected. Please change the shape of y to (n_samples,), for example using ravel().\n",
      "  estimator.fit(X_train, y_train, **fit_params)\n",
      "C:\\Users\\Sanchitha\\anaconda3\\lib\\site-packages\\sklearn\\model_selection\\_validation.py:598: DataConversionWarning: A column-vector y was passed when a 1d array was expected. Please change the shape of y to (n_samples,), for example using ravel().\n",
      "  estimator.fit(X_train, y_train, **fit_params)\n",
      "C:\\Users\\Sanchitha\\anaconda3\\lib\\site-packages\\sklearn\\model_selection\\_validation.py:598: DataConversionWarning: A column-vector y was passed when a 1d array was expected. Please change the shape of y to (n_samples,), for example using ravel().\n",
      "  estimator.fit(X_train, y_train, **fit_params)\n"
     ]
    },
    {
     "name": "stderr",
     "output_type": "stream",
     "text": [
      "C:\\Users\\Sanchitha\\anaconda3\\lib\\site-packages\\sklearn\\model_selection\\_validation.py:598: DataConversionWarning: A column-vector y was passed when a 1d array was expected. Please change the shape of y to (n_samples,), for example using ravel().\n",
      "  estimator.fit(X_train, y_train, **fit_params)\n",
      "C:\\Users\\Sanchitha\\anaconda3\\lib\\site-packages\\sklearn\\model_selection\\_validation.py:598: DataConversionWarning: A column-vector y was passed when a 1d array was expected. Please change the shape of y to (n_samples,), for example using ravel().\n",
      "  estimator.fit(X_train, y_train, **fit_params)\n",
      "C:\\Users\\Sanchitha\\anaconda3\\lib\\site-packages\\sklearn\\model_selection\\_validation.py:598: DataConversionWarning: A column-vector y was passed when a 1d array was expected. Please change the shape of y to (n_samples,), for example using ravel().\n",
      "  estimator.fit(X_train, y_train, **fit_params)\n",
      "C:\\Users\\Sanchitha\\anaconda3\\lib\\site-packages\\sklearn\\model_selection\\_validation.py:598: DataConversionWarning: A column-vector y was passed when a 1d array was expected. Please change the shape of y to (n_samples,), for example using ravel().\n",
      "  estimator.fit(X_train, y_train, **fit_params)\n",
      "C:\\Users\\Sanchitha\\anaconda3\\lib\\site-packages\\sklearn\\model_selection\\_validation.py:598: DataConversionWarning: A column-vector y was passed when a 1d array was expected. Please change the shape of y to (n_samples,), for example using ravel().\n",
      "  estimator.fit(X_train, y_train, **fit_params)\n",
      "C:\\Users\\Sanchitha\\anaconda3\\lib\\site-packages\\sklearn\\model_selection\\_validation.py:598: DataConversionWarning: A column-vector y was passed when a 1d array was expected. Please change the shape of y to (n_samples,), for example using ravel().\n",
      "  estimator.fit(X_train, y_train, **fit_params)\n",
      "C:\\Users\\Sanchitha\\anaconda3\\lib\\site-packages\\sklearn\\model_selection\\_validation.py:598: DataConversionWarning: A column-vector y was passed when a 1d array was expected. Please change the shape of y to (n_samples,), for example using ravel().\n",
      "  estimator.fit(X_train, y_train, **fit_params)\n",
      "C:\\Users\\Sanchitha\\anaconda3\\lib\\site-packages\\sklearn\\model_selection\\_validation.py:598: DataConversionWarning: A column-vector y was passed when a 1d array was expected. Please change the shape of y to (n_samples,), for example using ravel().\n",
      "  estimator.fit(X_train, y_train, **fit_params)\n",
      "C:\\Users\\Sanchitha\\anaconda3\\lib\\site-packages\\sklearn\\model_selection\\_validation.py:598: DataConversionWarning: A column-vector y was passed when a 1d array was expected. Please change the shape of y to (n_samples,), for example using ravel().\n",
      "  estimator.fit(X_train, y_train, **fit_params)\n",
      "C:\\Users\\Sanchitha\\anaconda3\\lib\\site-packages\\sklearn\\model_selection\\_validation.py:598: DataConversionWarning: A column-vector y was passed when a 1d array was expected. Please change the shape of y to (n_samples,), for example using ravel().\n",
      "  estimator.fit(X_train, y_train, **fit_params)\n",
      "C:\\Users\\Sanchitha\\anaconda3\\lib\\site-packages\\sklearn\\model_selection\\_validation.py:598: DataConversionWarning: A column-vector y was passed when a 1d array was expected. Please change the shape of y to (n_samples,), for example using ravel().\n",
      "  estimator.fit(X_train, y_train, **fit_params)\n",
      "C:\\Users\\Sanchitha\\anaconda3\\lib\\site-packages\\sklearn\\model_selection\\_validation.py:598: DataConversionWarning: A column-vector y was passed when a 1d array was expected. Please change the shape of y to (n_samples,), for example using ravel().\n",
      "  estimator.fit(X_train, y_train, **fit_params)\n",
      "C:\\Users\\Sanchitha\\anaconda3\\lib\\site-packages\\sklearn\\model_selection\\_validation.py:598: DataConversionWarning: A column-vector y was passed when a 1d array was expected. Please change the shape of y to (n_samples,), for example using ravel().\n",
      "  estimator.fit(X_train, y_train, **fit_params)\n",
      "C:\\Users\\Sanchitha\\anaconda3\\lib\\site-packages\\sklearn\\model_selection\\_validation.py:598: DataConversionWarning: A column-vector y was passed when a 1d array was expected. Please change the shape of y to (n_samples,), for example using ravel().\n",
      "  estimator.fit(X_train, y_train, **fit_params)\n",
      "C:\\Users\\Sanchitha\\anaconda3\\lib\\site-packages\\sklearn\\model_selection\\_validation.py:598: DataConversionWarning: A column-vector y was passed when a 1d array was expected. Please change the shape of y to (n_samples,), for example using ravel().\n",
      "  estimator.fit(X_train, y_train, **fit_params)\n",
      "C:\\Users\\Sanchitha\\anaconda3\\lib\\site-packages\\sklearn\\model_selection\\_validation.py:598: DataConversionWarning: A column-vector y was passed when a 1d array was expected. Please change the shape of y to (n_samples,), for example using ravel().\n",
      "  estimator.fit(X_train, y_train, **fit_params)\n",
      "C:\\Users\\Sanchitha\\anaconda3\\lib\\site-packages\\sklearn\\model_selection\\_validation.py:598: DataConversionWarning: A column-vector y was passed when a 1d array was expected. Please change the shape of y to (n_samples,), for example using ravel().\n",
      "  estimator.fit(X_train, y_train, **fit_params)\n",
      "C:\\Users\\Sanchitha\\anaconda3\\lib\\site-packages\\sklearn\\model_selection\\_validation.py:598: DataConversionWarning: A column-vector y was passed when a 1d array was expected. Please change the shape of y to (n_samples,), for example using ravel().\n",
      "  estimator.fit(X_train, y_train, **fit_params)\n",
      "C:\\Users\\Sanchitha\\anaconda3\\lib\\site-packages\\sklearn\\model_selection\\_validation.py:598: DataConversionWarning: A column-vector y was passed when a 1d array was expected. Please change the shape of y to (n_samples,), for example using ravel().\n",
      "  estimator.fit(X_train, y_train, **fit_params)\n",
      "C:\\Users\\Sanchitha\\anaconda3\\lib\\site-packages\\sklearn\\model_selection\\_validation.py:598: DataConversionWarning: A column-vector y was passed when a 1d array was expected. Please change the shape of y to (n_samples,), for example using ravel().\n",
      "  estimator.fit(X_train, y_train, **fit_params)\n",
      "C:\\Users\\Sanchitha\\anaconda3\\lib\\site-packages\\sklearn\\model_selection\\_validation.py:598: DataConversionWarning: A column-vector y was passed when a 1d array was expected. Please change the shape of y to (n_samples,), for example using ravel().\n",
      "  estimator.fit(X_train, y_train, **fit_params)\n",
      "C:\\Users\\Sanchitha\\anaconda3\\lib\\site-packages\\sklearn\\model_selection\\_validation.py:598: DataConversionWarning: A column-vector y was passed when a 1d array was expected. Please change the shape of y to (n_samples,), for example using ravel().\n",
      "  estimator.fit(X_train, y_train, **fit_params)\n",
      "C:\\Users\\Sanchitha\\anaconda3\\lib\\site-packages\\sklearn\\model_selection\\_validation.py:598: DataConversionWarning: A column-vector y was passed when a 1d array was expected. Please change the shape of y to (n_samples,), for example using ravel().\n",
      "  estimator.fit(X_train, y_train, **fit_params)\n",
      "C:\\Users\\Sanchitha\\anaconda3\\lib\\site-packages\\sklearn\\model_selection\\_validation.py:598: DataConversionWarning: A column-vector y was passed when a 1d array was expected. Please change the shape of y to (n_samples,), for example using ravel().\n",
      "  estimator.fit(X_train, y_train, **fit_params)\n",
      "C:\\Users\\Sanchitha\\anaconda3\\lib\\site-packages\\sklearn\\model_selection\\_validation.py:598: DataConversionWarning: A column-vector y was passed when a 1d array was expected. Please change the shape of y to (n_samples,), for example using ravel().\n",
      "  estimator.fit(X_train, y_train, **fit_params)\n",
      "C:\\Users\\Sanchitha\\anaconda3\\lib\\site-packages\\sklearn\\model_selection\\_validation.py:598: DataConversionWarning: A column-vector y was passed when a 1d array was expected. Please change the shape of y to (n_samples,), for example using ravel().\n",
      "  estimator.fit(X_train, y_train, **fit_params)\n",
      "C:\\Users\\Sanchitha\\anaconda3\\lib\\site-packages\\sklearn\\model_selection\\_validation.py:598: DataConversionWarning: A column-vector y was passed when a 1d array was expected. Please change the shape of y to (n_samples,), for example using ravel().\n",
      "  estimator.fit(X_train, y_train, **fit_params)\n",
      "C:\\Users\\Sanchitha\\anaconda3\\lib\\site-packages\\sklearn\\model_selection\\_validation.py:598: DataConversionWarning: A column-vector y was passed when a 1d array was expected. Please change the shape of y to (n_samples,), for example using ravel().\n",
      "  estimator.fit(X_train, y_train, **fit_params)\n",
      "C:\\Users\\Sanchitha\\anaconda3\\lib\\site-packages\\sklearn\\model_selection\\_validation.py:598: DataConversionWarning: A column-vector y was passed when a 1d array was expected. Please change the shape of y to (n_samples,), for example using ravel().\n",
      "  estimator.fit(X_train, y_train, **fit_params)\n",
      "C:\\Users\\Sanchitha\\anaconda3\\lib\\site-packages\\sklearn\\model_selection\\_validation.py:598: DataConversionWarning: A column-vector y was passed when a 1d array was expected. Please change the shape of y to (n_samples,), for example using ravel().\n",
      "  estimator.fit(X_train, y_train, **fit_params)\n"
     ]
    },
    {
     "name": "stderr",
     "output_type": "stream",
     "text": [
      "C:\\Users\\Sanchitha\\anaconda3\\lib\\site-packages\\sklearn\\model_selection\\_validation.py:598: DataConversionWarning: A column-vector y was passed when a 1d array was expected. Please change the shape of y to (n_samples,), for example using ravel().\n",
      "  estimator.fit(X_train, y_train, **fit_params)\n",
      "C:\\Users\\Sanchitha\\anaconda3\\lib\\site-packages\\sklearn\\model_selection\\_validation.py:598: DataConversionWarning: A column-vector y was passed when a 1d array was expected. Please change the shape of y to (n_samples,), for example using ravel().\n",
      "  estimator.fit(X_train, y_train, **fit_params)\n",
      "C:\\Users\\Sanchitha\\anaconda3\\lib\\site-packages\\sklearn\\model_selection\\_validation.py:598: DataConversionWarning: A column-vector y was passed when a 1d array was expected. Please change the shape of y to (n_samples,), for example using ravel().\n",
      "  estimator.fit(X_train, y_train, **fit_params)\n",
      "C:\\Users\\Sanchitha\\anaconda3\\lib\\site-packages\\sklearn\\model_selection\\_validation.py:598: DataConversionWarning: A column-vector y was passed when a 1d array was expected. Please change the shape of y to (n_samples,), for example using ravel().\n",
      "  estimator.fit(X_train, y_train, **fit_params)\n",
      "C:\\Users\\Sanchitha\\anaconda3\\lib\\site-packages\\sklearn\\model_selection\\_validation.py:598: DataConversionWarning: A column-vector y was passed when a 1d array was expected. Please change the shape of y to (n_samples,), for example using ravel().\n",
      "  estimator.fit(X_train, y_train, **fit_params)\n",
      "C:\\Users\\Sanchitha\\anaconda3\\lib\\site-packages\\sklearn\\model_selection\\_validation.py:598: DataConversionWarning: A column-vector y was passed when a 1d array was expected. Please change the shape of y to (n_samples,), for example using ravel().\n",
      "  estimator.fit(X_train, y_train, **fit_params)\n",
      "C:\\Users\\Sanchitha\\anaconda3\\lib\\site-packages\\sklearn\\model_selection\\_validation.py:598: DataConversionWarning: A column-vector y was passed when a 1d array was expected. Please change the shape of y to (n_samples,), for example using ravel().\n",
      "  estimator.fit(X_train, y_train, **fit_params)\n",
      "C:\\Users\\Sanchitha\\anaconda3\\lib\\site-packages\\sklearn\\model_selection\\_validation.py:598: DataConversionWarning: A column-vector y was passed when a 1d array was expected. Please change the shape of y to (n_samples,), for example using ravel().\n",
      "  estimator.fit(X_train, y_train, **fit_params)\n",
      "C:\\Users\\Sanchitha\\anaconda3\\lib\\site-packages\\sklearn\\model_selection\\_validation.py:598: DataConversionWarning: A column-vector y was passed when a 1d array was expected. Please change the shape of y to (n_samples,), for example using ravel().\n",
      "  estimator.fit(X_train, y_train, **fit_params)\n",
      "C:\\Users\\Sanchitha\\anaconda3\\lib\\site-packages\\sklearn\\model_selection\\_validation.py:598: DataConversionWarning: A column-vector y was passed when a 1d array was expected. Please change the shape of y to (n_samples,), for example using ravel().\n",
      "  estimator.fit(X_train, y_train, **fit_params)\n",
      "C:\\Users\\Sanchitha\\anaconda3\\lib\\site-packages\\sklearn\\model_selection\\_validation.py:598: DataConversionWarning: A column-vector y was passed when a 1d array was expected. Please change the shape of y to (n_samples,), for example using ravel().\n",
      "  estimator.fit(X_train, y_train, **fit_params)\n",
      "C:\\Users\\Sanchitha\\anaconda3\\lib\\site-packages\\sklearn\\model_selection\\_validation.py:598: DataConversionWarning: A column-vector y was passed when a 1d array was expected. Please change the shape of y to (n_samples,), for example using ravel().\n",
      "  estimator.fit(X_train, y_train, **fit_params)\n",
      "C:\\Users\\Sanchitha\\anaconda3\\lib\\site-packages\\sklearn\\model_selection\\_validation.py:598: DataConversionWarning: A column-vector y was passed when a 1d array was expected. Please change the shape of y to (n_samples,), for example using ravel().\n",
      "  estimator.fit(X_train, y_train, **fit_params)\n",
      "C:\\Users\\Sanchitha\\anaconda3\\lib\\site-packages\\sklearn\\model_selection\\_validation.py:598: DataConversionWarning: A column-vector y was passed when a 1d array was expected. Please change the shape of y to (n_samples,), for example using ravel().\n",
      "  estimator.fit(X_train, y_train, **fit_params)\n",
      "C:\\Users\\Sanchitha\\anaconda3\\lib\\site-packages\\sklearn\\model_selection\\_validation.py:598: DataConversionWarning: A column-vector y was passed when a 1d array was expected. Please change the shape of y to (n_samples,), for example using ravel().\n",
      "  estimator.fit(X_train, y_train, **fit_params)\n",
      "C:\\Users\\Sanchitha\\anaconda3\\lib\\site-packages\\sklearn\\model_selection\\_validation.py:598: DataConversionWarning: A column-vector y was passed when a 1d array was expected. Please change the shape of y to (n_samples,), for example using ravel().\n",
      "  estimator.fit(X_train, y_train, **fit_params)\n",
      "C:\\Users\\Sanchitha\\anaconda3\\lib\\site-packages\\sklearn\\model_selection\\_validation.py:598: DataConversionWarning: A column-vector y was passed when a 1d array was expected. Please change the shape of y to (n_samples,), for example using ravel().\n",
      "  estimator.fit(X_train, y_train, **fit_params)\n",
      "C:\\Users\\Sanchitha\\anaconda3\\lib\\site-packages\\sklearn\\model_selection\\_validation.py:598: DataConversionWarning: A column-vector y was passed when a 1d array was expected. Please change the shape of y to (n_samples,), for example using ravel().\n",
      "  estimator.fit(X_train, y_train, **fit_params)\n",
      "C:\\Users\\Sanchitha\\anaconda3\\lib\\site-packages\\sklearn\\model_selection\\_validation.py:598: DataConversionWarning: A column-vector y was passed when a 1d array was expected. Please change the shape of y to (n_samples,), for example using ravel().\n",
      "  estimator.fit(X_train, y_train, **fit_params)\n",
      "C:\\Users\\Sanchitha\\anaconda3\\lib\\site-packages\\sklearn\\model_selection\\_validation.py:598: DataConversionWarning: A column-vector y was passed when a 1d array was expected. Please change the shape of y to (n_samples,), for example using ravel().\n",
      "  estimator.fit(X_train, y_train, **fit_params)\n",
      "C:\\Users\\Sanchitha\\anaconda3\\lib\\site-packages\\sklearn\\model_selection\\_validation.py:598: DataConversionWarning: A column-vector y was passed when a 1d array was expected. Please change the shape of y to (n_samples,), for example using ravel().\n",
      "  estimator.fit(X_train, y_train, **fit_params)\n",
      "C:\\Users\\Sanchitha\\anaconda3\\lib\\site-packages\\sklearn\\model_selection\\_validation.py:598: DataConversionWarning: A column-vector y was passed when a 1d array was expected. Please change the shape of y to (n_samples,), for example using ravel().\n",
      "  estimator.fit(X_train, y_train, **fit_params)\n",
      "C:\\Users\\Sanchitha\\anaconda3\\lib\\site-packages\\sklearn\\model_selection\\_validation.py:598: DataConversionWarning: A column-vector y was passed when a 1d array was expected. Please change the shape of y to (n_samples,), for example using ravel().\n",
      "  estimator.fit(X_train, y_train, **fit_params)\n",
      "C:\\Users\\Sanchitha\\anaconda3\\lib\\site-packages\\sklearn\\model_selection\\_validation.py:598: DataConversionWarning: A column-vector y was passed when a 1d array was expected. Please change the shape of y to (n_samples,), for example using ravel().\n",
      "  estimator.fit(X_train, y_train, **fit_params)\n",
      "C:\\Users\\Sanchitha\\anaconda3\\lib\\site-packages\\sklearn\\model_selection\\_validation.py:598: DataConversionWarning: A column-vector y was passed when a 1d array was expected. Please change the shape of y to (n_samples,), for example using ravel().\n",
      "  estimator.fit(X_train, y_train, **fit_params)\n",
      "C:\\Users\\Sanchitha\\anaconda3\\lib\\site-packages\\sklearn\\model_selection\\_validation.py:598: DataConversionWarning: A column-vector y was passed when a 1d array was expected. Please change the shape of y to (n_samples,), for example using ravel().\n",
      "  estimator.fit(X_train, y_train, **fit_params)\n",
      "C:\\Users\\Sanchitha\\anaconda3\\lib\\site-packages\\sklearn\\model_selection\\_validation.py:598: DataConversionWarning: A column-vector y was passed when a 1d array was expected. Please change the shape of y to (n_samples,), for example using ravel().\n",
      "  estimator.fit(X_train, y_train, **fit_params)\n",
      "C:\\Users\\Sanchitha\\anaconda3\\lib\\site-packages\\sklearn\\model_selection\\_validation.py:598: DataConversionWarning: A column-vector y was passed when a 1d array was expected. Please change the shape of y to (n_samples,), for example using ravel().\n",
      "  estimator.fit(X_train, y_train, **fit_params)\n",
      "C:\\Users\\Sanchitha\\anaconda3\\lib\\site-packages\\sklearn\\model_selection\\_validation.py:598: DataConversionWarning: A column-vector y was passed when a 1d array was expected. Please change the shape of y to (n_samples,), for example using ravel().\n",
      "  estimator.fit(X_train, y_train, **fit_params)\n",
      "C:\\Users\\Sanchitha\\anaconda3\\lib\\site-packages\\sklearn\\model_selection\\_validation.py:598: DataConversionWarning: A column-vector y was passed when a 1d array was expected. Please change the shape of y to (n_samples,), for example using ravel().\n",
      "  estimator.fit(X_train, y_train, **fit_params)\n"
     ]
    },
    {
     "name": "stderr",
     "output_type": "stream",
     "text": [
      "C:\\Users\\Sanchitha\\anaconda3\\lib\\site-packages\\sklearn\\model_selection\\_validation.py:598: DataConversionWarning: A column-vector y was passed when a 1d array was expected. Please change the shape of y to (n_samples,), for example using ravel().\n",
      "  estimator.fit(X_train, y_train, **fit_params)\n",
      "C:\\Users\\Sanchitha\\anaconda3\\lib\\site-packages\\sklearn\\model_selection\\_validation.py:598: DataConversionWarning: A column-vector y was passed when a 1d array was expected. Please change the shape of y to (n_samples,), for example using ravel().\n",
      "  estimator.fit(X_train, y_train, **fit_params)\n",
      "C:\\Users\\Sanchitha\\anaconda3\\lib\\site-packages\\sklearn\\model_selection\\_validation.py:598: DataConversionWarning: A column-vector y was passed when a 1d array was expected. Please change the shape of y to (n_samples,), for example using ravel().\n",
      "  estimator.fit(X_train, y_train, **fit_params)\n",
      "C:\\Users\\Sanchitha\\anaconda3\\lib\\site-packages\\sklearn\\model_selection\\_validation.py:598: DataConversionWarning: A column-vector y was passed when a 1d array was expected. Please change the shape of y to (n_samples,), for example using ravel().\n",
      "  estimator.fit(X_train, y_train, **fit_params)\n",
      "C:\\Users\\Sanchitha\\anaconda3\\lib\\site-packages\\sklearn\\model_selection\\_validation.py:598: DataConversionWarning: A column-vector y was passed when a 1d array was expected. Please change the shape of y to (n_samples,), for example using ravel().\n",
      "  estimator.fit(X_train, y_train, **fit_params)\n",
      "C:\\Users\\Sanchitha\\anaconda3\\lib\\site-packages\\sklearn\\model_selection\\_validation.py:598: DataConversionWarning: A column-vector y was passed when a 1d array was expected. Please change the shape of y to (n_samples,), for example using ravel().\n",
      "  estimator.fit(X_train, y_train, **fit_params)\n",
      "C:\\Users\\Sanchitha\\anaconda3\\lib\\site-packages\\sklearn\\model_selection\\_validation.py:598: DataConversionWarning: A column-vector y was passed when a 1d array was expected. Please change the shape of y to (n_samples,), for example using ravel().\n",
      "  estimator.fit(X_train, y_train, **fit_params)\n",
      "C:\\Users\\Sanchitha\\anaconda3\\lib\\site-packages\\sklearn\\model_selection\\_validation.py:598: DataConversionWarning: A column-vector y was passed when a 1d array was expected. Please change the shape of y to (n_samples,), for example using ravel().\n",
      "  estimator.fit(X_train, y_train, **fit_params)\n",
      "C:\\Users\\Sanchitha\\anaconda3\\lib\\site-packages\\sklearn\\model_selection\\_validation.py:598: DataConversionWarning: A column-vector y was passed when a 1d array was expected. Please change the shape of y to (n_samples,), for example using ravel().\n",
      "  estimator.fit(X_train, y_train, **fit_params)\n",
      "C:\\Users\\Sanchitha\\anaconda3\\lib\\site-packages\\sklearn\\model_selection\\_validation.py:598: DataConversionWarning: A column-vector y was passed when a 1d array was expected. Please change the shape of y to (n_samples,), for example using ravel().\n",
      "  estimator.fit(X_train, y_train, **fit_params)\n",
      "C:\\Users\\Sanchitha\\anaconda3\\lib\\site-packages\\sklearn\\model_selection\\_validation.py:598: DataConversionWarning: A column-vector y was passed when a 1d array was expected. Please change the shape of y to (n_samples,), for example using ravel().\n",
      "  estimator.fit(X_train, y_train, **fit_params)\n",
      "C:\\Users\\Sanchitha\\anaconda3\\lib\\site-packages\\sklearn\\model_selection\\_validation.py:598: DataConversionWarning: A column-vector y was passed when a 1d array was expected. Please change the shape of y to (n_samples,), for example using ravel().\n",
      "  estimator.fit(X_train, y_train, **fit_params)\n",
      "C:\\Users\\Sanchitha\\anaconda3\\lib\\site-packages\\sklearn\\model_selection\\_validation.py:598: DataConversionWarning: A column-vector y was passed when a 1d array was expected. Please change the shape of y to (n_samples,), for example using ravel().\n",
      "  estimator.fit(X_train, y_train, **fit_params)\n",
      "C:\\Users\\Sanchitha\\anaconda3\\lib\\site-packages\\sklearn\\model_selection\\_validation.py:598: DataConversionWarning: A column-vector y was passed when a 1d array was expected. Please change the shape of y to (n_samples,), for example using ravel().\n",
      "  estimator.fit(X_train, y_train, **fit_params)\n",
      "C:\\Users\\Sanchitha\\anaconda3\\lib\\site-packages\\sklearn\\model_selection\\_validation.py:598: DataConversionWarning: A column-vector y was passed when a 1d array was expected. Please change the shape of y to (n_samples,), for example using ravel().\n",
      "  estimator.fit(X_train, y_train, **fit_params)\n",
      "C:\\Users\\Sanchitha\\anaconda3\\lib\\site-packages\\sklearn\\model_selection\\_validation.py:598: DataConversionWarning: A column-vector y was passed when a 1d array was expected. Please change the shape of y to (n_samples,), for example using ravel().\n",
      "  estimator.fit(X_train, y_train, **fit_params)\n",
      "C:\\Users\\Sanchitha\\anaconda3\\lib\\site-packages\\sklearn\\model_selection\\_validation.py:598: DataConversionWarning: A column-vector y was passed when a 1d array was expected. Please change the shape of y to (n_samples,), for example using ravel().\n",
      "  estimator.fit(X_train, y_train, **fit_params)\n",
      "C:\\Users\\Sanchitha\\anaconda3\\lib\\site-packages\\sklearn\\model_selection\\_validation.py:598: DataConversionWarning: A column-vector y was passed when a 1d array was expected. Please change the shape of y to (n_samples,), for example using ravel().\n",
      "  estimator.fit(X_train, y_train, **fit_params)\n",
      "C:\\Users\\Sanchitha\\anaconda3\\lib\\site-packages\\sklearn\\model_selection\\_validation.py:598: DataConversionWarning: A column-vector y was passed when a 1d array was expected. Please change the shape of y to (n_samples,), for example using ravel().\n",
      "  estimator.fit(X_train, y_train, **fit_params)\n",
      "C:\\Users\\Sanchitha\\anaconda3\\lib\\site-packages\\sklearn\\model_selection\\_validation.py:598: DataConversionWarning: A column-vector y was passed when a 1d array was expected. Please change the shape of y to (n_samples,), for example using ravel().\n",
      "  estimator.fit(X_train, y_train, **fit_params)\n",
      "C:\\Users\\Sanchitha\\anaconda3\\lib\\site-packages\\sklearn\\model_selection\\_validation.py:598: DataConversionWarning: A column-vector y was passed when a 1d array was expected. Please change the shape of y to (n_samples,), for example using ravel().\n",
      "  estimator.fit(X_train, y_train, **fit_params)\n",
      "C:\\Users\\Sanchitha\\anaconda3\\lib\\site-packages\\sklearn\\model_selection\\_validation.py:598: DataConversionWarning: A column-vector y was passed when a 1d array was expected. Please change the shape of y to (n_samples,), for example using ravel().\n",
      "  estimator.fit(X_train, y_train, **fit_params)\n",
      "C:\\Users\\Sanchitha\\anaconda3\\lib\\site-packages\\sklearn\\model_selection\\_validation.py:598: DataConversionWarning: A column-vector y was passed when a 1d array was expected. Please change the shape of y to (n_samples,), for example using ravel().\n",
      "  estimator.fit(X_train, y_train, **fit_params)\n",
      "C:\\Users\\Sanchitha\\anaconda3\\lib\\site-packages\\sklearn\\model_selection\\_validation.py:598: DataConversionWarning: A column-vector y was passed when a 1d array was expected. Please change the shape of y to (n_samples,), for example using ravel().\n",
      "  estimator.fit(X_train, y_train, **fit_params)\n",
      "C:\\Users\\Sanchitha\\anaconda3\\lib\\site-packages\\sklearn\\model_selection\\_validation.py:598: DataConversionWarning: A column-vector y was passed when a 1d array was expected. Please change the shape of y to (n_samples,), for example using ravel().\n",
      "  estimator.fit(X_train, y_train, **fit_params)\n",
      "C:\\Users\\Sanchitha\\anaconda3\\lib\\site-packages\\sklearn\\model_selection\\_validation.py:598: DataConversionWarning: A column-vector y was passed when a 1d array was expected. Please change the shape of y to (n_samples,), for example using ravel().\n",
      "  estimator.fit(X_train, y_train, **fit_params)\n",
      "C:\\Users\\Sanchitha\\anaconda3\\lib\\site-packages\\sklearn\\model_selection\\_validation.py:598: DataConversionWarning: A column-vector y was passed when a 1d array was expected. Please change the shape of y to (n_samples,), for example using ravel().\n",
      "  estimator.fit(X_train, y_train, **fit_params)\n",
      "C:\\Users\\Sanchitha\\anaconda3\\lib\\site-packages\\sklearn\\model_selection\\_validation.py:598: DataConversionWarning: A column-vector y was passed when a 1d array was expected. Please change the shape of y to (n_samples,), for example using ravel().\n",
      "  estimator.fit(X_train, y_train, **fit_params)\n",
      "C:\\Users\\Sanchitha\\anaconda3\\lib\\site-packages\\sklearn\\model_selection\\_validation.py:598: DataConversionWarning: A column-vector y was passed when a 1d array was expected. Please change the shape of y to (n_samples,), for example using ravel().\n",
      "  estimator.fit(X_train, y_train, **fit_params)\n",
      "C:\\Users\\Sanchitha\\anaconda3\\lib\\site-packages\\sklearn\\model_selection\\_validation.py:598: DataConversionWarning: A column-vector y was passed when a 1d array was expected. Please change the shape of y to (n_samples,), for example using ravel().\n",
      "  estimator.fit(X_train, y_train, **fit_params)\n",
      "C:\\Users\\Sanchitha\\anaconda3\\lib\\site-packages\\sklearn\\model_selection\\_search.py:880: DataConversionWarning: A column-vector y was passed when a 1d array was expected. Please change the shape of y to (n_samples,), for example using ravel().\n",
      "  self.best_estimator_.fit(X, y, **fit_params)\n"
     ]
    },
    {
     "data": {
      "text/plain": [
       "GridSearchCV(cv=10,\n",
       "             estimator=RandomForestClassifier(n_estimators=10, random_state=42),\n",
       "             param_grid=[{'criterion': ['gini'],\n",
       "                          'min_samples_leaf': [1, 2, 3, 4],\n",
       "                          'min_samples_split': [2, 3, 4]}],\n",
       "             scoring='accuracy')"
      ]
     },
     "execution_count": 133,
     "metadata": {},
     "output_type": "execute_result"
    }
   ],
   "source": [
    "model = RandomForestClassifier(n_estimators=10,random_state=42)\n",
    "parameter = [{'criterion':['gini'],'min_samples_split':[2,3,4],'min_samples_leaf':[1,2,3,4]}]\n",
    "grid_search_rf = GridSearchCV(estimator=model,param_grid=parameter,scoring='accuracy',cv=10)\n",
    "grid_search_rf.fit(X_train,y_train)"
   ]
  },
  {
   "cell_type": "code",
   "execution_count": 134,
   "metadata": {},
   "outputs": [
    {
     "data": {
      "text/plain": [
       "RandomForestClassifier(min_samples_leaf=2, n_estimators=10, random_state=42)"
      ]
     },
     "execution_count": 134,
     "metadata": {},
     "output_type": "execute_result"
    }
   ],
   "source": [
    "grid_search_rf.best_estimator_"
   ]
  },
  {
   "cell_type": "code",
   "execution_count": 135,
   "metadata": {},
   "outputs": [
    {
     "data": {
      "text/plain": [
       "0.6770082999851785"
      ]
     },
     "execution_count": 135,
     "metadata": {},
     "output_type": "execute_result"
    }
   ],
   "source": [
    "grid_search_rf.best_score_"
   ]
  },
  {
   "cell_type": "code",
   "execution_count": null,
   "metadata": {},
   "outputs": [],
   "source": []
  },
  {
   "cell_type": "code",
   "execution_count": null,
   "metadata": {},
   "outputs": [],
   "source": []
  }
 ],
 "metadata": {
  "kernelspec": {
   "display_name": "Python 3",
   "language": "python",
   "name": "python3"
  },
  "language_info": {
   "codemirror_mode": {
    "name": "ipython",
    "version": 3
   },
   "file_extension": ".py",
   "mimetype": "text/x-python",
   "name": "python",
   "nbconvert_exporter": "python",
   "pygments_lexer": "ipython3",
   "version": "3.7.10"
  }
 },
 "nbformat": 4,
 "nbformat_minor": 2
}
